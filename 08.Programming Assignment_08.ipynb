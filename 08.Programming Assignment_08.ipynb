{
  "metadata": {
    "language_info": {
      "name": ""
    },
    "kernelspec": {
      "name": "python",
      "display_name": "Python (Pyodide)",
      "language": "python"
    }
  },
  "nbformat_minor": 4,
  "nbformat": 4,
  "cells": [
    {
      "cell_type": "markdown",
      "source": "## Assignment 8 Solutions",
      "metadata": {}
    },
    {
      "cell_type": "markdown",
      "source": "##### 1. Write a Python Program to Add two Matrices ?",
      "metadata": {}
    },
    {
      "cell_type": "code",
      "source": "def addMatrices(a,b):\n    print(f'Inputs: {a},{b}')\n    if len(a) == len(b):\n        out_matrix = []\n        for ele in range(len(a)):\n            if len(a[ele]) == len(b[ele]):\n                out_matrix.append([])\n                for sub_ele in range(len(a[ele])):\n                    out_matrix[ele].append(a[ele][sub_ele]+b[ele][sub_ele])\n            else:\n                print('Both Matrices must contains same no of rows and columns') \n    else:\n        print('Both Matrices must contains same no of rows and columns')\n    print(f'Output: {out_matrix}')\n\naddMatrices([[1,2,3],[4,5,6],[7,8,9]],[[9,8,7],[6,5,4],[3,2,1]])\naddMatrices([[2,3,5],[1,1,1],[2,2,2]],[[4,3,5],[1,2,3],[3,2,1]])",
      "metadata": {},
      "execution_count": null,
      "outputs": []
    },
    {
      "cell_type": "markdown",
      "source": "Inputs: [[1, 2, 3], [4, 5, 6], [7, 8, 9]],[[9, 8, 7], [6, 5, 4], [3, 2, 1]]\nOutput: [[10, 10, 10], [10, 10, 10], [10, 10, 10]]\nInputs: [[2, 3, 5], [1, 1, 1], [2, 2, 2]],[[4, 3, 5], [1, 2, 3], [3, 2, 1]]\nOutput: [[6, 6, 10], [2, 3, 4], [5, 4, 3]]",
      "metadata": {}
    },
    {
      "cell_type": "markdown",
      "source": "##### 2. Write a Python Program to Multiply two Matrices ?",
      "metadata": {}
    },
    {
      "cell_type": "code",
      "source": "a = [[1,2,3],[4,5,6],[7,8,9]]\nb = [[1,4,7],[2,5,8],[3,6,9]]\n\ndef multiply_matrice(a,b):\n    output = []\n    if len(a[0]) == len(b):\n        for ele in range(len(a[0])):\n            output.append([0 for ele in range(len(b[0]))])\n        for i in range(len(a)):\n            for j in range(len(b[0])):\n                for k in range(len(b)):\n                    output[i][j] += a[i][k]*b[k][j]\n        print(output)     \n    else:\n        print('Matrix Multiplication is Not Possible')\n        \nmultiply_matrice(a,b)",
      "metadata": {},
      "execution_count": null,
      "outputs": []
    },
    {
      "cell_type": "markdown",
      "source": "[[14, 32, 50], [32, 77, 122], [50, 122, 194]]",
      "metadata": {}
    },
    {
      "cell_type": "markdown",
      "source": "##### 3. Write a Python Program to transpose a Matrix ?",
      "metadata": {}
    },
    {
      "cell_type": "code",
      "source": "a = [[1,2,3],[4,5,6],[7,8,9]]\nb = [[1,2],[4,5],[7,8]]\nc = [[1,2,3],[4,5,6]]\n\ndef generate_transpose(in_matrix):\n    out_matrix = []\n    for ele in range(len(in_matrix[0])):\n        out_matrix.append([0 for i in range(len(in_matrix))])\n    for i in range(len(in_matrix)):\n        for j in range(len(in_matrix[i])):\n            out_matrix[j][i] = in_matrix[i][j]\n    print(f'{in_matrix} -> {out_matrix}')\n        \ngenerate_transpose(a)\ngenerate_transpose(b)\ngenerate_transpose(c)",
      "metadata": {},
      "execution_count": null,
      "outputs": []
    },
    {
      "cell_type": "markdown",
      "source": "[[1, 2, 3], [4, 5, 6], [7, 8, 9]] -> [[1, 4, 7], [2, 5, 8], [3, 6, 9]]\n[[1, 2], [4, 5], [7, 8]] -> [[1, 4, 7], [2, 5, 8]]\n[[1, 2, 3], [4, 5, 6]] -> [[1, 4], [2, 5], [3, 6]]",
      "metadata": {}
    },
    {
      "cell_type": "markdown",
      "source": "##### 4. Write a Python Program to sort Words in an Alphabatical Order ?",
      "metadata": {}
    },
    {
      "cell_type": "code",
      "source": "def sortString():\n    in_string = input(\"Enter a String: \").title()\n    sorted_list = sorted(in_string.split(' '))\n    print(' '.join(sorted_list))\n\nsortString()",
      "metadata": {},
      "execution_count": null,
      "outputs": []
    },
    {
      "cell_type": "markdown",
      "source": "Enter a String: Ineuron Full Stack Data Sciecne\nData Full Ineuron Sciecne Stack",
      "metadata": {}
    },
    {
      "cell_type": "markdown",
      "source": "##### 5. Write a Python Program to remove Punctuations From a String ?",
      "metadata": {}
    },
    {
      "cell_type": "code",
      "source": "def removePunctuatuions():\n    punctuations = '''!()-[]{};:'\"\\,<>./?@#$%^&*_~'''\n    in_string = input('Enter a String: ')\n    out_string = ''\n    for ele in in_string:\n        if ele not in punctuations:\n            out_string += ele\n    print(out_string)\n    \nremovePunctuatuions()",
      "metadata": {},
      "execution_count": null,
      "outputs": []
    },
    {
      "cell_type": "markdown",
      "source": "Enter a String: \"Full Stacks DS\" @ Ineuron \nFull Stacks DS  Ineuron ",
      "metadata": {}
    }
  ]
}