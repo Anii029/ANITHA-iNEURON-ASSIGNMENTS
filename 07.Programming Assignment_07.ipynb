{
  "metadata": {
    "language_info": {
      "name": ""
    },
    "kernelspec": {
      "name": "python",
      "display_name": "Python (Pyodide)",
      "language": "python"
    }
  },
  "nbformat_minor": 4,
  "nbformat": 4,
  "cells": [
    {
      "cell_type": "markdown",
      "source": "# Assignment 7 Solutions",
      "metadata": {}
    },
    {
      "cell_type": "markdown",
      "source": "##### 1. Write a Python Program to find sum of Array ?",
      "metadata": {}
    },
    {
      "cell_type": "code",
      "source": "def sumOfArray():\n    in_arr = eval(input(\"Enter the Array: \"))\n    print(f'The sum of {in_arr} is {sum(in_arr)}')\n\nsumOfArray()",
      "metadata": {},
      "execution_count": null,
      "outputs": []
    },
    {
      "cell_type": "markdown",
      "source": "Enter the Array: [1,2,3,4,5]\n[1, 2, 3, 4, 5] <class 'list'>\nThe sum of [1, 2, 3, 4, 5] is 15",
      "metadata": {}
    },
    {
      "cell_type": "markdown",
      "source": "##### 2. Write a Python Program to find Largest element in an Array ?",
      "metadata": {}
    },
    {
      "cell_type": "code",
      "source": "def largestElement():\n    in_arr = eval(input(\"Enter the Array: \"))\n    print(f\"The Largest Element in {in_arr} is {sorted(in_arr, reverse=True)[0]}\")\n    \nlargestElement()",
      "metadata": {},
      "execution_count": null,
      "outputs": []
    },
    {
      "cell_type": "markdown",
      "source": "Enter the Array: [1,2,3,4,5]\nThe Largest Element in [1, 2, 3, 4, 5] is 5",
      "metadata": {}
    },
    {
      "cell_type": "markdown",
      "source": "##### 3. Write a Python Program for array rotation ?",
      "metadata": {}
    },
    {
      "cell_type": "code",
      "source": "def reverseOfArray():\n    in_arr = eval(input(\"Enter the Array: \"))\n    print(f\"The Reverse of Array {in_arr} is {in_arr[::-1]}\")\n    \nreverseOfArray()",
      "metadata": {},
      "execution_count": null,
      "outputs": []
    },
    {
      "cell_type": "markdown",
      "source": "Enter the Array: [12,16,11,13,30]\nThe Reverse of Array [12, 16, 11, 13, 30] is [30, 13, 11, 16, 12]",
      "metadata": {}
    },
    {
      "cell_type": "markdown",
      "source": "##### 4. Write a Python Program to Split the array and add the first part to the end ?",
      "metadata": {}
    },
    {
      "cell_type": "code",
      "source": "def sumOfSplits():\n    in_arr = eval(input(\"Enter the Array: \"))\n    print(f\"The Sum of First and Last Elements of Array {in_arr} is {in_arr[0]+in_arr[-1]}\")\n    \nsumOfSplits()",
      "metadata": {},
      "execution_count": null,
      "outputs": []
    },
    {
      "cell_type": "markdown",
      "source": "Enter the Array: [10,13,14,9,18]\nThe Sum of First and Last Elements of Array [10, 13, 14, 9, 18] is 28",
      "metadata": {}
    },
    {
      "cell_type": "markdown",
      "source": "##### 5. Write a Python Program to check if given array is Monotonic ?",
      "metadata": {}
    },
    {
      "cell_type": "code",
      "source": "def checkMonotonic():\n    in_arr = eval(input(\"Enter the Array: \"))\n    if(all(in_arr[i]<=in_arr[i+1] for i in range(len(in_arr)-1)) or all(in_arr[i]>=in_arr[i+1] for i in range(len(in_arr)-1))):\n        print(f'Array {in_arr} is Monotonic')\n    else:\n        print(f'Array {in_arr} is Not Monotonic')\n\ncheckMonotonic()\ncheckMonotonic()",
      "metadata": {},
      "execution_count": null,
      "outputs": []
    },
    {
      "cell_type": "markdown",
      "source": "Enter the Array: [1,2,3,4,5]\nArray [1, 2, 3, 4, 5] is Monotonic\nEnter the Array: 4,2,4,5,6,1\nArray (4, 2, 4, 5, 6, 1) is Not Monotonic",
      "metadata": {}
    }
  ]
}