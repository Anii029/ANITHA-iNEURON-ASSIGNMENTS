{
  "metadata": {
    "language_info": {
      "codemirror_mode": {
        "name": "python",
        "version": 3
      },
      "file_extension": ".py",
      "mimetype": "text/x-python",
      "name": "python",
      "nbconvert_exporter": "python",
      "pygments_lexer": "ipython3",
      "version": "3.8"
    },
    "kernelspec": {
      "name": "python",
      "display_name": "Python (Pyodide)",
      "language": "python"
    }
  },
  "nbformat_minor": 4,
  "nbformat": 4,
  "cells": [
    {
      "cell_type": "code",
      "source": "1. What exactly is []?\nans: the empty list represented by [] is a list that contains no items.this is similar to '' which represents an empty string.\n",
      "metadata": {},
      "execution_count": null,
      "outputs": []
    },
    {
      "cell_type": "code",
      "source": "2. In a list of values stored in a variable called spam, how would you assign the value 'hello' as the\nthird value? (Assume [2, 4, 6, 8, 10] are in spam.)\nans: spam[2]='hello'",
      "metadata": {},
      "execution_count": null,
      "outputs": []
    },
    {
      "cell_type": "code",
      "source": "spam=[2,4,6,8,10]\nprint(spam)\nspam[2]='hello'\nprint(spam)",
      "metadata": {
        "trusted": true
      },
      "execution_count": 5,
      "outputs": [
        {
          "name": "stdout",
          "text": "[2, 4, 6, 8, 10]\n[2, 4, 'hello', 8, 10]\n",
          "output_type": "stream"
        }
      ]
    },
    {
      "cell_type": "code",
      "source": "Let's pretend the spam includes the list ['a', 'b', 'c', 'd'] for the next three queries.\n3. What is the value of spam[int(int('3' * 2) / 11)]?\nans: 'd' i.e.,spam[3] is equal to d.",
      "metadata": {},
      "execution_count": null,
      "outputs": []
    },
    {
      "cell_type": "code",
      "source": "spam=['a','b','c','d']\nprint(\"spam[int(int('3'*2)/11]\")",
      "metadata": {
        "trusted": true
      },
      "execution_count": 11,
      "outputs": [
        {
          "name": "stdout",
          "text": "spam[int(int('3'*2)/11]\n",
          "output_type": "stream"
        }
      ]
    },
    {
      "cell_type": "code",
      "source": "4. What is the value of spam[-1]?\nans: d",
      "metadata": {},
      "execution_count": null,
      "outputs": []
    },
    {
      "cell_type": "code",
      "source": "spam=['a','b','c','d']\nprint('spam[-1]')",
      "metadata": {
        "trusted": true
      },
      "execution_count": 12,
      "outputs": [
        {
          "name": "stdout",
          "text": "spam[-1]\n",
          "output_type": "stream"
        }
      ]
    },
    {
      "cell_type": "code",
      "source": "5. What is the value of spam[:2]?\nans: it returns all elements in the list spam from 0 to 2 ,excluding 2.",
      "metadata": {},
      "execution_count": null,
      "outputs": []
    },
    {
      "cell_type": "code",
      "source": "print(spam)\nprint(spam[:2])",
      "metadata": {
        "trusted": true
      },
      "execution_count": 13,
      "outputs": [
        {
          "name": "stdout",
          "text": "['a', 'b', 'c', 'd']\n['a', 'b']\n",
          "output_type": "stream"
        }
      ]
    },
    {
      "cell_type": "code",
      "source": "Let,s pretend bacon has the list [3.14,'cat', 11,'cat', True] for the next three questions.",
      "metadata": {},
      "execution_count": null,
      "outputs": []
    },
    {
      "cell_type": "code",
      "source": "6. What is the value of bacon.index('cat')?\nans: the value of bacon.index('cat') is 1\n  (it returns index of first occurence of 'cat')",
      "metadata": {},
      "execution_count": null,
      "outputs": []
    },
    {
      "cell_type": "code",
      "source": "bacon=[3.14,'cat', 11,'cat', True] \nprint(\"bacon.index('cat')\")\n",
      "metadata": {
        "trusted": true
      },
      "execution_count": 16,
      "outputs": [
        {
          "name": "stdout",
          "text": "bacon.index('cat')\n",
          "output_type": "stream"
        }
      ]
    },
    {
      "cell_type": "code",
      "source": "7. How does bacon.append(99) change the look of the list value in bacon?\nans: the append method adds new elements to the end of the list.\n",
      "metadata": {},
      "execution_count": null,
      "outputs": []
    },
    {
      "cell_type": "code",
      "source": "print(bacon)\nbacon.append(99)\nprint(bacon)",
      "metadata": {
        "trusted": true
      },
      "execution_count": 27,
      "outputs": [
        {
          "name": "stdout",
          "text": "[3.14, 'cat', 11, 'cat', True]\n[3.14, 'cat', 11, 'cat', True, 99]\n",
          "output_type": "stream"
        }
      ]
    },
    {
      "cell_type": "code",
      "source": "8. How does bacon.remove('cat') change the look of the list in bacon?\nans:the remove method removes the first occurence of the element in the list.",
      "metadata": {},
      "execution_count": null,
      "outputs": []
    },
    {
      "cell_type": "code",
      "source": "print(bacon)\nbacon.remove('cat')\nprint(bacon)",
      "metadata": {
        "trusted": true
      },
      "execution_count": 28,
      "outputs": [
        {
          "name": "stdout",
          "text": "[3.14, 'cat', 11, 'cat', True, 99]\n[3.14, 11, 'cat', True, 99]\n",
          "output_type": "stream"
        }
      ]
    },
    {
      "cell_type": "code",
      "source": "9. What are the list concatenation and list replication operators?\nans: the list concatenations and replication operators are + and *.",
      "metadata": {},
      "execution_count": null,
      "outputs": []
    },
    {
      "cell_type": "code",
      "source": "10. What is difference between the list methods append() and insert()?\nans:append() will add values only to the end of list while insert() can add values anywhere in the list. ",
      "metadata": {},
      "execution_count": null,
      "outputs": []
    },
    {
      "cell_type": "code",
      "source": "11. What are the two methods for removing items from a list?\nans: the del statement and the remove() are the two methods for removing items from a list.",
      "metadata": {},
      "execution_count": null,
      "outputs": []
    },
    {
      "cell_type": "code",
      "source": "12. Describe how list values and string values are identical.\nans Both lists and strings can be passed  to len(),have indexes and slices, \n    be used in for loops,be concatenated or replicated and be used with the in and not in operators.",
      "metadata": {},
      "execution_count": null,
      "outputs": []
    },
    {
      "cell_type": "code",
      "source": "13. What's the difference between tuples and lists?\nans: Lists are Mutable,Indexable and Slicable.they can have values added,removed or changed.\n     Tuples are Immutable but Indexable and Slicable. the tuple values cannot be changed at all.\n     Tuples are represented using parantheses,(), while lists use the square brackets,[].",
      "metadata": {},
      "execution_count": null,
      "outputs": []
    },
    {
      "cell_type": "code",
      "source": "14.How do you type a tuple value that only contains the integer 42?\nans: (42,).\n     here comma is mandatory otherwise its considered as a int by python interpreter.",
      "metadata": {},
      "execution_count": null,
      "outputs": []
    },
    {
      "cell_type": "code",
      "source": "tup1=(42)\ntup2=(42,)\nprint(type(tup1))\nprint(type(tup2))",
      "metadata": {
        "trusted": true
      },
      "execution_count": 29,
      "outputs": [
        {
          "name": "stdout",
          "text": "<class 'int'>\n<class 'tuple'>\n",
          "output_type": "stream"
        }
      ]
    },
    {
      "cell_type": "code",
      "source": "15. How do you get a list value's tuple form? How do you get a tuple value&#39;s list form?\nans: the tuple() and list() are used to convert a list to tuple and viceversa",
      "metadata": {},
      "execution_count": null,
      "outputs": []
    },
    {
      "cell_type": "code",
      "source": "16. Variables that 'contain' list values are not necessarily lists themselves. Instead, what do they\ncontain?\nans:they contain references to list values.",
      "metadata": {},
      "execution_count": null,
      "outputs": []
    },
    {
      "cell_type": "code",
      "source": "17. How do you distinguish between copy.copy() and copy.deepcopy()?\nans: the copy.copy() function will do a shallow copy of a list,while the copy.deepcopy() function will do a deep copy of a list.\n    which means only copy.deepcopy()  will duplicate any lists inside the list.",
      "metadata": {},
      "execution_count": null,
      "outputs": []
    },
    {
      "cell_type": "code",
      "source": "",
      "metadata": {},
      "execution_count": null,
      "outputs": []
    }
  ]
}