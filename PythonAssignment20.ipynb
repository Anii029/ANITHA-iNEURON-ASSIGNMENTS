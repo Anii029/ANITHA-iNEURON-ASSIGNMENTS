{
  "metadata": {
    "language_info": {
      "name": ""
    },
    "kernelspec": {
      "name": "python",
      "display_name": "Python (Pyodide)",
      "language": "python"
    }
  },
  "nbformat_minor": 4,
  "nbformat": 4,
  "cells": [
    {
      "cell_type": "code",
      "source": "1. Set the variable test1 to the string 'This is a test of the emergency text system', and save test1 to a\nfile named test.txt.",
      "metadata": {},
      "execution_count": null,
      "outputs": []
    },
    {
      "cell_type": "code",
      "source": " test1 ='This is a test of the emergency text system'\n print(test1)\n With open('test.txt','w') as file:\n     file.write(test1)\n     file.close()\n \n   ",
      "metadata": {
        "trusted": true
      },
      "execution_count": null,
      "outputs": []
    },
    {
      "cell_type": "code",
      "source": "! type test.txt",
      "metadata": {
        "trusted": true
      },
      "execution_count": null,
      "outputs": []
    },
    {
      "cell_type": "code",
      "source": "2. Read the contents of the file test.txt into the variable test2. Is there a difference between test 1\nand test 2?",
      "metadata": {},
      "execution_count": null,
      "outputs": []
    },
    {
      "cell_type": "code",
      "source": "With open('test.txt','r') as file:\n     test2=file.read()\nprint(test2)\nprint(test1==test2)\n",
      "metadata": {
        "trusted": true
      },
      "execution_count": null,
      "outputs": []
    },
    {
      "cell_type": "code",
      "source": "3. Create a CSV file called books.csv by using these lines:\ntitle,author,year\nThe Weirdstone of Brisingamen,Alan Garner,1960\nPerdido Street Station,China Miéville,2000\nThud!,Terry Pratchett,2005\nThe Spellman Files,Lisa Lutz,2007\nSmall Gods,Terry Pratchett,1992",
      "metadata": {},
      "execution_count": null,
      "outputs": []
    },
    {
      "cell_type": "code",
      "source": "data=''' title,author,year\nThe Weirdstone of Brisingamen,Alan Garner,1960\nPerdido Street Station,China Miéville,2000\nThud!,Terry Pratchett,2005\nThe Spellman Files,Lisa Lutz,2007\nSmall Gods,Terry Pratchett,1992'''\n\nWith open('books.csv','w') as file:\n   file.write(data)",
      "metadata": {
        "trusted": true
      },
      "execution_count": null,
      "outputs": []
    },
    {
      "cell_type": "code",
      "source": "4. Use the sqlite3 module to create a SQLite database called books.db, and a table called books with\nthese fields: title (text), author (text), and year (integer).",
      "metadata": {},
      "execution_count": null,
      "outputs": []
    },
    {
      "cell_type": "code",
      "source": "import sqlite3\ndb=sqlite3.connect('books.db')\ncursor = db.cursor()\ncursor.execute('create table books(title text,author text,year int)')\ndb.commit()\ndb.close()",
      "metadata": {
        "trusted": true
      },
      "execution_count": null,
      "outputs": []
    },
    {
      "cell_type": "code",
      "source": "5. Read books.csv and insert its data into the book table.",
      "metadata": {},
      "execution_count": null,
      "outputs": []
    },
    {
      "cell_type": "code",
      "source": "import sqlite3\nimport csv\nconn=sqlite3.connect('books.db')\ncursor=conn.cursor()\nWith open('books.csv','r') as file:\n     books=csv.DictReader(file)\n     for book in books:\n         cursor.execute('insert into books values')\nconn.commit()\nconn.close()",
      "metadata": {
        "trusted": true
      },
      "execution_count": null,
      "outputs": []
    },
    {
      "cell_type": "code",
      "source": "6. Select and print the title column from the book table in alphabetical order.",
      "metadata": {},
      "execution_count": null,
      "outputs": []
    },
    {
      "cell_type": "code",
      "source": "import sqlite3\nconn=sqlite3.connect('books.db')\ncursor=conn.cursor()\noutput=cursor.execute('select title from books order by title ASC')\nfor ele in output:\n     print(ele[0])\nconn.commit()\nconn.close()",
      "metadata": {},
      "execution_count": null,
      "outputs": []
    },
    {
      "cell_type": "code",
      "source": "7. From the book table, select and print all columns in the order of publication.",
      "metadata": {},
      "execution_count": null,
      "outputs": []
    },
    {
      "cell_type": "code",
      "source": "import sqlite3\nconn=sqlite3.connect('books.db')\ncursor=conn.cursor()\noutput=cursor.execute('select *from books order by year')\nfor record in output:\n    print(record)",
      "metadata": {
        "trusted": true
      },
      "execution_count": null,
      "outputs": []
    },
    {
      "cell_type": "code",
      "source": "8. Use the sqlalchemy module to connect to the sqlite3 database books.db that you just made in\nexercise 6.",
      "metadata": {},
      "execution_count": null,
      "outputs": []
    },
    {
      "cell_type": "code",
      "source": "import sqlalchemy\nconn=sqlalchemy.create_engine('sqlite:///books.db')\nconn",
      "metadata": {},
      "execution_count": null,
      "outputs": []
    },
    {
      "cell_type": "code",
      "source": "9. Install the Redis server and the Python redis library (pip install redis) on your computer. Create a\nRedis hash called test with the fields count (1) and name (&#39;Fester Bestertester&#39;). Print all the fields for\ntest.",
      "metadata": {},
      "execution_count": null,
      "outputs": []
    },
    {
      "cell_type": "code",
      "source": "! python -m pip install redis",
      "metadata": {},
      "execution_count": null,
      "outputs": []
    },
    {
      "cell_type": "code",
      "source": "import redis\nconn=redis.Redis()\nconn.hset('test',{}\n      'count':1,\n      'name':'Fester Bestertester'\n      \n})\nconn.hgetall('test')",
      "metadata": {},
      "execution_count": null,
      "outputs": []
    },
    {
      "cell_type": "code",
      "source": "10. Increment the count field of test and print it.",
      "metadata": {},
      "execution_count": null,
      "outputs": []
    },
    {
      "cell_type": "code",
      "source": "conn.hincrby('test','count',1)\nconn.hget('test','count')",
      "metadata": {},
      "execution_count": null,
      "outputs": []
    },
    {
      "cell_type": "code",
      "source": "",
      "metadata": {},
      "execution_count": null,
      "outputs": []
    }
  ]
}