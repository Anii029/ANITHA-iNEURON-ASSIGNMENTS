{
  "metadata": {
    "language_info": {
      "codemirror_mode": {
        "name": "python",
        "version": 3
      },
      "file_extension": ".py",
      "mimetype": "text/x-python",
      "name": "python",
      "nbconvert_exporter": "python",
      "pygments_lexer": "ipython3",
      "version": "3.8"
    },
    "kernelspec": {
      "name": "python",
      "display_name": "Python (Pyodide)",
      "language": "python"
    }
  },
  "nbformat_minor": 4,
  "nbformat": 4,
  "cells": [
    {
      "cell_type": "code",
      "source": "1. Add the current date to the text file today.txt as a string.",
      "metadata": {},
      "execution_count": null,
      "outputs": []
    },
    {
      "cell_type": "code",
      "source": "import datetime\nfile=open('today.txt','w')\nfile.write(datetime.datetime.now().strftime('%d-%m-%Y'))\nfile.close()\nfile=open('today.txt','r')\nprint(file.read())\nfile.close()",
      "metadata": {},
      "execution_count": null,
      "outputs": []
    },
    {
      "cell_type": "code",
      "source": "2. Read the text file today.txt into the string today_string\n",
      "metadata": {},
      "execution_count": null,
      "outputs": []
    },
    {
      "cell_type": "code",
      "source": "file=open('today.txt','r')\ntoday_string=file.read()\nprint(today_string)\n",
      "metadata": {},
      "execution_count": null,
      "outputs": []
    },
    {
      "cell_type": "code",
      "source": "3. Parse the date from today_string.",
      "metadata": {},
      "execution_count": null,
      "outputs": []
    },
    {
      "cell_type": "code",
      "source": "from datetime import datetime\nparsed_data=datetime.striptime(today_string,'%d-%m-%Y')\nprint(parsed_data)\n",
      "metadata": {},
      "execution_count": null,
      "outputs": []
    },
    {
      "cell_type": "code",
      "source": "4. List the files in your current directory",
      "metadata": {},
      "execution_count": null,
      "outputs": []
    },
    {
      "cell_type": "code",
      "source": "import os\nfor folders,subfolders,files in os.walk(os.getcwd()):\n    for file in files:\n        print(file)",
      "metadata": {},
      "execution_count": null,
      "outputs": []
    },
    {
      "cell_type": "code",
      "source": "5. Create a list of all of the files in your parent directory (minimum five files should be available).",
      "metadata": {},
      "execution_count": null,
      "outputs": []
    },
    {
      "cell_type": "code",
      "source": "import os \nos.listdir()",
      "metadata": {},
      "execution_count": null,
      "outputs": []
    },
    {
      "cell_type": "code",
      "source": "6. Use multiprocessing to create three separate processes. Make each one wait a random number of\nseconds between one and five, print the current time, and then exit.",
      "metadata": {},
      "execution_count": null,
      "outputs": []
    },
    {
      "cell_type": "code",
      "source": "import multiprocessing\nimport time\nimport random\nimport datetime\n\ndef procOne():\n    print(f'Proc_one_Starttime->{datetime.datetime.now()}')\n    time.sleep(random.randint(1,5))\n    print(f'Proc_one_Endtime->{datetime.datetime.now()}')\n    \ndef procTwo():\n     print(f'Proc_two_Starttime->{datetime.datetime.now()}')\n    time.sleep(random.randint(1,5))\n    print(f'Proc_two_Endtime->{datetime.datetime.now()}')\n\n\ndef procThree():\n     print(f'Proc_three_Starttime->{datetime.datetime.now()}')\n    time.sleep(random.randint(1,5))\n    print(f'Proc_three_Endtime->{datetime.datetime.now()}')\n    \nif __name__ == \"__main__\":\n    p1=multiprocessing.Process(target=procOne)\n    p2=multiprocessing.Process(target=procTwo)\n    p3=multiprocessing.Process(target=procThree)\n    \n    p1.start()\n    p2.start()\n    p3.start()\n    \n    p1.join()\n    p2.join()\n    p3.join()",
      "metadata": {},
      "execution_count": null,
      "outputs": []
    },
    {
      "cell_type": "code",
      "source": "7. Create a date object of your day of birth.",
      "metadata": {},
      "execution_count": null,
      "outputs": []
    },
    {
      "cell_type": "code",
      "source": "from datetime import datetime\nmy_dob=datetime.strptime('22/04/1997','%d/%m/%Y')\nprint(my_dob,type(my_dob))",
      "metadata": {
        "trusted": true
      },
      "execution_count": 3,
      "outputs": [
        {
          "name": "stdout",
          "text": "1997-04-22 00:00:00 <class 'datetime.datetime'>\n",
          "output_type": "stream"
        }
      ]
    },
    {
      "cell_type": "code",
      "source": "8. What day of the week was your day of birth?",
      "metadata": {},
      "execution_count": null,
      "outputs": []
    },
    {
      "cell_type": "code",
      "source": "from datetime import datetime\nmy_dob=datetime(1997,4,22)\nmy_dob.strftime(\"%A\")",
      "metadata": {
        "trusted": true
      },
      "execution_count": 2,
      "outputs": [
        {
          "execution_count": 2,
          "output_type": "execute_result",
          "data": {
            "text/plain": "'Tuesday'"
          },
          "metadata": {}
        }
      ]
    },
    {
      "cell_type": "code",
      "source": "9. When will you be (or when were you) 10,000 days old?",
      "metadata": {},
      "execution_count": null,
      "outputs": []
    },
    {
      "cell_type": "code",
      "source": "from  datetime import  datetime,timedelta\nmy_dob=datetime.strptime('22/04/1997','%d/%m/%Y')\nfuture_date=my_dob-timedelta(10000)\nfuture_date",
      "metadata": {
        "trusted": true
      },
      "execution_count": 1,
      "outputs": [
        {
          "execution_count": 1,
          "output_type": "execute_result",
          "data": {
            "text/plain": "datetime.datetime(1969, 12, 5, 0, 0)"
          },
          "metadata": {}
        }
      ]
    },
    {
      "cell_type": "code",
      "source": "",
      "metadata": {},
      "execution_count": null,
      "outputs": []
    }
  ]
}