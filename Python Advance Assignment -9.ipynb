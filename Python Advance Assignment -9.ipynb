{
  "metadata": {
    "kernelspec": {
      "name": "python",
      "display_name": "Python (Pyodide)",
      "language": "python"
    },
    "language_info": {
      "name": ""
    }
  },
  "nbformat_minor": 4,
  "nbformat": 4,
  "cells": [
    {
      "cell_type": "code",
      "source": "Q1. In Python 3.X, what are the names and functions of string object types?\nAns: The following are the names and functions of string object types in Python 3.X\n\n<stirng>.isdecimal() -> Returns True if all characters in a string are decimal.\n<string>.isalnum() -> Returns True if all characters in the string are AlphaNumeric.\n<string>.istitle() -> Returns True if first character in a string is in Uppercase.\n<string>.partition(<sub_string>) -> Splits string at first occurance of sub string and returns a tuple of 3 elements.\n<string>.rpartition(<sub_string>) -> Splits string at last occurance of sub string and returns a tuple of 3 elements.\n<string>.isidentifier() -> Returns True if give string is a valid identifier name.\nlen(<string>) -> Returns the length of the given string.\n<string>.index(<sub_string>) -> Returns the lowest index of substring if substring is found in the string.\n<string>.rindex(<sub_string>) -> Returns the highest index of substring if substring is found in the string.\nmax(<string>) -> Returns the highest Alphabetical Character in the string as per ASCII.\nmin(<string>) -> Returns the lowest Alphabetical Character in the string as per ASCII.\n<string>.splitlines() -> Returns a list of lines in the string.\n<string>.capitalize() -> Returns the string with first character capitalized.\n<string>.upper() -> Returns the string with all characters in uppercase.\n<string>.lower() -> Returns the string with all characters in lowercase\n<string>.casefold() -> Returns the string in lowercase which can be used for caseless comparisions.\n<string>.expandtabs(no_of_spaces) -> Replaces tabs in a string with specified no of spaces default is 8\n<string>.find(<sub_string>) -> Returns lowest index of substring if substring is found in the string else returns -1.\n<string>.rfind(<sub_string>) -> Returns highest index of substring if substring is found in the string else returns -1.\n<string>.count(<char>) -> Returns the no of occurances of the char in the given string.\n<string>.split(<sep>) -> Returns list of words seperated by given sep else seperated by whitespace.\n<string>.rsplit(<sep>) -> Returns list of words seperated by given sep else seperated by whitespace scanning from end.\n<string>.lstrip() -> Returns a copy of where leading whitespaces are removed.\n<string>.rstrip() -> Returns a copy of where trailed whitespaces are removed.\n<string>.strip() -> Returns a copy of where both leading and trailing whitespaces are removed.\n<string>.swapcase() -> Swaps lowercase characters with uppercase and vice versa.\n<sep>.join(<list>) -> Concatenates a list or tuple of words with intervening occuernces of sep.\n<string>.translate(<mapping_table>) -> translates the characters using table.\n<string>.maketrans(<dict>) -> Creating a mapping translation tbale usable for <string>.translate(<mapping_table>)\n<string>.replace(<char_1>,<char_2>) -> Replace all occurances of char_1 with char_2 in string.\n<string>.encode() -> Encodes string into any encoding supported by python. Default encoding is UTF-8.\n<string>.ljust(<no_of_spaces>) -> Left-justify in a field of given width.\n<string>.rjust(<no_of_spaces>) -> Right-justify in a field of given width.\n<string>.center(<no_of_spaces>) -> Center-justify in a field of given width.\n<stirng>.zfill(<length>) -> Zfill adds zeros to the begining of string until the specified length is reached.\nprint('1234567890'.isdecimal())\nprint('IneuronFullStackDS'.isalnum())\nprint('Ineuron Full Stack Data science'.istitle())\nprint('\"I could eat bananas all day, bananas are my favorite fruit\"'.partition('bananas'))\nprint('\"I could eat bananas all day, bananas are my favorite fruit\"'.rpartition('bananas'))\nprint('GeeksForFreaks'.isidentifier())\nprint(len('Linear Regression'))\nprint('Ineuron'.index('n'))\nprint('Ineuron'.rindex('n'))\nprint(max('Data_Scientist'))\nprint(min('Data_Analyst'))\nprint('Ineuron \\n Full Stack \\n Data Science \\n Course '.splitlines())\nprint('finding nemo'.capitalize())\nprint('datapipelines'.upper())\nprint('MLOPS'.lower())\nprint('Doloris Jane Umbridge'.casefold())\nprint('Data science\\tData Analyst'.expandtabs(8))\nprint('Ineuron'.find('n'))\nprint('Ineuron'.rfind('n'))\nprint('Transformers'.count('s'))\nprint('ineuron'.split('n'))\nprint('ineuron'.rsplit('n'))\nprint(' EDA '.lstrip())\nprint(' EDA '.rstrip())\nprint(' EDA '.strip())\nprint('Exploratory Data Analysis'.swapcase())\nprint('_'.join(['Iris','flower','Dataset']))\n\nmydict = {83:  80}\nprint(\"Hello Sam!\".translate(mydict))\n\ntxt = \"Hello Sam!\"\nmytable = txt.maketrans(\"S\", \"P\")\nprint(txt.translate(mytable))\n\nprint('Ineuron'.replace('n','2'))\nprint('Natural Language Processing'.encode())\nprint('Nemo'.ljust(10))\nprint('Nemo'.rjust(10))\nprint('Nemo'.center(10))\nprint('Hello'.zfill(10))\nTrue\nTrue\nFalse\n('\"I could eat ', 'bananas', ' all day, bananas are my favorite fruit\"')\n('\"I could eat bananas all day, ', 'bananas', ' are my favorite fruit\"')\nTrue\n17\n1\n6\nt\nA\n['Ineuron ', ' Full Stack ', ' Data Science ', ' Course ']\nFinding nemo\nDATAPIPELINES\nmlops\ndoloris jane umbridge\nData science    Data Analyst\n1\n6\n2\n['i', 'euro', '']\n['i', 'euro', '']\nEDA \n EDA\nEDA\neXPLORATORY dATA aNALYSIS\nIris_flower_Dataset\nHello Pam!\nHello Pam!\nI2euro2\nb'Natural Language Processing'\nNemo      \n      Nemo\n   Nemo   \n00000Hello\n\n\n",
      "metadata": {
        "trusted": true
      },
      "outputs": [],
      "execution_count": null
    },
    {
      "cell_type": "code",
      "source": "Q2. How do the string forms in Python 3.X vary in terms of operations?\nAns: In Python3 default format of strings is Unicode Whereas in Pyton2 we need to explicitly mention Unicode value using u.\n",
      "metadata": {
        "trusted": true
      },
      "outputs": [],
      "execution_count": null
    },
    {
      "cell_type": "code",
      "source": "Q3. In Python 3.X, how do you put non-ASCII Unicode characters in a string?\nAns: In Python 3.x unidecode() method from unidecode library can be used to put non-ASCII Unicode Characters in a string.\n\nfrom unidecode import unidecode\nprint(unidecode(u'ko\\u017eu\\u0161\\u010dek'))\nprint(unidecode(\"आप नीचे अपनी भाषा और इनपुट उपकरण चुनें और लिखना आरंभ करें\"))\nprint(unidecode(\"谢谢你\"))\nprint(unidecode(\"ありがとう。\"))\nprint(unidecode(\"улыбаться Владимир Путин\"))\n---------------------------------------------------------------------------\nModuleNotFoundError                       Traceback (most recent call last)\n<ipython-input-2-f767477ae683> in <module>()\n----> 1 from unidecode import unidecode\n      2 print(unidecode(u'ko\\u017eu\\u0161\\u010dek'))\n      3 print(unidecode(\"आप नीचे अपनी भाषा और इनपुट उपकरण चुनें और लिखना आरंभ करें\"))\n      4 print(unidecode(\"谢谢你\"))\n      5 print(unidecode(\"ありがとう。\"))\n\nModuleNotFoundError: No module named 'unidecode'\n\n",
      "metadata": {
        "trusted": true
      },
      "outputs": [],
      "execution_count": null
    },
    {
      "cell_type": "code",
      "source": "Q4. In Python 3.X, what are the key differences between text-mode and binary-mode files?\nAns: The major difference between these two is that a text file contains textual information in the form of alphabets, digits and special characters or symbols. On the other hand, a binary file contains bytes or a compiled version of a text file.\n\nWhen a file is opened in text mode, reading its data automatically decodes its content (as per the platform default or as per provided encoding), and returns it as a str; writing operation takes a str, and automatically encodes it before transferring to the file. Text mode files also support universal end-of-line translation, and encoding specification arguments.\n\nWhen a file is opened in binary mode by adding a b to the mode string argument in the open() call, reading its data does not decode it in any way, and simply returns its content raw and unchanged, as a bytes object; writing takes a bytes object and transfers it to the file unchanged. Binary-mode files also accept a bytearray object for the content to be written to the file.\n",
      "metadata": {
        "trusted": true
      },
      "outputs": [],
      "execution_count": null
    },
    {
      "cell_type": "code",
      "source": "Q5. How can you interpret a Unicode text file containing text encoded in a different encoding than your platform's default?\nAns: Use of encode() and decode() method can be used to you interpret a Unicode text file containing text encoded in a different encoding than your platform's default, by default encoding parameter is UTF-8\n",
      "metadata": {
        "trusted": true
      },
      "outputs": [],
      "execution_count": null
    },
    {
      "cell_type": "code",
      "source": "Q6. What is the best way to make a Unicode text file in a particular encoding format?\nAns: Use str.encode() and file.write() to make a Unicode text file in a particular encoding format, default encoding format is UTF-18.\n\nCall str.encode(encoding) with encoding set to utf8 to encode str.\nCall open(file, mode) to open a file with mode set to wb . wb writes to files in binary mode & preserves UTF-8format.\nCall file.write(data) to write data to the file.\nunicode_text = u\"улыбаться Владимир Путин\"\nencoded_unicode_text = unicode_text.encode(\"utf-8\")\nprint(encoded_unicode_text,end=\"\\n\\n\")\n\nw_file = open(\"w_file.txt\",\"wb\")\nw_file.write(encoded_unicode_text)\nw_file.close()\n\nr_file = open(\"w_file.txt\",\"rb\")\ndata = r_file.read()\nprint(data)\n\n",
      "metadata": {
        "trusted": true
      },
      "outputs": [],
      "execution_count": null
    },
    {
      "cell_type": "code",
      "source": "Q7. What qualifies ASCII text as a form of Unicode text?\nAns: Unicode represents most written languages in the world. ASCII has its equivalent in Unicode. The difference between ASCII and Unicode is that ASCII represents lowercase letters (a-z), uppercase letters (A-Z), digits (0–9) and symbols such as punctuation marks while Unicode represents letters of English, Arabic, Greek etc. mathematical symbols, historical scripts, emoji covering a wide range of characters than ASCII.\n",
      "metadata": {
        "trusted": true
      },
      "outputs": [],
      "execution_count": null
    },
    {
      "cell_type": "code",
      "source": "Q8. How much of an effect does the change in string types in Python 3.X have on your code?\nAns: Python 3 stores strings as Unicode by default whereas Python 2 requires you to mark a string with a u if you want to store it as Unicode. Unicode strings are more versatile than ASCII strings, which are the Python 3.X default, as they can store letters from foreign languages as well as emoji and the standard Roman letters and numerals.",
      "metadata": {
        "trusted": true
      },
      "outputs": [],
      "execution_count": null
    }
  ]
}