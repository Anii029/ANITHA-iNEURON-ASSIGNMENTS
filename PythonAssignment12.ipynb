{
  "metadata": {
    "language_info": {
      "codemirror_mode": {
        "name": "python",
        "version": 3
      },
      "file_extension": ".py",
      "mimetype": "text/x-python",
      "name": "python",
      "nbconvert_exporter": "python",
      "pygments_lexer": "ipython3",
      "version": "3.8"
    },
    "kernelspec": {
      "name": "python",
      "display_name": "Python (Pyodide)",
      "language": "python"
    }
  },
  "nbformat_minor": 4,
  "nbformat": 4,
  "cells": [
    {
      "cell_type": "code",
      "source": "1. In what modes should the PdfFileReader() and PdfFileWriter() File objects will be opened?\nans:For PdfFileReader() file objects should be opened in rb - read binary mode,Where as for PdfFileWriter() file objects should be \n    opened in wb - write  binary mode.",
      "metadata": {},
      "execution_count": null,
      "outputs": []
    },
    {
      "cell_type": "code",
      "source": "2. From a PdfFileReader object, how do you get a Page object for page 5?\nans: PdfFileReader class provides a method called getPage(page_no) to get a page object.",
      "metadata": {},
      "execution_count": null,
      "outputs": []
    },
    {
      "cell_type": "code",
      "source": "3. What PdfFileReader variable stores the number of pages in the PDF document?\nans: getNumPages() method of PdfFileReader class stores the no of pages in a PDF document.",
      "metadata": {},
      "execution_count": null,
      "outputs": []
    },
    {
      "cell_type": "code",
      "source": "4. If a PdfFileReader object’s PDF is encrypted with the password swordfish, what must you do\nbefore you can obtain Page objects from it?\nans: if a PdfFileReader objects PDF is encrypted with the password swordfish and you are not aware of it .first read the Pdf using the PdfFileReader\n     class. this class provides a attribute called isEncrypted to check whether  a pdf is encrypted or not. the method returns true if  a pdf is encrypted\n    and viceversa.\n    if pdf is encrypted use the decrypt() method provided by pdffilereader class first then try to read the contents/pages of the pdf,else pypdf2 will\n    raise the following error.\n    PyPDF2.utils.PdfReadError:file has not been decrypted",
      "metadata": {},
      "execution_count": null,
      "outputs": []
    },
    {
      "cell_type": "code",
      "source": "5. What methods do you use to rotate a page?\nans: PyPDF2 package provides 2 methods tp rotate a page:\n    1. rotateclockwise() - for clockwise rotation \n    2. rotateCounterClockwise() - for counter clockwise rotation\n    the PyPDF2 package only allows you to rotate a page in increments of 90 degrees. you will receive an assetionerror otherwise",
      "metadata": {},
      "execution_count": null,
      "outputs": []
    },
    {
      "cell_type": "code",
      "source": "6. What is the difference between a Run object and a Paragraph object?\nans:the structure of a document is represented by 3 different data types in python-Docx. at the highest level,a document object represents\n    the entire document.the document object contains a list of paragraph objects for the paragraphs in the document.Each of these paragraph objects \n    contains a list of one or more run objects.\n    the text in a word document is more than just  astring. it has font,size,color and other styling information associated with it. A style in word\n    is a collection of these attributes. A Run object is a contiguous run of text with the same style. A new run object is needed whenever the text \n    style changes.\n    ",
      "metadata": {},
      "execution_count": null,
      "outputs": []
    },
    {
      "cell_type": "code",
      "source": "7. How do you obtain a list of Paragraph objects for a Document object that’s stored in a variable\nnamed doc?",
      "metadata": {},
      "execution_count": null,
      "outputs": []
    },
    {
      "cell_type": "code",
      "source": "from docx import Document\ndoc=Document(\"samplefile.docx\")\nprint (doc.paragraphs)\nfor paragraph in doc.paragraphs:\n    print(paragraph.text)",
      "metadata": {},
      "execution_count": null,
      "outputs": []
    },
    {
      "cell_type": "code",
      "source": "8. What type of object has bold, underline, italic, strike, and outline variables?\nans: Run object has bold,underline,italic,strike and outline variables. the text in a word document is more than just  a string .\n     it has font,size,color and the other styling information associated with it.\n    A style in word is a collection of these attribute. a run object is a contiguous run of text with the same style.A new run object is needed whenever\n    the text style changes.",
      "metadata": {},
      "execution_count": null,
      "outputs": []
    },
    {
      "cell_type": "code",
      "source": "9. What is the difference between False, True, and None for the bold variable?",
      "metadata": {},
      "execution_count": null,
      "outputs": []
    },
    {
      "cell_type": "code",
      "source": "bold= True  #style set to bold\nbold= False #style not set to bold\nbold =None #style is not applicable",
      "metadata": {},
      "execution_count": null,
      "outputs": []
    },
    {
      "cell_type": "code",
      "source": "10. How do you create a Document object for a new Word document?\nans: ",
      "metadata": {},
      "execution_count": null,
      "outputs": []
    },
    {
      "cell_type": "code",
      "source": "from docx import Document\ndocument= Document()\ndocument.add_paragraph('iNeuron Full Stack DataScience Course')\ndocument.save('mydocument.docx')",
      "metadata": {},
      "execution_count": null,
      "outputs": []
    },
    {
      "cell_type": "code",
      "source": "11. How do you add a paragraph with the text 'Hello, there!' to a Document object stored in a\nvariable named doc?\nans: ",
      "metadata": {},
      "execution_count": null,
      "outputs": []
    },
    {
      "cell_type": "code",
      "source": "from docx import Document \ndoc= Document()\ndoc.add_paragraph('Hello,there!')\ndoc.save('hello.docx')",
      "metadata": {},
      "execution_count": null,
      "outputs": []
    },
    {
      "cell_type": "code",
      "source": "12. What integers represent the levels of headings available in Word documents?\nans: the levels for a heading in aword document can be specified by using the level attribute inside the add_heading method.there are a total of\n     5 levels starting from 0 to 4 . where level 0 makes a headline with the horizontal line below the text,where as the heading level 1 is the main\n    heading.Similarly the other headings are sub-heading with theirs font sizes in decreasing order.",
      "metadata": {},
      "execution_count": null,
      "outputs": []
    }
  ]
}