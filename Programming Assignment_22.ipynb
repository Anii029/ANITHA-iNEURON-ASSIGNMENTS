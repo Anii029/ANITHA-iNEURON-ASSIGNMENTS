{
  "metadata": {
    "kernelspec": {
      "name": "python",
      "display_name": "Python (Pyodide)",
      "language": "python"
    },
    "language_info": {
      "name": ""
    }
  },
  "nbformat_minor": 4,
  "nbformat": 4,
  "cells": [
    {
      "cell_type": "code",
      "source": "1.Create a function that takes three parameters where:\nx is the start of the range (inclusive).\ny is the end of the range (inclusive).\nn is the divisor to be checked against.\n\nReturn an ordered list with numbers in the range that are divisible by the third parameter n. Return an empty list if there are no numbers that are divisible by n. Examples:\nlist_operation(1, 10, 3) ➞ [3, 6, 9]\nlist_operation(7, 9, 2) ➞ [8]\nlist_operation(15, 20, 7) ➞ []\n\n",
      "metadata": {
        "trusted": true
      },
      "outputs": [],
      "execution_count": null
    },
    {
      "cell_type": "code",
      "source": "def list_operation(start,end,divisor):\n    out_list = []\n    for ele in range(start,end+1):\n        if ele%divisor == 0:\n            out_list.append(ele)\n    print(f'Output: ➞ {out_list}')\n\nlist_operation(1, 10, 3)\nlist_operation(7, 9, 2)\nlist_operation(15, 20, 7)",
      "metadata": {
        "trusted": true
      },
      "outputs": [],
      "execution_count": null
    },
    {
      "cell_type": "code",
      "source": "2.Create a function that takes in two lists and returns True if the second list follows the first list by one element, and False otherwise. In other words, determine if the second list is the first list shifted to the right by 1.\nExamples:\nsimon_says([1, 2], [5, 1]) ➞ True\nsimon_says([1, 2], [5, 5]) ➞ False\nsimon_says([1, 2, 3, 4, 5], [0, 1, 2, 3, 4]) ➞ True\nsimon_says([1, 2, 3, 4, 5], [5, 5, 1, 2, 3]) ➞ False\n\nNotes:\n1. Both input lists will be of the same length, and will have a minimum length of 2.\n2. The values of the 0-indexed element in the second list and the n-1th indexed element in the first list do not matter.\n\n",
      "metadata": {
        "trusted": true
      },
      "outputs": [],
      "execution_count": null
    },
    {
      "cell_type": "code",
      "source": "def simon_says(in_list_1,in_list_2):\n    if len(in_list_1) == len(in_list_1) and len(in_list_1) >=2 and len(in_list_1) >=2:\n        if(in_list_1[:-1] == in_list_2[1:]):\n            print(f'{in_list_1,in_list_2} ➞ {True}')\n        else:\n            print(f'{in_list_1,in_list_2} ➞ {False}')\n            \nsimon_says([1, 2], [5, 1])\nsimon_says([1, 2], [5, 5])\nsimon_says([1, 2, 3, 4, 5], [0, 1, 2, 3, 4])\nsimon_says([1, 2, 3, 4, 5], [5, 5, 1, 2, 3])\n",
      "metadata": {
        "trusted": true
      },
      "outputs": [],
      "execution_count": null
    },
    {
      "cell_type": "code",
      "source": "3.A group of friends have decided to start a secret society. The name will be the first letter of each of their names, sorted in a alphabetical order ? Create a function that takes in a list of names and returns the name of the secret society ?\nExamples:\nsociety_name([\"Adam\", \"Sarah\", \"Malcolm\"]) ➞ \"AMS\"\nsociety_name([\"Harry\", \"Newt\", \"Luna\", \"Cho\"]) ➞ \"CHLN\"\nsociety_name([\"Phoebe\", \"Chandler\", \"Rachel\", \"Ross\", \"Monica\", \"Joey\"])\n\n",
      "metadata": {
        "trusted": true
      },
      "outputs": [],
      "execution_count": null
    },
    {
      "cell_type": "code",
      "source": "def society_name(in_list):\n    out_string = []\n    for ele in in_list:\n        out_string.append(ele[0])\n    output = ''.join(sorted(out_string))\n    print(f'{in_list} ➞ {output}')\n\nsociety_name([\"Adam\", \"Sarah\", \"Malcolm\"])\nsociety_name([\"Harry\", \"Newt\", \"Luna\", \"Cho\"])\nsociety_name([\"Phoebe\", \"Chandler\", \"Rachel\", \"Ross\", \"Monica\", \"Joey\"])\n",
      "metadata": {
        "trusted": true
      },
      "outputs": [],
      "execution_count": null
    },
    {
      "cell_type": "code",
      "source": "4.An isogram is a word that has no duplicate letters. Create a function that takes a string and returns either True or False depending on whether or not it's an \"isogram\".\nExamples:\nis_isogram(\"Algorism\") ➞ True\nis_isogram(\"PasSword\") ➞ False\n# Not case sensitive.\nis_isogram(\"Consecutive\") ➞ False\n\nNotes:\nIgnore letter case (should not be case sensitive).\nAll test cases contain valid one word strings.\n\n",
      "metadata": {
        "trusted": true
      },
      "outputs": [],
      "execution_count": null
    },
    {
      "cell_type": "code",
      "source": "def is_isogram(in_string):\n    lower_in_string = in_string.lower()\n    if len(lower_in_string) == len(set(lower_in_string)):\n        print(f'{in_string} ➞ {True}')\n    else:\n        print(f'{in_string} ➞ {False}')\n    \nis_isogram(\"Algorism\")\nis_isogram(\"PasSword\")\nis_isogram(\"Consecutive\")\n",
      "metadata": {
        "trusted": true
      },
      "outputs": [],
      "execution_count": null
    },
    {
      "cell_type": "code",
      "source": "5.Create a function that takes a string and returns True or False, depending on whether the characters are in order or not ?\nExamples:\nis_in_order(\"abc\") ➞ True\nis_in_order(\"edabit\") ➞ False\nis_in_order(\"123\") ➞ True\nis_in_order(\"xyzz\") ➞ True\n\nNotes:\nYou don't have to handle empty strings.\n\n",
      "metadata": {
        "trusted": true
      },
      "outputs": [],
      "execution_count": null
    },
    {
      "cell_type": "code",
      "source": "def is_in_order(in_string):\n    in_string_sorted = ''.join(sorted(in_string))\n    if in_string == in_string_sorted:\n        print(f'{in_string} ➞ {True}')\n    else:\n       print(f'{in_string} ➞ {False}')\n\nis_in_order(\"abc\")\nis_in_order(\"edabit\")\nis_in_order(\"123\")\nis_in_order(\"xyzz\")\n",
      "metadata": {
        "trusted": true
      },
      "outputs": [],
      "execution_count": null
    },
    {
      "cell_type": "code",
      "source": "",
      "metadata": {
        "trusted": true
      },
      "outputs": [],
      "execution_count": null
    },
    {
      "cell_type": "code",
      "source": "",
      "metadata": {
        "trusted": true
      },
      "outputs": [],
      "execution_count": null
    },
    {
      "cell_type": "code",
      "source": "",
      "metadata": {
        "trusted": true
      },
      "outputs": [],
      "execution_count": null
    },
    {
      "cell_type": "code",
      "source": "",
      "metadata": {
        "trusted": true
      },
      "outputs": [],
      "execution_count": null
    },
    {
      "cell_type": "code",
      "source": "",
      "metadata": {
        "trusted": true
      },
      "outputs": [],
      "execution_count": null
    }
  ]
}