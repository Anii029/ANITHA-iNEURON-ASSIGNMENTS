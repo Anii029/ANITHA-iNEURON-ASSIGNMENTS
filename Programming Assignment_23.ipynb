{
  "metadata": {
    "kernelspec": {
      "name": "python",
      "display_name": "Python (Pyodide)",
      "language": "python"
    },
    "language_info": {
      "name": ""
    }
  },
  "nbformat_minor": 4,
  "nbformat": 4,
  "cells": [
    {
      "cell_type": "code",
      "source": "1.Create a function that takes a number as an argument and returns True or False depending on whether the number is symmetrical or not. A number is symmetrical when it is the same as its reverse.\nExamples:\nis_symmetrical(7227) ➞ True\nis_symmetrical(12567) ➞ False\nis_symmetrical(44444444) ➞ True\nis_symmetrical(9939) ➞ False\nis_symmetrical(1112111) ➞ True\n\n",
      "metadata": {
        "trusted": true
      },
      "outputs": [],
      "execution_count": null
    },
    {
      "cell_type": "code",
      "source": "def is_symmetrical(in_num):\n    if str(in_num) == str(in_num)[::-1]:\n        print(f'{in_num} ➞ {True}')\n    else:\n        print(f'{in_num} ➞ {False}')\n\nis_symmetrical(7227)\nis_symmetrical(12567)\nis_symmetrical(44444444)\nis_symmetrical(9939)\nis_symmetrical(1112111)\n",
      "metadata": {
        "trusted": true
      },
      "outputs": [],
      "execution_count": null
    },
    {
      "cell_type": "code",
      "source": "2.Given a string of numbers separated by a comma and space, return the product of the numbers.\nExamples:\nmultiply_nums(\"2, 3\") ➞ 6\nmultiply_nums(\"1, 2, 3, 4\") ➞ 24\nmultiply_nums(\"54, 75, 453, 0\") ➞ 0\nmultiply_nums(\"10, -2\") ➞ -20\n\n",
      "metadata": {
        "trusted": true
      },
      "outputs": [],
      "execution_count": null
    },
    {
      "cell_type": "code",
      "source": "def multiply_nums(in_string):\n    out_string = in_string.replace(' ','').split(',')\n    out_num = 1\n    for ele in out_string:\n        out_num *= int(ele)\n    print(f'{in_string} ➞ {out_num}')\n    \nmultiply_nums(\"2, 3\")\nmultiply_nums(\"1, 2, 3, 4\")\nmultiply_nums(\"54, 75, 453, 0\")\nmultiply_nums(\"10, -2\")\n",
      "metadata": {
        "trusted": true
      },
      "outputs": [],
      "execution_count": null
    },
    {
      "cell_type": "code",
      "source": "3.Create a function that squares every digit of a number.\nExamples:\nsquare_digits(9119) ➞ 811181\nsquare_digits(2483) ➞ 416649\nsquare_digits(3212) ➞ 9414\n\nNotes:\nThe function receives an integer and must return an integer.",
      "metadata": {
        "trusted": true
      },
      "outputs": [],
      "execution_count": null
    },
    {
      "cell_type": "code",
      "source": "def square_digits(in_num):\n    in_list = [str(int(ele)**2) for ele in str(in_num)]\n    out_list = ''.join(in_list)\n    print(f'{in_num} ➞ {int(out_list)}')\n\nsquare_digits(9119)\nsquare_digits(2483)\nsquare_digits(3212)",
      "metadata": {
        "trusted": true
      },
      "outputs": [],
      "execution_count": null
    },
    {
      "cell_type": "code",
      "source": "4.Create a function that sorts a list and removes all duplicate items from it.\nExamples:\nsetify([1, 3, 3, 5, 5]) ➞ [1, 3, 5]\nsetify([4, 4, 4, 4]) ➞ [4]\nsetify([5, 7, 8, 9, 10, 15]) ➞ [5, 7, 8, 9, 10, 15]\nsetify([3, 3, 3, 2, 1]) ➞ [1, 2, 3]\n\n",
      "metadata": {
        "trusted": true
      },
      "outputs": [],
      "execution_count": null
    },
    {
      "cell_type": "code",
      "source": "def setify(in_list):\n    out_list = sorted(set(in_list))\n    print(f'{in_list} ➞ {out_list}')\n    \nsetify([1, 3, 3, 5, 5]) \nsetify([4, 4, 4, 4])\nsetify([5, 7, 8, 9, 10, 15])\nsetify([3, 3, 3, 2, 1])",
      "metadata": {
        "trusted": true
      },
      "outputs": [],
      "execution_count": null
    },
    {
      "cell_type": "code",
      "source": "5.Create a function that returns the mean of all digits.\nExamples:\nmean(42) ➞ 3\nmean(12345) ➞ 3\nmean(666) ➞ 6\n\nNotes:\n1.The mean of all digits is the sum of digits / how many digits there are (e.g. mean of digits in 512 is (5+1+2)/3(number of digits) = 8/3=2).\n2.The mean will always be an integer.\n\n",
      "metadata": {
        "trusted": true
      },
      "outputs": [],
      "execution_count": null
    },
    {
      "cell_type": "code",
      "source": "def mean(in_num):\n    in_list = [int(ele) for ele in str(in_num)]\n    out_num = sum(in_list)/len(str(in_num))\n    print(f'Mean of {in_num}  ➞ {out_num:.0f}')\n    \nmean(42)\nmean(12345)\nmean(666)",
      "metadata": {
        "trusted": true
      },
      "outputs": [],
      "execution_count": null
    },
    {
      "cell_type": "code",
      "source": "",
      "metadata": {
        "trusted": true
      },
      "outputs": [],
      "execution_count": null
    }
  ]
}