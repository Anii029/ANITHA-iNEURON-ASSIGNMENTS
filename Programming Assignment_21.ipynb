{
  "metadata": {
    "kernelspec": {
      "name": "python",
      "display_name": "Python (Pyodide)",
      "language": "python"
    },
    "language_info": {
      "name": ""
    }
  },
  "nbformat_minor": 4,
  "nbformat": 4,
  "cells": [
    {
      "cell_type": "code",
      "source": "1.Write a function that takes a list and a number as arguments. Add the number to the end of the list, then remove the first element of the list. The function should then return the updated list.\nExamples:\nnext_in_line([5, 6, 7, 8, 9], 1) ➞ [6, 7, 8, 9, 1]\nnext_in_line([7, 6, 3, 23, 17], 10) ➞ [6, 3, 23, 17, 10]\nnext_in_line([1, 10, 20, 42 ], 6) ➞ [10, 20, 42, 6]\nnext_in_line([], 6) ➞ \"No list has been selected\"\n\n",
      "metadata": {
        "trusted": true
      },
      "outputs": [],
      "execution_count": null
    },
    {
      "cell_type": "code",
      "source": "def next_in_line(in_list,in_num):\n    if len(in_list) > 1:\n        in_list.append(in_num)\n        in_list.remove(in_list[0])\n        print(f'Output ➞ {in_list}')\n    else:\n        print('No list has been selected')\n\nnext_in_line([5, 6, 7, 8, 9], 1) \nnext_in_line([7, 6, 3, 23, 17], 10)\nnext_in_line([1, 10, 20, 42 ], 6)\nnext_in_line([], 6)",
      "metadata": {
        "trusted": true
      },
      "outputs": [],
      "execution_count": null
    },
    {
      "cell_type": "code",
      "source": "2.Create the function that takes a list of dictionaries and returns the sum of people's budgets.\nExamples:\nget_budgets([ { \"name\": \"John\", \"age\": 21, \"budget\": 23000 }, { \"name\": \"Steve\", \"age\": 32, \"budget\": 40000 }, { \"name\": \"Martin\", \"age\": 16, \"budget\": 2700 } ]) ➞ 65700\n\nget_budgets([ { \"name\": \"John\", \"age\": 21, \"budget\": 29000 }, { \"name\": \"Steve\", \"age\": 32, \"budget\": 32000 }, { \"name\": \"Martin\", \"age\": 16, \"budget\": 1600 } ]) ➞ 62600\n\n",
      "metadata": {
        "trusted": true
      },
      "outputs": [],
      "execution_count": null
    },
    {
      "cell_type": "code",
      "source": "def get_budgets(in_dict):\n    sum = 0\n    for ele in in_dict:\n        sum += ele[\"budget\"]\n    print(f'Output ➞ {sum}')\n    \nget_budgets([\n{ \"name\": \"John\", \"age\": 21, \"budget\": 23000 },\n{ \"name\": \"Steve\", \"age\": 32, \"budget\": 40000 },\n{ \"name\": \"Martin\", \"age\": 16, \"budget\": 2700 }\n])\n\nget_budgets([\n{ \"name\": \"John\", \"age\": 21, \"budget\": 29000 },\n{ \"name\": \"Steve\", \"age\": 32, \"budget\": 32000 },\n{ \"name\": \"Martin\", \"age\": 16, \"budget\": 1600 }\n])",
      "metadata": {
        "trusted": true
      },
      "outputs": [],
      "execution_count": null
    },
    {
      "cell_type": "code",
      "source": "3.Create a function that takes a string and returns a string with its letters in alphabetical order.\nExamples:\nalphabet_soup(\"hello\") ➞ \"ehllo\"\nalphabet_soup(\"edabit\") ➞ \"abdeit\"\nalphabet_soup(\"hacker\") ➞ \"acehkr\"\nalphabet_soup(\"geek\") ➞ \"eegk\"\nalphabet_soup(\"javascript\") ➞ \"aacijprstv\"\n\n",
      "metadata": {
        "trusted": true
      },
      "outputs": [],
      "execution_count": null
    },
    {
      "cell_type": "code",
      "source": "def alphabet_soup(in_string):\n    out_string = ''.join(sorted(in_string))\n    print(f'{in_string} ➞ {out_string}')\n\nalphabet_soup(\"hello\")\nalphabet_soup(\"edabit\")\nalphabet_soup(\"hacker\")\nalphabet_soup(\"geek\")\nalphabet_soup(\"javascript\")",
      "metadata": {
        "trusted": true
      },
      "outputs": [],
      "execution_count": null
    },
    {
      "cell_type": "code",
      "source": "4.What will be the value of your investment at the end of the 10 year period?\nCreate a function that accepts the principal p, the term in years t, the interest rate r, and the number of compounding periods per year n. The function returns the value at the end of term rounded to the nearest cent.\n\nFor the example above:\ncompound_interest(10000, 10, 0.06, 12) ➞ 18193.97\nNote that the interest rate is given as a decimal and n=12 because with monthly compounding there are 12 periods per year. Compounding can also be done annually, quarterly, weekly, or daily.\n\nExamples:\ncompound_interest(100, 1, 0.05, 1) ➞ 105.0\ncompound_interest(3500, 15, 0.1, 4) ➞ 15399.26\ncompound_interest(100000, 20, 0.15, 365) ➞ 2007316.26\n\n",
      "metadata": {
        "trusted": true
      },
      "outputs": [],
      "execution_count": null
    },
    {
      "cell_type": "code",
      "source": "def compound_interest(principal,years,roi,cp):\n    ci = principal*(1+(roi/cp))**(cp*years)\n    print(f'Output ➞ {ci:.2f}')\n\ncompound_interest(100, 1, 0.05, 1)\ncompound_interest(3500, 15, 0.1, 4)\ncompound_interest(100000, 20, 0.15, 365)\n",
      "metadata": {
        "trusted": true
      },
      "outputs": [],
      "execution_count": null
    },
    {
      "cell_type": "code",
      "source": "5.Write a function that takes a list of elements and returns only the integers.\nExamples:\nreturn_only_integer([9, 2, \"space\", \"car\", \"lion\", 16]) ➞ [9, 2, 16]\nreturn_only_integer([\"hello\", 81, \"basketball\", 123, \"fox\"]) ➞ [81, 123]\nreturn_only_integer([10, \"121\", 56, 20, \"car\", 3, \"lion\"]) ➞ [10, 56, 20,3]\nreturn_only_integer([\"String\", True, 3.3, 1]) ➞ [1]\n\n",
      "metadata": {
        "trusted": true
      },
      "outputs": [],
      "execution_count": null
    },
    {
      "cell_type": "code",
      "source": "def return_only_integer(in_list):\n    out_list = []\n    for ele in in_list:\n        if type(ele) == int:\n            out_list.append(ele)\n    print(f'{in_list} ➞ {out_list}')\n    \nreturn_only_integer([9, 2, \"space\", \"car\", \"lion\", 16])\nreturn_only_integer([\"hello\", 81, \"basketball\", 123, \"fox\"])\nreturn_only_integer([10, \"121\", 56, 20, \"car\", 3, \"lion\"]) \nreturn_only_integer([\"String\", True, 3.3, 1])",
      "metadata": {
        "trusted": true
      },
      "outputs": [],
      "execution_count": null
    },
    {
      "cell_type": "code",
      "source": "",
      "metadata": {
        "trusted": true
      },
      "outputs": [],
      "execution_count": null
    },
    {
      "cell_type": "code",
      "source": "",
      "metadata": {
        "trusted": true
      },
      "outputs": [],
      "execution_count": null
    },
    {
      "cell_type": "code",
      "source": "",
      "metadata": {
        "trusted": true
      },
      "outputs": [],
      "execution_count": null
    },
    {
      "cell_type": "code",
      "source": "",
      "metadata": {
        "trusted": true
      },
      "outputs": [],
      "execution_count": null
    }
  ]
}