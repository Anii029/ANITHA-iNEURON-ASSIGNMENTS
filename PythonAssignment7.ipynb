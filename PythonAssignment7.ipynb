{
  "metadata": {
    "language_info": {
      "codemirror_mode": {
        "name": "python",
        "version": 3
      },
      "file_extension": ".py",
      "mimetype": "text/x-python",
      "name": "python",
      "nbconvert_exporter": "python",
      "pygments_lexer": "ipython3",
      "version": "3.8"
    },
    "kernelspec": {
      "name": "python",
      "display_name": "Python (Pyodide)",
      "language": "python"
    }
  },
  "nbformat_minor": 4,
  "nbformat": 4,
  "cells": [
    {
      "cell_type": "code",
      "source": "1. What is the name of the feature responsible for generating Regex objects?\nans: re.compile() is the feature responsible for generation of Regex objects\n\n",
      "metadata": {},
      "execution_count": null,
      "outputs": []
    },
    {
      "cell_type": "code",
      "source": "import re\nx=re.compile('random pattern')\ntype(x)\nprint(x)",
      "metadata": {
        "trusted": true
      },
      "execution_count": 1,
      "outputs": [
        {
          "name": "stdout",
          "text": "re.compile('random pattern')\n",
          "output_type": "stream"
        }
      ]
    },
    {
      "cell_type": "code",
      "source": "2. Why do raw strings often appear in Regex objects?\nans: Regular expressions use the backslash charater(\"\\\") to indicate special forms or to allow special characters to be used without invoking \n      thier special meaning.this collides with pythons usage of the same character for the same purpose in string literals.Hence, Raw Strings are used\n      so that backslashes do not have to be escaped.                                              ",
      "metadata": {},
      "execution_count": null,
      "outputs": []
    },
    {
      "cell_type": "code",
      "source": "3. What is the return value of the search() method?\nans: the return value of re.search(pattern,string) method is a match object if the pattern is observed in the string else it returns a None.",
      "metadata": {},
      "execution_count": null,
      "outputs": []
    },
    {
      "cell_type": "code",
      "source": "import re\nmatch=re.search('i','j')\nprint('output:',match)\nmatch=re.search('x','j')\nprint('output:',match)",
      "metadata": {
        "trusted": true
      },
      "execution_count": 2,
      "outputs": [
        {
          "name": "stdout",
          "text": "output: None\noutput: None\n",
          "output_type": "stream"
        }
      ]
    },
    {
      "cell_type": "code",
      "source": "4. From a Match item, how do you get the actual strings that match the pattern?\nans: for Matched items group() methods returns actual strings that match the pattern.\n",
      "metadata": {},
      "execution_count": null,
      "outputs": []
    },
    {
      "cell_type": "code",
      "source": "5. In the regex which created from the r'(\\d\\d\\d)-(\\d\\d\\d-\\d\\d\\d\\d)',what does group zero cover?\nGroup 2? Group 1?\nans: In the regex  r'(\\d\\d\\d)-(\\d\\d\\d-\\d\\d\\d\\d)' the zero group covers the entire pattern match where as the first group cover  (\\d\\d\\d)\n    and the second group cover  (\\d\\d\\d-\\d\\d\\d\\d)",
      "metadata": {},
      "execution_count": null,
      "outputs": []
    },
    {
      "cell_type": "code",
      "source": "6. In standard expression syntax, parentheses and intervals have distinct meanings. How can you tell\na regex that you want it to fit real parentheses and periods?\nans: the \\.\\( and \\) escape characters in the raw string passed to re.compile() will match actual parenthesis characters.\n",
      "metadata": {},
      "execution_count": null,
      "outputs": []
    },
    {
      "cell_type": "code",
      "source": "7. The findall() method returns a string list or a list of string tuples. What causes it to return one of\nthe two options?\nans: if the regex pattern has no groups, a list of strings match is returned. if the regex pattern has groups, a list of tuple of strings is returned.",
      "metadata": {},
      "execution_count": null,
      "outputs": []
    },
    {
      "cell_type": "code",
      "source": "8. In standard expressions, what does the | character mean?\nans: In standard expressions | means OR operator.\n",
      "metadata": {},
      "execution_count": null,
      "outputs": []
    },
    {
      "cell_type": "code",
      "source": "9. In regular expressions, what does the character stand for?\nans: In regular expressions, characters represents zero or one match of the preceeding group.",
      "metadata": {},
      "execution_count": null,
      "outputs": []
    },
    {
      "cell_type": "code",
      "source": "10.In regular expressions, what is the difference between the + and * characters?\nans: In regular expressions,* represents Zero or one occurances of the preceeding group,where as + represents one or more occurances of the preceeding\n     group.",
      "metadata": {},
      "execution_count": null,
      "outputs": []
    },
    {
      "cell_type": "code",
      "source": "11. What is the difference between {4} and {4,5} in regular expression?\nans: {4} means that its preceeding group should  repeat 4 times.where as {4,5} means that its preceeding group should repeat minimum of 4 times\n      and maximum 5 times inclusively.",
      "metadata": {},
      "execution_count": null,
      "outputs": []
    },
    {
      "cell_type": "code",
      "source": "12. What do you mean by the \\d, \\w, and \\s shorthand character classes signify in regular\nexpressions?\nans: \\d, \\w, and \\s are special sequences in regular expressions in python.\n     1.\\d -matches digit character equivalent to [0-9]\n     2.\\w - matches a word character equivalent to [a-z A-Z 0-9] \n     3.\\s- matches whitespace character (space,tab,newline)",
      "metadata": {},
      "execution_count": null,
      "outputs": []
    },
    {
      "cell_type": "code",
      "source": "13. What do means by \\D, \\W, and \\S shorthand character classes signify in regular expressions?\nans: \\D, \\W, and \\S  are special sequences in regular expressions in python L\n     \\D - matches any non- digit character, this is equivalent to the set class[^0-9]\n     \\W - matches any non-alphanumeric character equivalent to [^a-z A-Z 0-9]\n     \\S - matches any non-whitespace character.\n    ",
      "metadata": {},
      "execution_count": null,
      "outputs": []
    },
    {
      "cell_type": "code",
      "source": "14. What is the difference between .*? and .*?\nans: .* is a Greedy mode, which returns the longest string that meets the condition .where as .*? is a non-greedy mode which returns the shortest\n     string that meets the condition.\n    ",
      "metadata": {},
      "execution_count": null,
      "outputs": []
    },
    {
      "cell_type": "code",
      "source": "15. What is the syntax for matching both numbers and lowercase letters with a character class?\nans: The Syntax is Either [a-z 0-9] or [9-0 a-z]\n",
      "metadata": {},
      "execution_count": null,
      "outputs": []
    },
    {
      "cell_type": "code",
      "source": "16. What is the procedure for making a normal expression in regax case insensitive?\nans: we can pass re.IGNORECASE as a flag to make  a normal expression case insensitive.\n",
      "metadata": {},
      "execution_count": null,
      "outputs": []
    },
    {
      "cell_type": "code",
      "source": "17. What does the . character normally match? What does it match if re.DOTALL is passed as 2nd\nargument in re.compile()?\nans: Dot. character matches everything in input except newline character . By passing  re.DOTALL as a flag to re.compile() ,you can make the dot character \n     match all characters ,including the newline character.",
      "metadata": {},
      "execution_count": null,
      "outputs": []
    },
    {
      "cell_type": "code",
      "source": "18. If numReg = re.compile(r'\\d+'), what will numRegex.sub('X','11 drummers, 10 pipers, five rings, 4\nhen') return?\nans: the output will be 'X','11 drummers, 10 pipers, five rings, 4\nhen'                                                       ",
      "metadata": {},
      "execution_count": null,
      "outputs": []
    },
    {
      "cell_type": "code",
      "source": "import re\nnumreg=re.compile(r'\\d+')\nnumreg.sub('X','11 drummers, 10 pipers, five rings, 4 hen')",
      "metadata": {
        "trusted": true
      },
      "execution_count": 16,
      "outputs": [
        {
          "execution_count": 16,
          "output_type": "execute_result",
          "data": {
            "text/plain": "'X drummers, X pipers, five rings, X hen'"
          },
          "metadata": {}
        }
      ]
    },
    {
      "cell_type": "code",
      "source": "19. What does passing re.VERBOSE as the 2nd argument to re.compile() allow to do?\nans: re.VERBOSE will allow to add whitespace and comments to string passed to re.compile()",
      "metadata": {},
      "execution_count": null,
      "outputs": []
    },
    {
      "cell_type": "code",
      "source": "20. How would you write a regex that match a number with comma for every three digits? It must\nmatch the given following:\n'42'\n'1,234'\n'6,368,745'\n\nbut not the following:\n'12,34,567'(which has only two digits between the commas)\n'1234'(which lacks commas)",
      "metadata": {},
      "execution_count": null,
      "outputs": []
    },
    {
      "cell_type": "code",
      "source": "import re\npattern = r'^\\d{1,3}(,\\d{3})*$'\npagex= re.compile(pattern)\nfor ele in ['42','1,234','6,368,745','12,34,567','1234']:\n    print('output:',ele ,'->',pagex.search(ele))",
      "metadata": {
        "trusted": true
      },
      "execution_count": 15,
      "outputs": [
        {
          "name": "stdout",
          "text": "output: 42 -> <re.Match object; span=(0, 2), match='42'>\noutput: 1,234 -> <re.Match object; span=(0, 5), match='1,234'>\noutput: 6,368,745 -> <re.Match object; span=(0, 9), match='6,368,745'>\noutput: 12,34,567 -> None\noutput: 1234 -> None\n",
          "output_type": "stream"
        }
      ]
    },
    {
      "cell_type": "code",
      "source": "21. How would you write a regex that matches the full name of someone whose last name is\nWatanabe? You can assume that the first name that comes before it will always be one word that\nbegins with a capital letter. The regex must match the following:\n'Haruto Watanabe'\n'Alice Watanabe'\n'RoboCop Watanabe'\nbut not the following:\n'haruto Watanabe' (where the first name is not capitalized)\n'Mr. Watanabe' (where the preceding word has a nonletter character)\n'Watanabe' (which has no first name)\n'Haruto watanabe' (where Watanabe is not capitalized)\n\nans: pattern = r'[A-Z]{1}[a-z]*\\s Watanabe'",
      "metadata": {
        "trusted": true
      },
      "execution_count": null,
      "outputs": [
        {
          "ename": "<class 'SyntaxError'>",
          "evalue": "unterminated string literal (detected at line 13) (<ipython-input-22-46ad1f1da10c>, line 13)",
          "traceback": [
            "\u001b[0;36m  Cell \u001b[0;32mIn[22], line 13\u001b[0;36m\u001b[0m\n\u001b[0;31m    ans: pattern = r'[A-Z]{1}[a-z]*\\s Watanable\\'\u001b[0m\n\u001b[0m                   ^\u001b[0m\n\u001b[0;31mSyntaxError\u001b[0m\u001b[0;31m:\u001b[0m unterminated string literal (detected at line 13)\n"
          ],
          "output_type": "error"
        }
      ]
    },
    {
      "cell_type": "code",
      "source": "import re\npattern = r'[A-Z]{1}[a-z]*\\sWatanabe'\nnamex=re.compile(pattern)\nfor name in ['Haruto Watanabe','Alice Watanabe','RoboCop Watanabe', 'haruto Watanabe','Mr. Watanabe','Watanabe','Haruto watanabe']:\n    print('output:',name,'->',namex.search(name))",
      "metadata": {
        "trusted": true
      },
      "execution_count": 26,
      "outputs": [
        {
          "name": "stdout",
          "text": "output: Haruto Watanabe -> <re.Match object; span=(0, 15), match='Haruto Watanabe'>\noutput: Alice Watanabe -> <re.Match object; span=(0, 14), match='Alice Watanabe'>\noutput: RoboCop Watanabe -> <re.Match object; span=(4, 16), match='Cop Watanabe'>\noutput: haruto Watanabe -> None\noutput: Mr. Watanabe -> None\noutput: Watanabe -> None\noutput: Haruto watanabe -> None\n",
          "output_type": "stream"
        }
      ]
    },
    {
      "cell_type": "code",
      "source": "22. How would you write a regex that matches a sentence where the first word is either Alice, Bob,\nor Carol; the second word is either eats, pets, or throws; the third word is apples, cats, or baseballs;\nand the sentence ends with a period? This regex should be case-insensitive. It must match the\nfollowing:\n'Alice eats apples.'\n'Bob pets cats.'\n'Carol throws baseballs.'\n'Alice throws Apples.'\n'BOB EATS CATS'\nbut not the following:\n'RoboCop eats apples'\n'ALICE THROWS FOOTBALLS'\n'Carol eats 7 cats.'\n\nans:pattern= r'(Alice|Bob|Carol)\\s(eats|pets|throws)\\s(apples|cats|baseballs)\\.'",
      "metadata": {},
      "execution_count": null,
      "outputs": []
    },
    {
      "cell_type": "code",
      "source": "import re\npattern=r'(Alice|Bob|Carol)\\s(eats|pets|throws)\\s(apples|cats|baseballs)\\.'\ncasex=re.compile(pattern,re.IGNORECASE)\nfor ele in ['Alice eats apples.','Bob pets cats.','Carol throws baseballs.','Alice throws Apples.','BOB EATS CATS','RoboCop eats apples','ALICE THROWS FOOTBALLS','Carol eats 7 cats.']:\n    print('output:',ele,'->',casex.search(ele))",
      "metadata": {
        "trusted": true
      },
      "execution_count": 20,
      "outputs": [
        {
          "name": "stdout",
          "text": "output: Alice eats apples. -> <re.Match object; span=(0, 18), match='Alice eats apples.'>\noutput: Bob pets cats. -> <re.Match object; span=(0, 14), match='Bob pets cats.'>\noutput: Carol throws baseballs. -> <re.Match object; span=(0, 23), match='Carol throws baseballs.'>\noutput: Alice throws Apples. -> <re.Match object; span=(0, 20), match='Alice throws Apples.'>\noutput: BOB EATS CATS -> None\noutput: RoboCop eats apples -> None\noutput: ALICE THROWS FOOTBALLS -> None\noutput: Carol eats 7 cats. -> None\n",
          "output_type": "stream"
        }
      ]
    },
    {
      "cell_type": "code",
      "source": "",
      "metadata": {},
      "execution_count": null,
      "outputs": []
    }
  ]
}