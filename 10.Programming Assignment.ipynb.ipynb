{
  "metadata": {
    "language_info": {
      "name": ""
    },
    "kernelspec": {
      "name": "python",
      "display_name": "Python (Pyodide)",
      "language": "python"
    }
  },
  "nbformat_minor": 4,
  "nbformat": 4,
  "cells": [
    {
      "cell_type": "markdown",
      "source": "## Assignment 10 Solutions",
      "metadata": {}
    },
    {
      "cell_type": "markdown",
      "source": "##### 1.Write a Python Program to find sum of elements in a list ?",
      "metadata": {}
    },
    {
      "cell_type": "code",
      "source": "def sumofList():\n    in_ele = int(input('Enter the No of Entries in a List: '))\n    in_list = []\n    for itr in range(in_ele):\n        in_list.append(int(input('Enter a element: ')))\n    print(f'Sum of Elements: {sum(in_list)}')\n\nsumofList()",
      "metadata": {},
      "execution_count": null,
      "outputs": []
    },
    {
      "cell_type": "markdown",
      "source": "Enter the No of Entries in a List: 5\nEnter a element: 1\nEnter a element: 2\nEnter a element: 3\nEnter a element: 4\nEnter a element: 5\nSum of Elements: 15",
      "metadata": {}
    },
    {
      "cell_type": "markdown",
      "source": "##### 2.Write a Python Program to multiply all numbers in the list ?",
      "metadata": {}
    },
    {
      "cell_type": "code",
      "source": "def mulofList():\n    in_ele = int(input('Enter the No of Entries in a List: '))\n    in_list = []\n    mul = 1\n    for itr in range(in_ele):\n        in_list.append(int(input('Enter a element: ')))\n    for ele in in_list:\n        mul = mul * ele\n    print(mul)\n\nmulofList()",
      "metadata": {},
      "execution_count": null,
      "outputs": []
    },
    {
      "cell_type": "markdown",
      "source": "Enter the No of Entries in a List: 5\nEnter a element: 1\nEnter a element: 2\nEnter a element: 3\nEnter a element: 4\nEnter a element: 5\n120",
      "metadata": {}
    },
    {
      "cell_type": "markdown",
      "source": "##### 3.Write a Python Program to find smallest number in the list ?",
      "metadata": {}
    },
    {
      "cell_type": "code",
      "source": "def smallEleInList():\n    in_ele = int(input('Enter the No of elements in a list: '))\n    in_list = []\n    for ele in range(in_ele):\n        in_list.append(int(input('Enter a Element: ')))\n    print(f'The Smallest Element in {in_list} is {sorted(in_list)[0]}')\nsmallEleInList()",
      "metadata": {},
      "execution_count": null,
      "outputs": []
    },
    {
      "cell_type": "markdown",
      "source": "Enter the No of elements in a list: 5\nEnter a Element: 34\nEnter a Element: 56\nEnter a Element: 67\nEnter a Element: 87\nEnter a Element: 12\nThe Smallest Element in [34, 56, 67, 87, 12] is 12",
      "metadata": {}
    },
    {
      "cell_type": "markdown",
      "source": "##### 4.Write a Python Program to find largest number in the list ?",
      "metadata": {}
    },
    {
      "cell_type": "code",
      "source": "def largestEleInList():\n    in_ele = int(input('Enter the No of elements in a list: '))\n    in_list = []\n    for ele in range(in_ele):\n        in_list.append(int(input('Enter a Element: ')))\n    print(f'The Largest Element in {in_list} is {sorted(in_list, reverse=True)[0]}')\n\nlargestEleInList()",
      "metadata": {},
      "execution_count": null,
      "outputs": []
    },
    {
      "cell_type": "markdown",
      "source": "Enter the No of elements in a list: 12\nEnter a Element: 10\nEnter a Element: 98\nEnter a Element: 12\nEnter a Element: 14\nEnter a Element: 15\nEnter a Element: 65\nEnter a Element: 76\nEnter a Element: 87\nEnter a Element: 34\nEnter a Element: 56\nEnter a Element: 87\nEnter a Element: 34\nThe Largest Element in [10, 98, 12, 14, 15, 65, 76, 87, 34, 56, 87, 34] is 98",
      "metadata": {}
    },
    {
      "cell_type": "markdown",
      "source": "##### 5.Write a Python Program to find second largest number in the list ?",
      "metadata": {}
    },
    {
      "cell_type": "code",
      "source": "def secondLargestEleInList():\n    in_ele = int(input('Enter the No of elements in a list: '))\n    in_list = []\n    for ele in range(in_ele):\n        in_list.append(int(input('Enter a Element: ')))\n    print(f'The Second Largest Element in {in_list} is {sorted(in_list, reverse=True)[1]}')\n\nsecondLargestEleInList()",
      "metadata": {},
      "execution_count": null,
      "outputs": []
    },
    {
      "cell_type": "markdown",
      "source": "Enter the No of elements in a list: 5\nEnter a Element: 12\nEnter a Element: 13\nEnter a Element: 14\nEnter a Element: 15\nEnter a Element: 16\nThe Second Largest Element in [12, 13, 14, 15, 16] is 15",
      "metadata": {}
    },
    {
      "cell_type": "markdown",
      "source": "##### 6.Write a Python Program to find N largest elements in the list ?",
      "metadata": {}
    },
    {
      "cell_type": "code",
      "source": "def nLargestEleInList(k):\n    in_ele = int(input('Enter the No of elements in a list: '))\n    in_list = []\n    for ele in range(in_ele):\n        in_list.append(int(input('Enter a Element: ')))\n    print(f'The {k} Largest Element in {in_list} is {sorted(in_list, reverse=True)[0:k]}')\n\nnLargestEleInList(4)",
      "metadata": {},
      "execution_count": null,
      "outputs": []
    },
    {
      "cell_type": "markdown",
      "source": "Enter the No of elements in a list: 10\nEnter a Element: 1\nEnter a Element: 2\nEnter a Element: 3\nEnter a Element: 4\nEnter a Element: 5\nEnter a Element: 6\nEnter a Element: 7\nEnter a Element: 8\nEnter a Element: 9\nEnter a Element: 10\nThe 4 Largest Element in [1, 2, 3, 4, 5, 6, 7, 8, 9, 10] is [10, 9, 8, 7]",
      "metadata": {}
    },
    {
      "cell_type": "markdown",
      "source": "##### 7.Write a Python Program to find even numbers in the list ?",
      "metadata": {}
    },
    {
      "cell_type": "code",
      "source": "def evenNoInList():\n    in_ele = int(input('Enter the No of elements in a list: '))\n    in_list = []\n    even_list = []\n    for ele in range(in_ele):\n        in_list.append(int(input('Enter a Element: ')))\n    for ele in in_list:\n        if ele%2 == 0:\n            even_list.append(ele)\n    print(f'The Even Elements in {in_list} are {even_list}')\n\nevenNoInList()",
      "metadata": {},
      "execution_count": null,
      "outputs": []
    },
    {
      "cell_type": "markdown",
      "source": "Enter the No of elements in a list: 6\nEnter a Element: 1\nEnter a Element: 2\nEnter a Element: 3\nEnter a Element: 4\nEnter a Element: 5\nEnter a Element: 6\nThe Even Elements in [1, 2, 3, 4, 5, 6] are [2, 4, 6]",
      "metadata": {}
    },
    {
      "cell_type": "markdown",
      "source": "##### 8.Write a Python Program to find odd numbers in the list ?",
      "metadata": {}
    },
    {
      "cell_type": "code",
      "source": "def oddNoInList():\n    in_ele = int(input('Enter the No of elements in a list: '))\n    in_list = []\n    odd_list = []\n    for ele in range(in_ele):\n        in_list.append(int(input('Enter a Element: ')))\n    for ele in in_list:\n        if ele%2 != 0:\n            odd_list.append(ele)\n    print(f'The Even Elements in {in_list} are {odd_list}')\n\noddNoInList()",
      "metadata": {},
      "execution_count": null,
      "outputs": []
    },
    {
      "cell_type": "markdown",
      "source": "Enter the No of elements in a list: 6\nEnter a Element: 1\nEnter a Element: 2\nEnter a Element: 3\nEnter a Element: 4\nEnter a Element: 5\nEnter a Element: 6\nThe Even Elements in [1, 2, 3, 4, 5, 6] are [1, 3, 5]",
      "metadata": {}
    },
    {
      "cell_type": "markdown",
      "source": "##### 9.Write a Python Program to remove empty list from list ?",
      "metadata": {}
    },
    {
      "cell_type": "code",
      "source": "def checkEmptyList():\n    in_list = eval(input('Enter all elements of the list: '))\n    if [] in in_list:\n        print(f'There is an Empty list in {in_list} at Position {in_list.index([])}')\n        in_list.remove([])\n        print(f'The List after removing [] is {in_list}')\n    else:\n        print(f'There is no [] List in the list {in_list}')\n        \ncheckEmptyList()",
      "metadata": {},
      "execution_count": null,
      "outputs": []
    },
    {
      "cell_type": "markdown",
      "source": "Enter all elements of the list: [1,2,3,4,5,[],6,7,8,9,0]\nThere is an Empty list in [1, 2, 3, 4, 5, [], 6, 7, 8, 9, 0] at Position 5\nThe List after removing [] is [1, 2, 3, 4, 5, 6, 7, 8, 9, 0]",
      "metadata": {}
    },
    {
      "cell_type": "markdown",
      "source": "##### 10.Write a Python Program to Cloning or Copying a list ?",
      "metadata": {}
    },
    {
      "cell_type": "code",
      "source": "import copy\n\ndef cloneList():\n    in_list = eval(input('Enter a list'))\n    print(in_list, id(in_list))\n    cloned_list = in_list.copy()\n    print(cloned_list, id(cloned_list))\n\ncloneList()",
      "metadata": {},
      "execution_count": null,
      "outputs": []
    },
    {
      "cell_type": "markdown",
      "source": "Enter a list[1,2,3,4,5,6,7,8,9,0]\n[1, 2, 3, 4, 5, 6, 7, 8, 9, 0] 1804715913280\n[1, 2, 3, 4, 5, 6, 7, 8, 9, 0] 1804715963072",
      "metadata": {}
    },
    {
      "cell_type": "markdown",
      "source": "##### 11.Write a Python Program to count occurences of an element in a list ?",
      "metadata": {}
    },
    {
      "cell_type": "code",
      "source": "def checkOccurence():\n    in_list = eval(input('Enter the elements of the list: '))\n    in_num = eval(input('Enter the element to find: '))\n    count = 0\n    if in_num in in_list:\n        for ele in in_list:\n            if ele == in_num:\n                count = count+1\n    print(f'There are {count} occurences of {in_num} in {in_list}')\n    \ncheckOccurence()",
      "metadata": {},
      "execution_count": null,
      "outputs": []
    },
    {
      "cell_type": "markdown",
      "source": "Enter the elements of the list: [1,2,3,1,2,3,1,2,3,4,5,6,4,5,6]\nEnter the element to find: 6\nThere are 2 occurences of 6 in [1, 2, 3, 1, 2, 3, 1, 2, 3, 4, 5, 6, 4, 5, 6]",
      "metadata": {}
    }
  ]
}