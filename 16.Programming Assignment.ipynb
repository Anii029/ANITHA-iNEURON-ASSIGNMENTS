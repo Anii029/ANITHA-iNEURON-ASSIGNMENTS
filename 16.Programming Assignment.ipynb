{
  "metadata": {
    "language_info": {
      "name": ""
    },
    "kernelspec": {
      "name": "python",
      "display_name": "Python (Pyodide)",
      "language": "python"
    }
  },
  "nbformat_minor": 4,
  "nbformat": 4,
  "cells": [
    {
      "cell_type": "markdown",
      "source": "## Assignment 16 Solutions",
      "metadata": {}
    },
    {
      "cell_type": "markdown",
      "source": "##### 1.Write a function that stutters a word as if someone is struggling to read it. The first two letters are repeated twice with an ellipsis ... and space after each, and then the word is pronounced with a question mark ?",
      "metadata": {}
    },
    {
      "cell_type": "markdown",
      "source": "#### Examples: stutter(\"incredible\") ➞ \"in... in... incredible?\"\n\nstutter(\"enthusiastic\") ➞ \"en... en... enthusiastic?\"\n\nstutter(\"outstanding\") ➞ \"ou... ou... outstanding?\"",
      "metadata": {}
    },
    {
      "cell_type": "markdown",
      "source": "Hint :- Assume all input is in lower case and at least two characters long.",
      "metadata": {}
    },
    {
      "cell_type": "code",
      "source": "def stutterWord():\n    in_string = input('Enter the Word :')\n    out_string = in_string.replace(in_string[0:2],((in_string[0:2]+'... ')*2)+ in_string[0:2])  +'?'\n    print(f'{in_string} ➞ {out_string}')\n\nfor i in range(3):\n    stutterWord()",
      "metadata": {},
      "execution_count": null,
      "outputs": []
    },
    {
      "cell_type": "markdown",
      "source": "Enter the Word :incredible\nincredible ➞ in... in... incredible?\n\nEnter the Word :enthusiastic\nenthusiastic ➞ en... en... enthusiastic?\n\nEnter the Word :outstanding\noutstanding ➞ ou... ou... outstanding?",
      "metadata": {}
    },
    {
      "cell_type": "markdown",
      "source": "##### 2..Create a function that takes an angle in radians and returns the corresponding angle in degrees rounded to one decimal place ?",
      "metadata": {}
    },
    {
      "cell_type": "markdown",
      "source": "#### Examples: radians_to_degrees(1) ➞ 57.3\n\nradians_to_degrees(20) ➞ 1145.9\n\nradians_to_degrees(50) ➞ 2864.8",
      "metadata": {}
    },
    {
      "cell_type": "code",
      "source": "import math\ndef radianToDegree():\n    in_num = int(input('Enter the angle in Radians: '))\n    out_num = (180/math.pi)*in_num\n    print(f'{in_num} radian(s) ➞ {out_num:.1f} degrees')\n\nfor x in range(3):\n    radianToDegree()",
      "metadata": {},
      "execution_count": null,
      "outputs": []
    },
    {
      "cell_type": "markdown",
      "source": "Enter the angle in Radians: 1\n1 radian(s) ➞ 57.3 degrees\n\nEnter the angle in Radians: 20\n20 radian(s) ➞ 1145.9 degrees\n\nEnter the angle in Radians: 50\n50 radian(s) ➞ 2864.8 degrees",
      "metadata": {}
    },
    {
      "cell_type": "markdown",
      "source": "##### 3.In this challenge, establish if a given integer num is a Curzon number. If 1 plus 2 elevated to num is exactly divisible by 1 plus 2 multiplied by num, then num is a Curzon number. Given a non-negative integer num, implement a function that returns True if num is a Curzon number, or False otherwise.",
      "metadata": {}
    },
    {
      "cell_type": "markdown",
      "source": "#### Examples: is_curzon(5) ➞ True # 2 ** 5 + 1 = 33 # 2 * 5 + 1 = 11 # 33 is a multiple of 11\n\nis_curzon(10) ➞ False # 2 ** 10 + 1 = 1025 # 2 * 10 + 1 = 21 # 1025 is not a multiple of 21\n\nis_curzon(14) ➞ True # 2 ** 14 + 1 = 16385 # 2 * 14 + 1 = 29 # 16385 is a multiple of 29",
      "metadata": {}
    },
    {
      "cell_type": "code",
      "source": "def checkCurzon():\n    in_num = int(input(\"Enter a number: \"))\n    if (pow(2,in_num)+1)%((2*in_num)+1) == 0:\n        print(f'{in_num} is a Curzon Number')\n    else:\n        print(f'{in_num} is Not a Curzon Number')\n\nfor x in range(4):\n    checkCurzon()",
      "metadata": {},
      "execution_count": null,
      "outputs": []
    },
    {
      "cell_type": "markdown",
      "source": "Enter a number: 5\n5 is a Curzon Number\n\nEnter a number: 10\n10 is Not a Curzon Number\n\nEnter a number: 14\n14 is a Curzon Number\n\nEnter a number: 12\n12 is Not a Curzon Number",
      "metadata": {}
    },
    {
      "cell_type": "markdown",
      "source": "##### 4.Given the side length x find the area of a hexagon ?",
      "metadata": {}
    },
    {
      "cell_type": "markdown",
      "source": "##### Examples: area_of_hexagon(1) ➞ 2.6\n\narea_of_hexagon(2) ➞ 10.4\n\narea_of_hexagon(3) ➞ 23.4",
      "metadata": {}
    },
    {
      "cell_type": "code",
      "source": "import math\ndef areaOfHexagon():\n    in_num = int(input('Enter the side length of a Hexagon: '))\n    out_num = ((3*math.sqrt(3))/2)*(pow(in_num,2))\n    print(f'Area for Hexagon of sidelength {in_num} ➞ {out_num:.1f}')\n    \nfor x in range(3):\n    areaOfHexagon()",
      "metadata": {},
      "execution_count": null,
      "outputs": []
    },
    {
      "cell_type": "markdown",
      "source": "Enter the side length of a Hexagon: 1\nArea for Hexagon of sidelength 1 ➞ 2.6\n\nEnter the side length of a Hexagon: 2\nArea for Hexagon of sidelength 2 ➞ 10.4\n\nEnter the side length of a Hexagon: 3\nArea for Hexagon of sidelength 3 ➞ 23.4",
      "metadata": {}
    },
    {
      "cell_type": "markdown",
      "source": "##### 5.Create a function that returns a base-2 (binary) representation of a base-10 (decimal) string number. To convert is simple:",
      "metadata": {}
    },
    {
      "cell_type": "markdown",
      "source": "((2) means base-2 and (10) means base-10)\n\n010101001(2) = 1 + 8 + 32 + 128.\n\nGoing from right to left, the value of the most right bit is 1, now from that every bit to the left will be x2 the value, value of an 8 bit binary numbers are (256, 128, 64, 32, 16, 8, 4, 2, 1).\n\n##### Examples:\nbinary(1) ➞ \"1\" # 1* 1 = 1 binary(5) ➞ \"101\" # 1 1 + 1 4 = 5 binary(10) ➞ \"1010\" # 1 2 + 1 8 = 10",
      "metadata": {}
    },
    {
      "cell_type": "code",
      "source": "def getBinary():\n    in_num = int(input(\"Enter a Number: \"))\n    out_num = bin(in_num).replace('0b','') \n    print(f'Binary of {in_num} ➞ {out_num}')\n\nfor x in range(3):\n    getBinary()",
      "metadata": {},
      "execution_count": null,
      "outputs": []
    },
    {
      "cell_type": "markdown",
      "source": "Enter a Number: 1\nBinary of 1 ➞ 1\n\nEnter a Number: 5\nBinary of 5 ➞ 101\n\nEnter a Number: 10\nBinary of 10 ➞ 1010",
      "metadata": {}
    }
  ]
}