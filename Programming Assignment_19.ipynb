{
  "metadata": {
    "kernelspec": {
      "name": "python",
      "display_name": "Python (Pyodide)",
      "language": "python"
    },
    "language_info": {
      "name": ""
    }
  },
  "nbformat_minor": 4,
  "nbformat": 4,
  "cells": [
    {
      "cell_type": "code",
      "source": "1.Create a function that takes a string and returns a string in which each character is repeated once.\nExamples:\ndouble_char(\"String\") ➞ \"SSttrriinngg\"\ndouble_char(\"Hello World!\") ➞ \"HHeelllloo WWoorrlldd!!\"\ndoublechar(\"1234!_\") ➞ \"11223344!!__\"\n\n",
      "metadata": {
        "trusted": true
      },
      "outputs": [],
      "execution_count": null
    },
    {
      "cell_type": "code",
      "source": "def double_char(in_string):\n    out_string = ''\n    for ele in in_string:\n        out_string += ele*2\n    return out_string\n\nprint(f'➞ {double_char(\"String\")}')\nprint(f'➞ {double_char(\"Hello World!\")}')\nprint(f'➞ {double_char(\"1234!_\")}')",
      "metadata": {
        "trusted": true
      },
      "outputs": [],
      "execution_count": null
    },
    {
      "cell_type": "code",
      "source": "2.Create a function that reverses a boolean value and returns the string \"boolean expected\" if another variable type is given.\nExamples:\nreverse(True) ➞ False\nreverse(False) ➞ True\nreverse(0) ➞ \"boolean expected\"\nreverse(None) ➞ \"boolean expected\"\n\n",
      "metadata": {
        "trusted": true
      },
      "outputs": [],
      "execution_count": null
    },
    {
      "cell_type": "code",
      "source": "def reverse(in_bool):\n    if type(in_bool) == bool:\n        return not in_bool\n    else:\n        return \"Boolean Expected\"\n\nprint(f'reverse(True) ➞ {reverse(True)}')\nprint(f'reverse(False) ➞ {reverse(False)}')\nprint(f'reverse(0) ➞ {reverse(0)}')\nprint(f'reverse(None) ➞ {reverse(None)}')\n",
      "metadata": {
        "trusted": true
      },
      "outputs": [],
      "execution_count": null
    },
    {
      "cell_type": "code",
      "source": "3. Create a function that returns the thickness (in meters) of a piece of paper after folding it n number of times. The paper starts off with a thickness of 0.5mm.\nExamples:\nnum_layers(1) ➞ \"0.001m\" # Paper folded once is 1mm (equal to 0.001m) num_layers(4) ➞ \"0.008m\" # Paper folded 4 times is 8mm (equal to 0.008m) num_layers(21) ➞ \"1048.576m\" # Paper folded 21 times is 1048576mm (equal to 1048.576m)\n\n",
      "metadata": {
        "trusted": true
      },
      "outputs": [],
      "execution_count": null
    },
    {
      "cell_type": "code",
      "source": "def num_layers(in_num):\n    out_num = 0.5\n    for ele in range(in_num):\n        out_num *= 2\n    print(f'Output ➞ {out_num/1000}m')\n    \nnum_layers(1)\nnum_layers(4)\nnum_layers(21)",
      "metadata": {
        "trusted": true
      },
      "outputs": [],
      "execution_count": null
    },
    {
      "cell_type": "code",
      "source": "4.Create a function that takes a single string as argument and returns an ordered list containing the indices of all capital letters in the string.\nExamples:\nindex_of_caps(\"eDaBiT\") ➞ [1, 3, 5]\nindex_of_caps(\"eQuINoX\") ➞ [1, 3, 4, 6]\nindex_of_caps(\"determine\") ➞ []\nindex_of_caps(\"STRIKE\") ➞ [0, 1, 2, 3, 4, 5]\nindex_of_caps(\"sUn\") ➞ [1]\n\n",
      "metadata": {
        "trusted": true
      },
      "outputs": [],
      "execution_count": null
    },
    {
      "cell_type": "code",
      "source": "def index_of_caps(in_string):\n    out_string = []\n    for ele in in_string:\n        if ele.isupper():\n            out_string.append(in_string.index(ele))\n    print(f'{in_string} ➞ {out_string}')\n\nindex_of_caps(\"eDaBiT\")\nindex_of_caps(\"eQuINoX\")\nindex_of_caps(\"determine\")\nindex_of_caps(\"STRIKE\")\nindex_of_caps(\"sUn\")\n",
      "metadata": {
        "trusted": true
      },
      "outputs": [],
      "execution_count": null
    },
    {
      "cell_type": "code",
      "source": "5.Using list comprehensions, create a function that finds all even numbers from 1 to the given number.\nExamples:\nfind_even_nums(8) ➞ [2, 4, 6, 8]\nfind_even_nums(4) ➞ [2, 4]\nfind_even_nums(2) ➞ [2]\n\n",
      "metadata": {
        "trusted": true
      },
      "outputs": [],
      "execution_count": null
    },
    {
      "cell_type": "code",
      "source": "def find_even_nums(in_num):\n    out_list = [i for i in range(1,in_num+1) if i%2 == 0]\n    print(f'Output ➞ {out_list}')\n    \nfind_even_nums(8)\nfind_even_nums(4)\nfind_even_nums(2)",
      "metadata": {
        "trusted": true
      },
      "outputs": [],
      "execution_count": null
    },
    {
      "cell_type": "code",
      "source": "",
      "metadata": {
        "trusted": true
      },
      "outputs": [],
      "execution_count": null
    },
    {
      "cell_type": "code",
      "source": "",
      "metadata": {
        "trusted": true
      },
      "outputs": [],
      "execution_count": null
    }
  ]
}