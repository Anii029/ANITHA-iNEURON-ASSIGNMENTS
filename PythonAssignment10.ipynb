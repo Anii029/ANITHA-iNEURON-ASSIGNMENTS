{
  "metadata": {
    "language_info": {
      "codemirror_mode": {
        "name": "python",
        "version": 3
      },
      "file_extension": ".py",
      "mimetype": "text/x-python",
      "name": "python",
      "nbconvert_exporter": "python",
      "pygments_lexer": "ipython3",
      "version": "3.8"
    },
    "kernelspec": {
      "name": "python",
      "display_name": "Python (Pyodide)",
      "language": "python"
    }
  },
  "nbformat_minor": 4,
  "nbformat": 4,
  "cells": [
    {
      "cell_type": "code",
      "source": "1. How do you distinguish between shutil.copy() and shutil.copytree()?\nans:1. shutil.copy() method is used to copy the contents of a file  from one file  to another file/folder,it primary takes two arguments src,dest.\n     src represents the file to be copied  where as  destinations refer to the file/folder to where the src data shouls be copied,if src with exact\n     name will be copied to dest where dest retains it name.\n    2. shutil.copytree() function is used to copy the entire contents of a folder to other folder. it also takes two arguments src& dest,it copies all the \n    contents recursively and stores it in dest. the imp catch here is dest must not exist prior to this and it will be created during the copy operation.\n    permissions and times of directories are copied with shutil.copystat() and individual files are copied using shutil.copy2() by default which can be\n    modified using copy_function attribute.",
      "metadata": {},
      "execution_count": null,
      "outputs": []
    },
    {
      "cell_type": "code",
      "source": "2. What function is used to rename files??\nans:os.rename() function is used to rename files or directories using a python program,this function takes two arguments src and dest.\n    src represents the namefile/directory which we want to rename,where as dest represents the new name of the file/directory.",
      "metadata": {},
      "execution_count": null,
      "outputs": []
    },
    {
      "cell_type": "code",
      "source": "3. What is the difference between the delete functions in the send2trash and shutil modules?\nans: shutil module provides a function called as shutil.rmtree() which deletes a directory and all its contents. the other functions with \nsimilar functionality are os.remove() - removes a file. os.rmdir() removes a empty directory.\nthe problem with these functions is once a file is deleted. it will be lost permanently ,if a file is  deleted accidentally using these methods\n there is no way we can recover the deleted file.\nwhere as send2trash module provides  a function called send2trash() to delete a file/directory.these methods moves the files/directories to trash\nfolder instead of permanently deleting them .hence,if a file is deleted using the send2trash(). send2trash is not included with python standard library\nlike os & shutil modules.it needs to be installed explicitly using the command !pip install send2trash",
      "metadata": {},
      "execution_count": null,
      "outputs": []
    },
    {
      "cell_type": "code",
      "source": "4.ZipFile objects have a close() method just like File objects’ close() method. What ZipFile method is\nequivalent to File objects’ open() method?\nans:ZipFileModule provides a method called as zipfile.ZipFile() to read and write zipFiles.it takes arguments like filename and  mode etc\n    zipFile.ZipFile('filename',mode='r')",
      "metadata": {},
      "execution_count": null,
      "outputs": []
    },
    {
      "cell_type": "code",
      "source": "5. Create a programme that searches a folder tree for files with a certain file extension (such as .pdf\nor .jpg). Copy these files from whatever location they are in to a new folder.\nans: ",
      "metadata": {},
      "execution_count": null,
      "outputs": []
    },
    {
      "cell_type": "code",
      "source": "import os\nimport shutil\ndef search_and_copy(source,destination,extensions):\n    source=os.path.abspath(source)\n    destination=os.path.abspath(destination)\n    for foldername,subfolder,filenames in os.walk(source):\n        print(f'folder Name-> {foldername}',end='\\n\\n')\n        print(f'subfolders-> {subfolder}',end='\\n\\n')\n        print(f'Files-> {filenames}',end='\\n\\n')\n        for filename in filename :\n            filename,extension=os.path.splitext(filename)\n            if extension in extensions:\n                targetFile= foldername+os.path.sep+filename+extension\n                shutil.copy(targetFile,destination)\n        print(f'Files copied successfully from{source}to destination')\nextensions=['.pdf','.jpg','.ipynb']\nsource='dummy source'\ndestination='dummy destination'\nsearch_and_copy(source,destination,extensions)\n        ",
      "metadata": {
        "trusted": true
      },
      "execution_count": 2,
      "outputs": []
    },
    {
      "cell_type": "code",
      "source": "",
      "metadata": {},
      "execution_count": null,
      "outputs": []
    }
  ]
}