{
  "metadata": {
    "language_info": {
      "codemirror_mode": {
        "name": "python",
        "version": 3
      },
      "file_extension": ".py",
      "mimetype": "text/x-python",
      "name": "python",
      "nbconvert_exporter": "python",
      "pygments_lexer": "ipython3",
      "version": "3.8"
    },
    "kernelspec": {
      "name": "python",
      "display_name": "Python (Pyodide)",
      "language": "python"
    }
  },
  "nbformat_minor": 4,
  "nbformat": 4,
  "cells": [
    {
      "cell_type": "code",
      "source": "1.How many seconds are in an hour? Use the interactive interpreter as a calculator and multiply the\nnumber of seconds in a minute (60) by the number of minutes in an hour (also 60).",
      "metadata": {},
      "execution_count": null,
      "outputs": []
    },
    {
      "cell_type": "code",
      "source": "print (60*60)",
      "metadata": {
        "trusted": true
      },
      "execution_count": 1,
      "outputs": [
        {
          "name": "stdout",
          "text": "3600\n",
          "output_type": "stream"
        }
      ]
    },
    {
      "cell_type": "code",
      "source": "2. Assign the result from the previous task (seconds in an hour) to a variable called\nseconds_per_hour.",
      "metadata": {},
      "execution_count": null,
      "outputs": []
    },
    {
      "cell_type": "code",
      "source": "seconds_per_hour=60*60\nprint(seconds_per_hour)",
      "metadata": {
        "trusted": true
      },
      "execution_count": 2,
      "outputs": [
        {
          "name": "stdout",
          "text": "3600\n",
          "output_type": "stream"
        }
      ]
    },
    {
      "cell_type": "code",
      "source": "3. How many seconds do you think there are in a day? Make use of the variables seconds per hour\nand minutes per hour.",
      "metadata": {},
      "execution_count": null,
      "outputs": []
    },
    {
      "cell_type": "code",
      "source": "minutes_per_hour=60\nprint(seconds_per_hour*24)",
      "metadata": {
        "trusted": true
      },
      "execution_count": 3,
      "outputs": [
        {
          "name": "stdout",
          "text": "86400\n",
          "output_type": "stream"
        }
      ]
    },
    {
      "cell_type": "code",
      "source": "4. Calculate seconds per day again, but this time save the result in a variable called seconds_per_day",
      "metadata": {},
      "execution_count": null,
      "outputs": []
    },
    {
      "cell_type": "code",
      "source": "seconds_per_day=24*60*60\nprint(seconds_per_day)",
      "metadata": {
        "trusted": true
      },
      "execution_count": 4,
      "outputs": [
        {
          "name": "stdout",
          "text": "86400\n",
          "output_type": "stream"
        }
      ]
    },
    {
      "cell_type": "code",
      "source": "5. Divide seconds_per_day by seconds_per_hour. Use floating-point (/) division.",
      "metadata": {},
      "execution_count": null,
      "outputs": []
    },
    {
      "cell_type": "code",
      "source": "print(seconds_per_day/seconds_per_hour)",
      "metadata": {
        "trusted": true
      },
      "execution_count": 5,
      "outputs": [
        {
          "name": "stdout",
          "text": "24.0\n",
          "output_type": "stream"
        }
      ]
    },
    {
      "cell_type": "code",
      "source": "6. Divide seconds_per_day by seconds_per_hour, using integer (//) division. Did this number agree\nwith the floating-point value from the previous question, aside from the final .0?",
      "metadata": {},
      "execution_count": null,
      "outputs": []
    },
    {
      "cell_type": "code",
      "source": "print(seconds_per_day//seconds_per_hour,end='')\nprint('-> yes this values agree with the floating point value from the previous question')",
      "metadata": {
        "trusted": true
      },
      "execution_count": 7,
      "outputs": [
        {
          "name": "stdout",
          "text": "24-> yes this values agree with the floating point value from the previous question\n",
          "output_type": "stream"
        }
      ]
    },
    {
      "cell_type": "code",
      "source": "7. Write a generator, genPrimes, that returns the sequence of prime numbers on successive calls to\nits next() method: 2, 3, 5, 7, 11, ...",
      "metadata": {},
      "execution_count": null,
      "outputs": []
    },
    {
      "cell_type": "code",
      "source": "def genPrimes():\n    n=0\n    while True:\n        if n==2 or n==3:\n            yield n\n        elif((n-1)%6==0 or (n+1)%6==0)and n!=1:\n            n=n+1\noutput=genPrimes()\nfor ele in range(5):\n    print(next(output))",
      "metadata": {
        "trusted": true
      },
      "execution_count": null,
      "outputs": []
    },
    {
      "cell_type": "code",
      "source": "",
      "metadata": {},
      "execution_count": null,
      "outputs": []
    }
  ]
}