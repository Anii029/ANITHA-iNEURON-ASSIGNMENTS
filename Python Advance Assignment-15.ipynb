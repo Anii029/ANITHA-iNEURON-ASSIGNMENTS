{
  "metadata": {
    "kernelspec": {
      "name": "python",
      "display_name": "Python (Pyodide)",
      "language": "python"
    },
    "language_info": {
      "name": ""
    }
  },
  "nbformat_minor": 4,
  "nbformat": 4,
  "cells": [
    {
      "cell_type": "code",
      "source": "1. What are the new features added in Python 3.8 version?\nAns: Some New Features Added in Python 3.8 Version are:\n\nWalrus Operator: This operator is used to assign and return a value in the same expression. This removes the need for initializing the variable upfront. The major benefit of this is it saves some lines of code. It is also known as The Walrus Operator due to its similarity to the eyes and tusks of a walrus.\n\nyield and return statements do not require parentheses to return multiple values.\n\nReversed works with a dictionary. The built-in method reversed() can be used for accessing the elements in the reverse order of insertion\n\nDict comprehensions have been modified so that the key is computed first and the value second.\n\nimportlib_metadata is a new library added in the Python’s standard utility modules, that provides an API for accessing an installed package’s metadata, such as its entry points or its top-level name.\n\nf-strings now support = , to make string interpolation easy. Python 3.8 allows the use of the above-discussed assignment operator and equal sign (=) inside the f-strings.\n\nIn the three-argument form of pow(), when the exponent is -1, it calculates the modular multiplicative inverse of the given value\n\nThe csv.DictReader now returns instances of dictionary instead of a collections.OrderedDict.\n\nIf you miss a comma in your code such as a = [(1, 2) (3, 4)], instead of throwing TypeError, it displays an informative Syntax warning.\n\n# Example of Walrus Operator\nif (sum := 10 + 5) > 10: # its always recommended to use paranthesis with walrus operator\n    print(sum) #return 15 \n\n# Example of yield and return\ndef hello():\n    return 'Hello','Good Morning'\nprint(hello())\ndef count():\n    for i in range(5):\n        yield i,i**2\nfor ele in count():\n    print(ele, end=\" \")\nprint()\n    \n# Example of Reversed Support for dict\nt_dict = {\"Name\":\"Mano Vishnu\",\"Role\":\"Data Scientist\"}\nfor ele in reversed(t_dict):\n    print(f'{ele}:\"{t_dict[ele]}\"')\n    \n# Example of using = in F-strings\nlen_string = len(\"Ineuron Full Stack Data Science\")\nprint(f'The length of string is {len_string = }')\n\n# Example of Infomrative syntax instead of synatx error while missing comma.\nr_list = [(1,2) (3,4)]\n  File \"<ipython-input-1-5c677d2a8075>\", line 2\n    if (sum := 10 + 5) > 10: # its always recommended to use paranthesis with walrus operator\n            ^\nSyntaxError: invalid syntax\n",
      "metadata": {
        "trusted": true
      },
      "outputs": [],
      "execution_count": null
    },
    {
      "cell_type": "code",
      "source": "2. What is monkey patching in Python?\nAns: In Python, the term monkey patch refers to making dynamic (or run-time) modifications to a class or module. In Python, we can actually change the behavior of code at run-time.\n\nclass A:\n    def func(self):\n        print(\"func() is being called\")\n\ndef monkey_f(self):\n    print(\"monkey_f() is being called\")\n\nA.func = monkey_f\nsome_object = A()\nsome_object.func()\n",
      "metadata": {
        "trusted": true
      },
      "outputs": [],
      "execution_count": null
    },
    {
      "cell_type": "code",
      "source": "3. What is the difference between a shallow copy and deep copy?\nAns: The Differences between a Shallow Copy and deep copy are as follows:\n\nWhen an object is copied using copy(), it is called shallow copy as changes made in copied object will also make corresponding changes in original object, because both the objects will be referencing same address location.\n\nWhen an object is copied using deepcopy(), it is called deep copy as changes made in copied object will not make corresponding changes in original object, because both the objects will not be referencing same address location.\n\nfrom copy import deepcopy, copy\nl_one = [1,2,[3,4],5,6]\nl_two = deepcopy(l_one)\nl_three = l_one\nprint(f'Original Elements of each List\\n{l_one}\\n{l_two}\\n{l_three}')\nl_two[0] = 10\nl_three[-1] = 20\nprint(f'New Elements of each List\\n{l_one}\\n{l_two}\\n{l_three}')\n",
      "metadata": {
        "trusted": true
      },
      "outputs": [],
      "execution_count": null
    },
    {
      "cell_type": "code",
      "source": "4. What is the maximum possible length of an identifier?\nAns: In Python, the highest possible length of an identifier is 79 characters. Python is a high level programming language. It’s also a complex form and a collector of waste.\n\nPython, particularly when combined with identifiers, is case-sensitive.\nWhen writing or using identifiers in Python, it has a maximum of 79 characters.\nUnlikely, Python gives the identifiers unlimited length.\nHowever, the layout of PEP-8 prevents the user from breaking the rules and includes a 79-character limit.\n",
      "metadata": {
        "trusted": true
      },
      "outputs": [],
      "execution_count": null
    },
    {
      "cell_type": "code",
      "source": "5. What is generator comprehension?\nAns: A generator comprehension is a single-line specification for defining a generator in Python.\n\nIt is absolutely essential to learn this syntax in order to write simple and readable code.\nGenerator comprehension uses round bracket unlike square bracket in list comprehension.\nThe generator yields one item at a time and generates item only when in demand. Whereas, in a list comprehension, Python reserves memory for the whole list. Thus we can say that the generator expressions are memory efficient than the lists.\nin_list = [x for x in range(10)] # List Comprehension\nprint(in_list)\nout_gen = (x for x in in_list if x%2 == 0) # Generator Comprehension\nprint(out_gen) # Returns a Generator Object\nfor ele in out_gen:\n    print(ele, end=\" \")",
      "metadata": {
        "trusted": true
      },
      "outputs": [],
      "execution_count": null
    }
  ]
}