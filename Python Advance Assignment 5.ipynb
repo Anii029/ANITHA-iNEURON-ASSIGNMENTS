{
  "metadata": {
    "kernelspec": {
      "name": "python",
      "display_name": "Python (Pyodide)",
      "language": "python"
    },
    "language_info": {
      "name": ""
    }
  },
  "nbformat_minor": 4,
  "nbformat": 4,
  "cells": [
    {
      "cell_type": "code",
      "source": "Q1. What is the meaning of multiple inheritance?\nAns: Inheritence is nothing but reusing the code of Parent class by the child class. Similary when a child class inherits its properties from multiple Parent classes this scenario is called Multiple Inheritence\n\nclass Parent_one:\n    pass\nclass Parent_two:\n    pass\nclass child(Parent_one,Parent_two):\n    pass\n",
      "metadata": {
        "trusted": true
      },
      "outputs": [],
      "execution_count": null
    },
    {
      "cell_type": "code",
      "source": "Q2. What is the concept of delegation?\nAns: Delegation provides a proxy object for any class thay you want on top of the main class. its like a wrapper to your class so that you can access limited resources of the main class.\n\nit Wraps the object of main class into a smaller object with limited access\n\nSimply Delegation means that you can include a instance of another class as an instance variable, and forward messages to the instance.\n\nclass Myclass:\n    def sayHi(self):\n        print('Hey iam back')\n    def whoAmI(self):\n        print('Iam the main class')\nclass NewClass:\n    def __init__(self,obj):\n        self.main = obj\n    def welcome(self):\n        self.main.sayHi()\n\nm = Myclass()        \nn = NewClass(m)\nm.sayHi()\nn.main.sayHi()\nn.welcome()\nn.main.whoAmI()\nHey iam back\nHey iam back\nHey iam back\nIam the main class\n",
      "metadata": {
        "trusted": true
      },
      "outputs": [],
      "execution_count": null
    },
    {
      "cell_type": "code",
      "source": "Q3. What is the concept of composition?\nAns: In the concept of Composition, a class refers to one or more other classes by using instances of those classes as a instance variable. irrespective of inheritence in this approach all the parent class members are not inherited into child class, but only required methods from a class are used by using class instances.\n\nclass Salary:\n    def __init__(self,pay):\n        self.pay = pay\n    def get_total(self):\n        return self.pay*12\n    \nclass Employee:\n    def __init__(self,pay,bonus):\n        self.pay = pay\n        self.bonus = bonus\n        self.obj_salary = Salary(self.pay)\n    def annual_salary(self):\n        return f'Total Salary : {str(self.obj_salary.get_total())}'\n\nobj_emp = Employee(800,500)\nprint(obj_emp.annual_salary())\nTotal Salary : 9600\n",
      "metadata": {
        "trusted": true
      },
      "outputs": [],
      "execution_count": null
    },
    {
      "cell_type": "code",
      "source": "Q4. What are bound methods and how do we use them?\nAns: If a function is an attribute of class and it is accessed via the instances, they are called bound methods. A bound method is one that has self as its first argument. Since these are dependent on the instance of classes, these are also known as instance methods.\n\nclass Test:\n    def method_one(self): # bound method\n        print(\"Called method_one\")\n    @classmethod\n    def method_two(cls): # unbound method\n        print(\"Called method_two\")\n    @staticmethod\n    def method_three(): # static method\n        print(\"Called method_three\")\n\ntest = Test()\ntest.method_one() # accessing through instance object\ntest.method_two() # accessing through instance object\nTest.method_two() # accessing directly through class\nTest.method_three() # accessing directly through class\nCalled method_one\nCalled method_two\nCalled method_two\nCalled method_three\n",
      "metadata": {
        "trusted": true
      },
      "outputs": [],
      "execution_count": null
    },
    {
      "cell_type": "code",
      "source": "Q5. What is the purpose of pseudoprivate attributes?\nAns: Pseudoprivate attributes are also useful in larger frameworks or tools, both to avoid introducing new method names that might accidentally hide definitions elsewhere in the class tree and to reduce the chance of internal methods being replaced by names defined lower in the tree. If a method is intended for use only within a class that may be mixed into other classes, the double underscore prefix ensures that the method won't interfere with other names in the tree, especially in multiple-inheritance scenarios\n\nPseudoprivate names also prevent subclasses from accidentally redefining the internal method's names,\n\nclass Super:\n    def method(self): # A real application method\n        pass\nclass Tool:\n    def _method(self): # becomes _Tool_method\n        pass\n    def other(self): # uses internal method\n        self._method()\nclass Subl(Tool,Super):\n    def actions(self):\n        self.method()\nclass Sub2(Tool):\n    def __init__(self):\n        self.method = 99",
      "metadata": {
        "trusted": true
      },
      "outputs": [],
      "execution_count": null
    },
    {
      "cell_type": "code",
      "source": "",
      "metadata": {
        "trusted": true
      },
      "outputs": [],
      "execution_count": null
    },
    {
      "cell_type": "code",
      "source": "",
      "metadata": {
        "trusted": true
      },
      "outputs": [],
      "execution_count": null
    },
    {
      "cell_type": "code",
      "source": "",
      "metadata": {
        "trusted": true
      },
      "outputs": [],
      "execution_count": null
    },
    {
      "cell_type": "code",
      "source": "",
      "metadata": {
        "trusted": true
      },
      "outputs": [],
      "execution_count": null
    },
    {
      "cell_type": "code",
      "source": "",
      "metadata": {
        "trusted": true
      },
      "outputs": [],
      "execution_count": null
    },
    {
      "cell_type": "code",
      "source": "",
      "metadata": {
        "trusted": true
      },
      "outputs": [],
      "execution_count": null
    },
    {
      "cell_type": "code",
      "source": "",
      "metadata": {
        "trusted": true
      },
      "outputs": [],
      "execution_count": null
    },
    {
      "cell_type": "code",
      "source": "",
      "metadata": {
        "trusted": true
      },
      "outputs": [],
      "execution_count": null
    },
    {
      "cell_type": "code",
      "source": "",
      "metadata": {
        "trusted": true
      },
      "outputs": [],
      "execution_count": null
    },
    {
      "cell_type": "code",
      "source": "",
      "metadata": {
        "trusted": true
      },
      "outputs": [],
      "execution_count": null
    },
    {
      "cell_type": "code",
      "source": "",
      "metadata": {
        "trusted": true
      },
      "outputs": [],
      "execution_count": null
    },
    {
      "cell_type": "code",
      "source": "",
      "metadata": {
        "trusted": true
      },
      "outputs": [],
      "execution_count": null
    },
    {
      "cell_type": "code",
      "source": "",
      "metadata": {
        "trusted": true
      },
      "outputs": [],
      "execution_count": null
    }
  ]
}