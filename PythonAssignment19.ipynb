{
  "metadata": {
    "language_info": {
      "codemirror_mode": {
        "name": "python",
        "version": 3
      },
      "file_extension": ".py",
      "mimetype": "text/x-python",
      "name": "python",
      "nbconvert_exporter": "python",
      "pygments_lexer": "ipython3",
      "version": "3.8"
    },
    "kernelspec": {
      "name": "python",
      "display_name": "Python (Pyodide)",
      "language": "python"
    }
  },
  "nbformat_minor": 4,
  "nbformat": 4,
  "cells": [
    {
      "cell_type": "code",
      "source": "1. Make a class called Thing with no contents and print it. Then, create an object called example\nfrom this class and also print it. Are the printed values the same or different?",
      "metadata": {},
      "execution_count": null,
      "outputs": []
    },
    {
      "cell_type": "code",
      "source": "class Thing:\n    pass\nprint(Thing)\n\nName=Thing()\nprint(Name)",
      "metadata": {
        "trusted": true
      },
      "execution_count": 1,
      "outputs": [
        {
          "name": "stdout",
          "text": "<class '__main__.Thing'>\n<__main__.Thing object at 0x146cf88>\n",
          "output_type": "stream"
        }
      ]
    },
    {
      "cell_type": "code",
      "source": "2. Create a new class called Thing2 and add the value 'abc' to the letters class attribute. Letters\nshould be printed.",
      "metadata": {},
      "execution_count": null,
      "outputs": []
    },
    {
      "cell_type": "code",
      "source": "class Things2:\n    letters='abc'\nprint(Things2.letters)",
      "metadata": {
        "trusted": true
      },
      "execution_count": 2,
      "outputs": [
        {
          "name": "stdout",
          "text": "abc\n",
          "output_type": "stream"
        }
      ]
    },
    {
      "cell_type": "code",
      "source": "3. Make yet another class called, of course, Thing3. This time, assign the value 'xyz'to an instance\n(object) attribute called letters. Print letters. Do you need to make an object from the class to do\nthis?",
      "metadata": {},
      "execution_count": null,
      "outputs": []
    },
    {
      "cell_type": "code",
      "source": "class Thing3:\n    def __init__(self):\n        self.letters='xyz'\ntry:\n    print(Thing3.letters)\nexcept:\n    my_thing=Thing3()\n    print(my_thing.letters)",
      "metadata": {
        "trusted": true
      },
      "execution_count": 4,
      "outputs": [
        {
          "name": "stdout",
          "text": "xyz\n",
          "output_type": "stream"
        }
      ]
    },
    {
      "cell_type": "code",
      "source": "4. Create an Element class with the instance attributes name, symbol, and number. Create a class\nobject with the values 'Hydrogen', 'H', and 1.",
      "metadata": {},
      "execution_count": null,
      "outputs": []
    },
    {
      "cell_type": "code",
      "source": "class Element:\n    def __init__(self,name,symbol,number):\n        self.name=name\n        self.symbol=symbol\n        self.number=Element('Hydrogen','H',1)",
      "metadata": {
        "trusted": true
      },
      "execution_count": 5,
      "outputs": []
    },
    {
      "cell_type": "code",
      "source": "5. Make a dictionary with these keys and values: 'name': 'Hydrogen', 'symbol': 'H','number': 1. Then,\ncreate an object called hydrogen from class Element using this dictionary.",
      "metadata": {},
      "execution_count": null,
      "outputs": []
    },
    {
      "cell_type": "code",
      "source": "custom_dict={'name':'Hydrogen','symbol':'H','number':1}\nprint(custom_dict)\n\nhydrogen=Element(*custom_dict.values())\nprint('using method 1',hydrogen.name,hydrogen.symbol,hydrogen.number)",
      "metadata": {
        "trusted": true
      },
      "execution_count": null,
      "outputs": [
        {
          "name": "stdout",
          "text": "{'name': 'Hydrogen', 'symbol': 'H', 'number': 1}\n",
          "output_type": "stream"
        }
      ]
    },
    {
      "cell_type": "code",
      "source": "6. For the Element class, define a method called dump() that prints the values of the object’s\nattributes (name, symbol, and number). Create the hydrogen object from this new definition and\nuse dump() to print its attributes.",
      "metadata": {},
      "execution_count": null,
      "outputs": []
    },
    {
      "cell_type": "code",
      "source": "class Element:\n    def __init__(self,name,symbol,number):\n        self.name=name\n        self.symbol=symbol\n        self.number=number\n    def dump(self):\n        print(self.name,self.symbol,self.number)\n\nhydrogen=Element('Hydrogen','H',1)\nhydrogen.dump()",
      "metadata": {
        "trusted": true
      },
      "execution_count": 1,
      "outputs": [
        {
          "name": "stdout",
          "text": "Hydrogen H 1\n",
          "output_type": "stream"
        }
      ]
    },
    {
      "cell_type": "code",
      "source": "7. Call print(hydrogen). In the definition of Element, change the name of method dump to __str__,\ncreate a new hydrogen object, and call print(hydrogen) again.",
      "metadata": {},
      "execution_count": null,
      "outputs": []
    },
    {
      "cell_type": "code",
      "source": "print(hydrogen)\n\nclass Element:\n    def __init__(self,name,symbol,number):\n        self.name=name\n        self.symbol=symbol\n        self.number=number\n    def __str__(self):\n        return f'{self.name}{ self.symbol} {self.number}'\n\nHydrogen=Element('Hydrogen','H',1)\nprint(Hydrogen)",
      "metadata": {
        "trusted": true
      },
      "execution_count": 4,
      "outputs": [
        {
          "name": "stdout",
          "text": "<__main__.Element object at 0x15869a8>\nHydrogenH 1\n",
          "output_type": "stream"
        }
      ]
    },
    {
      "cell_type": "code",
      "source": "8. Modify Element to make the attributes name, symbol, and number private. Define a getter\nproperty for each to return its value.",
      "metadata": {},
      "execution_count": null,
      "outputs": []
    },
    {
      "cell_type": "code",
      "source": "class Element:\n     def __init__(self,name,symbol,number):\n            self.name=name\n            self.symbol=symbol\n            self.number=number\n            \n    def getname(self):\n        return self.name\n    def getsymbol(self):\n        return self.symbol\n    def getnumber(self):\n        return self.number\n\nhydrogen=Element('Hydrogen','H',1)\nprint(hydrogen.getname)\nprint(hydrogen.getsymbol)\nprint(hydrogen.getnumber)",
      "metadata": {
        "trusted": true
      },
      "execution_count": null,
      "outputs": []
    },
    {
      "cell_type": "code",
      "source": "9. Define three classes: Bear, Rabbit, and Octothorpe. For each, define only one method: eats(). This\nshould return 'berries'(Bear), 'clover' (Rabbit), or 'campers'(Octothorpe). Create one object from\neach and print what it eats.",
      "metadata": {},
      "execution_count": null,
      "outputs": []
    },
    {
      "cell_type": "code",
      "source": "class Bear:\n    def eats(self):\n        print('berries')\nclass Rabbit:\n    def eats(self):\n        print('clover')\nclass Octothrope:\n    def eats(self):\n        print('campers')\n\nbear=Bear()\nrabbit=Rabbit()\noctothrope=Octothrope()\n\nbear.eats()\nrabbit.eats()\noctothrope.eats()\n",
      "metadata": {
        "trusted": true
      },
      "execution_count": null,
      "outputs": [
        {
          "name": "stdout",
          "text": "berries\nclover\ncampers\n",
          "output_type": "stream"
        }
      ]
    },
    {
      "cell_type": "code",
      "source": "10. Define these classes: Laser, Claw, and SmartPhone. Each has only one method: does(). This\nreturns 'disintegrate' (Laser), 'crush'(Claw), or 'ring' (SmartPhone). Then, define the class Robot that\nhas one instance (object) of each of these. Define a does() method for the Robot that prints what its\ncomponent objects do.",
      "metadata": {},
      "execution_count": null,
      "outputs": []
    },
    {
      "cell_type": "code",
      "source": "class Laser:\n    def does(self):\n        return 'disintegrate'\nclass Claw:\n    def does(self):\n        return 'crush'\nclass Smartphone:\n    def does(self):\n        return 'ring'\nclass Robot:\n    def __init__(self):\n        self.laser=Laser()\n        self.claw=Claw()\n        self.smartphone=Smartphone()\n    def does(self):\n        print(self.laser.does(),self.claw.does(),self.smartphone.does())\n        \nhere=Robot()\nhere.does()",
      "metadata": {
        "trusted": true
      },
      "execution_count": 7,
      "outputs": [
        {
          "name": "stdout",
          "text": "disintegrate crush ring\n",
          "output_type": "stream"
        }
      ]
    },
    {
      "cell_type": "code",
      "source": "",
      "metadata": {},
      "execution_count": null,
      "outputs": []
    }
  ]
}