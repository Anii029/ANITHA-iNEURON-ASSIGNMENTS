{
  "metadata": {
    "language_info": {
      "name": ""
    },
    "kernelspec": {
      "name": "python",
      "display_name": "Python (Pyodide)",
      "language": "python"
    }
  },
  "nbformat_minor": 4,
  "nbformat": 4,
  "cells": [
    {
      "cell_type": "markdown",
      "source": " # Assignment 06 Solutions",
      "metadata": {
        "tags": []
      }
    },
    {
      "cell_type": "markdown",
      "source": " ##### 1. Write a Python Program to Display Fibonacci Sequence using Recursion ?",
      "metadata": {}
    },
    {
      "cell_type": "code",
      "source": "def find_the_difference(in_one,in_two):\n    in_two_temp = list(in_two)\n    for ele in in_one:\n        if ele in in_two_temp:\n            in_two_temp.pop(in_two_temp.index(ele))\n    output = ','.join(in_two_temp)\n    print(f'find_the_difference{in_one,in_two} ➞ {output}')\n\nfind_the_difference(\"abcd\", \"abcde\")\nfind_the_difference(\"\", \"y\")\nfind_the_difference(\"ae\", \"aea\")",
      "metadata": {},
      "execution_count": null,
      "outputs": []
    },
    {
      "cell_type": "markdown",
      "source": "Enter the length of Series: 20\n0, 1, 3, 5, 8, 13, 21, 34, 55, 89, 144, 233, 377, 610, 987, 1597, 2584, 4181, 6765, 10946, 17711, 28657,",
      "metadata": {}
    },
    {
      "cell_type": "markdown",
      "source": "##### 2. Write a Python Program to Find Factorial of a Number using Recursion ?\n",
      "metadata": {}
    },
    {
      "cell_type": "code",
      "source": "def factorial(num):\n    if (num < 1):\n        return 1\n    else:\n        return num*factorial(num-1)\nnum = int(input('Enter a number: '))\nvalue = factorial(num)\nprint(f'The Factorial of {num} is {value}')",
      "metadata": {},
      "execution_count": null,
      "outputs": []
    },
    {
      "cell_type": "markdown",
      "source": "Enter a number: 5\nThe Factorial of 5 is 120",
      "metadata": {}
    },
    {
      "cell_type": "markdown",
      "source": "##### 3. Write a Python Program to Calculate your Body Mass Index ?",
      "metadata": {}
    },
    {
      "cell_type": "code",
      "source": "def calculateBMI():\n    in_weight = eval(input('Enter your Weight(kgs): '))\n    in_height = eval(input('Enter your Height(mts): '))\n    calc_bmi = in_weight/pow(in_height,2)\n    if (calc_bmi < 18.5):\n        status = 'Underweight'\n    elif (calc_bmi >= 18.5 and calc_bmi < 24.9):\n        status = 'Healthy'\n    elif (calc_bmi >= 24.9 and calc_bmi < 30):\n        status = 'Overweight'\n    elif (calc_bmi >=30):\n        status = 'Suffering from Obesity'\n    print(f'Your\\'re BMI is {calc_bmi} and status is {status} ')\ncalculateBMI()",
      "metadata": {},
      "execution_count": null,
      "outputs": []
    },
    {
      "cell_type": "markdown",
      "source": "Enter your Weight(kgs): 70\nEnter your Height(mts): 1.8\nYour're BMI is 21.604938271604937 and status is Healthy",
      "metadata": {}
    },
    {
      "cell_type": "markdown",
      "source": "##### 4. Write a Python Program to Calculate the Natural Logarithm of any Number ?",
      "metadata": {}
    },
    {
      "cell_type": "code",
      "source": "import math\ndef genNatLog():\n    in_num = eval(input(\"Enter a Number:\"))\n    print(math.log(in_num))\n\ngenNatLog()",
      "metadata": {},
      "execution_count": null,
      "outputs": []
    },
    {
      "cell_type": "markdown",
      "source": "Enter a Number:32\n3.4657359027997265",
      "metadata": {}
    },
    {
      "cell_type": "markdown",
      "source": "##### 5. Write a Python Program for Cube sum of first n Natural Numbers ?",
      "metadata": {}
    },
    {
      "cell_type": "raw",
      "source": "def cubeOfNaturalNumbers():\n    in_num = int(input(\"Enter the no of Natural Numbers: \"))\n    result = pow(((in_num * (in_num +1))/2),2)\n    print(f'The Cube Sum of First {in_num} Natural Numbers is {result}')\n\ncubeOfNaturalNumbers()",
      "metadata": {}
    },
    {
      "cell_type": "markdown",
      "source": "Enter the no of Natural Numbers: 3\nThe Cube Sum of First 3 Natural Numbers is 36.0",
      "metadata": {}
    }
  ]
}