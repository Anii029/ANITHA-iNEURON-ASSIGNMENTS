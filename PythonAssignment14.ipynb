{
  "metadata": {
    "language_info": {
      "name": ""
    },
    "kernelspec": {
      "name": "python",
      "display_name": "Python (Pyodide)",
      "language": "python"
    }
  },
  "nbformat_minor": 4,
  "nbformat": 4,
  "cells": [
    {
      "cell_type": "code",
      "source": "1. What does RGBA stand for?\nans: RGBA is  a four channel format containing data for red,green,blue and an alpha value. where alpha represents the opacity",
      "metadata": {},
      "execution_count": null,
      "outputs": []
    },
    {
      "cell_type": "code",
      "source": "2. From the Pillow module, how do you get the RGBA value of any images?\nans: ImageColor.getcolor() gives rgba value of any image.\n",
      "metadata": {},
      "execution_count": null,
      "outputs": []
    },
    {
      "cell_type": "code",
      "source": "3. What is a box tuple, and how does it work?\nans: a box tuple is a tuple value of four integers: the left edge x-coordinate,the top edge y-coordinate,the width and the height respectively.",
      "metadata": {},
      "execution_count": null,
      "outputs": []
    },
    {
      "cell_type": "code",
      "source": "4. Use your image and load in notebook then, How can you find out the width and height of an\nImage object?\n",
      "metadata": {},
      "execution_count": null,
      "outputs": []
    },
    {
      "cell_type": "code",
      "source": "from  PIL import Image\npic=Image.open('Pic.jpg')\nprint(f'width,height->{pic.size}')\nprint(f'width,height->{pic.width},{pic.height}')\nwidth,height=pic.size\nprint(f'width,height->{width},{height}')",
      "metadata": {
        "trusted": true
      },
      "execution_count": null,
      "outputs": []
    },
    {
      "cell_type": "code",
      "source": "5. What method would you call to get Image object for a 100×100 image, excluding the lower-left\nquarter of it?\n",
      "metadata": {},
      "execution_count": null,
      "outputs": []
    },
    {
      "cell_type": "code",
      "source": "from PIL import Image\nimg=Image.open('pic.jpg')\nnew_img=img.crop((0,50,50,50))\n",
      "metadata": {},
      "execution_count": null,
      "outputs": []
    },
    {
      "cell_type": "code",
      "source": "6. After making changes to an Image object, how could you save it as an image file?\nans: ",
      "metadata": {},
      "execution_count": null,
      "outputs": []
    },
    {
      "cell_type": "code",
      "source": "from PIL import Image\npic=Image.open('pic.jpg')\npic.save('pic2.jpg')",
      "metadata": {},
      "execution_count": null,
      "outputs": []
    },
    {
      "cell_type": "code",
      "source": "7. What module contains Pillow’s shape-drawing code?\nans: Pillows ImageDraw module contains Shape drawing methods",
      "metadata": {},
      "execution_count": null,
      "outputs": []
    },
    {
      "cell_type": "code",
      "source": "8. Image objects do not have drawing methods. What kind of object does? How do you get this kind\nof object?\nans: ImageDraw objects have shape-drawing methods such as point(),line(), rectangle().they are returned by passing the image object \n     to the ImageDraw.Draw() function.",
      "metadata": {},
      "execution_count": null,
      "outputs": []
    }
  ]
}