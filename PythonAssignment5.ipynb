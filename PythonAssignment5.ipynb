{
  "metadata": {
    "language_info": {
      "codemirror_mode": {
        "name": "python",
        "version": 3
      },
      "file_extension": ".py",
      "mimetype": "text/x-python",
      "name": "python",
      "nbconvert_exporter": "python",
      "pygments_lexer": "ipython3",
      "version": "3.8"
    },
    "kernelspec": {
      "name": "python",
      "display_name": "Python (Pyodide)",
      "language": "python"
    }
  },
  "nbformat_minor": 4,
  "nbformat": 4,
  "cells": [
    {
      "cell_type": "code",
      "source": "1. What does an empty dictionary's code look like?\nans:An empty dictionary is often represented by two empty curly brackets\n    d={} or d=dict()\n",
      "metadata": {},
      "execution_count": null,
      "outputs": []
    },
    {
      "cell_type": "code",
      "source": "2. What is the value of a dictionary value with the key 'foo' and the value 42?\nans: {'foo':42}",
      "metadata": {},
      "execution_count": null,
      "outputs": []
    },
    {
      "cell_type": "code",
      "source": "3. What is the most significant distinction between a dictionary and a list?\nans: dictionaries are represented by {} where as lists are represented by []\n     the items stored in a dictionary are Unordered,while the items in a list are ordered. ",
      "metadata": {},
      "execution_count": null,
      "outputs": []
    },
    {
      "cell_type": "code",
      "source": "4. What happens if you try to access spam['foo'] if spam is {'bar'}?\nans: we will get a keyError \n     keyError:'foo'",
      "metadata": {},
      "execution_count": null,
      "outputs": []
    },
    {
      "cell_type": "code",
      "source": "5. If a dictionary is stored in spam, what is the difference between the expressions 'cat' in spam and\n'cat', in spam.keys()?\nans: there is no difference.The operator checks whether a value exits as a key in the dictionary or not",
      "metadata": {},
      "execution_count": null,
      "outputs": []
    },
    {
      "cell_type": "code",
      "source": "6. If a dictionary is stored in spam, what is the difference between the expressions 'cat' in spam and\n'cat' in spam.values()? \nans:'cat' in spam checks whether there is a 'cat' key in the dictionary,while 'cat' in spam.values() checks whether there is a value \n'cat' for one of the keys in spam.",
      "metadata": {},
      "execution_count": null,
      "outputs": []
    },
    {
      "cell_type": "code",
      "source": "7. What is a shortcut for the following code?\nif 'color'not in spam:\nspam['color'] = 'black'\nans:spam.setdefault('color', 'black')",
      "metadata": {},
      "execution_count": null,
      "outputs": []
    },
    {
      "cell_type": "code",
      "source": "8. How do you 'pretty print' dictionary values using which module and function?\nans:we can pretty print a dictionary using 3 funtions.\n    1. by using pprint() of pprint module\n    2. by using dumps() method of json module\n    3. by using dumps() method of yami module",
      "metadata": {},
      "execution_count": null,
      "outputs": []
    }
  ]
}