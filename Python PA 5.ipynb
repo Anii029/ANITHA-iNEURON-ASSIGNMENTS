{
  "metadata": {
    "language_info": {
      "name": ""
    },
    "kernelspec": {
      "name": "python",
      "display_name": "Python (Pyodide)",
      "language": "python"
    }
  },
  "nbformat_minor": 4,
  "nbformat": 4,
  "cells": [
    {
      "cell_type": "code",
      "source": "1. Write a Python Program to Find LCM?",
      "metadata": {},
      "execution_count": null,
      "outputs": []
    },
    {
      "cell_type": "code",
      "source": "def findTheLcm(x_term,y_term):\n    if x_term >y_term:\n       greater = x_term\n    else:\n       greater = x_term\n    while True:\n       if((greater%x_term == 0) and (greater%y_term == 0)):\n           lcm = greater\n           break\n       else:\n           greater +=1\n    print(f'the lcm of {x_term},{y_term} is {lcm}')\n\nfindTheLcm(3,6)\nfinfTheLcm(5,2)\nfindTheLcm(5,100)",
      "metadata": {},
      "execution_count": null,
      "outputs": []
    },
    {
      "cell_type": "code",
      "source": "2. Write a Python Program to Find HCF?",
      "metadata": {},
      "execution_count": null,
      "outputs": []
    },
    {
      "cell_type": "code",
      "source": "def findTheHcf(x_term,y_term):\n    if x_term>y_term:\n        smaller = y_term\n    else:\n        smaller = x_term\n    for ele in  range(1,smaller+1):\n        if((x_term%ele == 0) and (y_term%ele == 0)):\n            hcf = ele\n    print(f'the hcf of {x_term},{y_term} is {hcf}')\n\nfindTheHcf(6,12)\nfindTheHcf(2,3)\nfindTheHcf(10,23)",
      "metadata": {},
      "execution_count": null,
      "outputs": []
    },
    {
      "cell_type": "code",
      "source": "3. Write a Python Program to Convert Decimal to Binary, Octal and Hexadecimal?",
      "metadata": {},
      "execution_count": null,
      "outputs": []
    },
    {
      "cell_type": "code",
      "source": "def DecimalToOther():\n    num= int(input('enter a number:'))\n    print(f'binary number --> {bin(num)}')\n    print(f'Octal number --> {oct(num)}')\n    print(f'Hexadecimal number --> {hex(num)}')\n\nDecimalToOther()",
      "metadata": {},
      "execution_count": null,
      "outputs": []
    },
    {
      "cell_type": "code",
      "source": "4. Write a Python Program To Find ASCII value of a character?",
      "metadata": {},
      "execution_count": null,
      "outputs": []
    },
    {
      "cell_type": "code",
      "source": "def charToAscii()\n    char = input('enter a character:')\n    if len(char) >1:\n        print('please enter a single character')\n    else:\n        print(f'Ascii character of {char} is {ord(char)}')\ncharToAscii()",
      "metadata": {},
      "execution_count": null,
      "outputs": []
    },
    {
      "cell_type": "code",
      "source": "5. Write a Python Program to Make a Simple Calculator with 4 basic mathematical operations?",
      "metadata": {},
      "execution_count": null,
      "outputs": []
    },
    {
      "cell_type": "code",
      "source": "import operator\n\nops = {'+': operator.add,'-':operator.sub,'*':operator.mul,'/':operator.mul}\n\nprint('select a  arithmetic operation: \\\n            \\n1.addition(+)\\\n            \\n2.division(-)\\\n            \\n3.multiplication(*)\\\n            \\n4.division(/)\\\n            \\n5.stop(0)\\n')\nwhile True:\n    operator = input('enter a arithmetic operation -->')\n    if operator == '0':\n        print('program stopped successfully')\n        break\n    elif operator not in ['+','-','*','/']:\n        print('please enter a valid operator')\n    else:\n        num1 = int(input('\\n enter 1st number:'))\n        num2 = int(input('\\n enter 2nd number:'))\n        print(f'{num1}{operator}{num2}={ops[operator](num1,num2)}\\n')",
      "metadata": {},
      "execution_count": null,
      "outputs": []
    },
    {
      "cell_type": "code",
      "source": "",
      "metadata": {},
      "execution_count": null,
      "outputs": []
    },
    {
      "cell_type": "code",
      "source": "",
      "metadata": {},
      "execution_count": null,
      "outputs": []
    },
    {
      "cell_type": "code",
      "source": "",
      "metadata": {},
      "execution_count": null,
      "outputs": []
    },
    {
      "cell_type": "code",
      "source": "",
      "metadata": {},
      "execution_count": null,
      "outputs": []
    },
    {
      "cell_type": "code",
      "source": "",
      "metadata": {},
      "execution_count": null,
      "outputs": []
    },
    {
      "cell_type": "code",
      "source": "",
      "metadata": {},
      "execution_count": null,
      "outputs": []
    }
  ]
}