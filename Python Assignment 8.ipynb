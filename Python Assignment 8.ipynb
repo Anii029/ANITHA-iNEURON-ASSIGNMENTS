{
  "metadata": {
    "language_info": {
      "codemirror_mode": {
        "name": "python",
        "version": 3
      },
      "file_extension": ".py",
      "mimetype": "text/x-python",
      "name": "python",
      "nbconvert_exporter": "python",
      "pygments_lexer": "ipython3",
      "version": "3.8"
    },
    "kernelspec": {
      "name": "python",
      "display_name": "Python (Pyodide)",
      "language": "python"
    }
  },
  "nbformat_minor": 4,
  "nbformat": 4,
  "cells": [
    {
      "cell_type": "code",
      "source": "1. Is the Python Standard Library included with PyInputPlus?\nans:No, PyInputPlus is not a part of python standard library,it needs to be installed explicitly using the command\n    !pip install PyInputPlus",
      "metadata": {},
      "execution_count": null,
      "outputs": []
    },
    {
      "cell_type": "code",
      "source": "2. Why is PyInputPlus commonly imported with import pyinputplus as pypi?\nans: you can import the module with import pyinputplus as pyip so that you can enter a shorter name when calling the module's functions",
      "metadata": {},
      "execution_count": null,
      "outputs": []
    },
    {
      "cell_type": "code",
      "source": "3. How do you distinguish between inputInt() and inputFloat()?\nans: inputint() function accepts an integer value.this also takes additional parameters min,max,greater than and lessthan for bounds.it \n     always returns an int. \n     where as inputfloat() function accepts a floating point numeric value.this also takes additional min,max,greaterthan and lessthan parameters.\n     it returns a float.",
      "metadata": {},
      "execution_count": null,
      "outputs": []
    },
    {
      "cell_type": "code",
      "source": "4. Using PyInputPlus, how do you ensure that the user enters a whole number between 0 and 99?\nans: PyInputPlus module provides a function called as inputint() which only returns only integer values.inorder to restrict the input between 0 and 99\n    we use parameters like min & max to ensure that user enters the values between the defined range only",
      "metadata": {},
      "execution_count": null,
      "outputs": []
    },
    {
      "cell_type": "code",
      "source": "5. What is transferred to the keyword arguments allowRegexes and blockRegexes?\nans: we can use allowRegexes and blockRegexes keyword argument to take list of regular expression stringsto determine what the pyinputplus funtion\n     will reject or accept valid input.",
      "metadata": {},
      "execution_count": null,
      "outputs": []
    },
    {
      "cell_type": "code",
      "source": "6. If a blank input is entered three times, what does inputStr(limit=3) do?\nans:the statement inputStr(limit=3) will throw two exceptions  ValidationExceptions and RetryLimitException. the first exception is  \n    thrown because blank values are not allowed by inputStr() funtion by default. if we want to consider blank values as valid input,\n     we have to set blank= True.\n    the  second exception is occured because we have reached the max limit we have specified by using limit parameter.inorder to avoid \n    this exception we can use default parameter to return a default value when max limit is reached.\n",
      "metadata": {},
      "execution_count": null,
      "outputs": []
    },
    {
      "cell_type": "code",
      "source": "7. If blank input is entered three times, what does inputStr(limit=3, default=\"hello\") do?\nans: Since the default parameter is set to hello.after blank input is entered 3 times instead of raising RetryLimitException exception\n     the function will return hello as response to the calling function\n                                                ",
      "metadata": {},
      "execution_count": null,
      "outputs": []
    }
  ]
}