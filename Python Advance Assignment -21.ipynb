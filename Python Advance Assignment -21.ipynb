{
  "metadata": {
    "kernelspec": {
      "name": "python",
      "display_name": "Python (Pyodide)",
      "language": "python"
    },
    "language_info": {
      "name": ""
    }
  },
  "nbformat_minor": 4,
  "nbformat": 4,
  "cells": [
    {
      "cell_type": "code",
      "source": "Q1. What is a probability distribution, exactly? If the values are meant to be random, how can you predict them at all ?\nAns: A probability distribution describes how a random variable is distributed.\n\nIt tells us which values a random variable is most likely to take on and which values are less likely. Based on the previous data and the occurences of the random event, we can predict the outcome in terms of probabilities.\n\n",
      "metadata": {
        "trusted": true
      },
      "outputs": [],
      "execution_count": null
    },
    {
      "cell_type": "code",
      "source": "Q2. Is there a distinction between true random numbers and pseudo-random numbers, if there is one? Why are the latter considered “good enough”?\nAns: : True Random Numbers are true physical values while pseudo-random numbers are generated internally by a program . Latter is considered good enough as they have sort of uniform distribution.\n\n",
      "metadata": {
        "trusted": true
      },
      "outputs": [],
      "execution_count": null
    },
    {
      "cell_type": "code",
      "source": "Q3. What are the two main factors that influence the behaviour of a \"normal\" probability distribution ?\nAns: Normal Probability Distribution are influenced by two factors mean and the variance.\n\n",
      "metadata": {
        "trusted": true
      },
      "outputs": [],
      "execution_count": null
    },
    {
      "cell_type": "code",
      "source": "Q4. Provide a real-life example of a normal distribution ?\nAns: A Real-life example of a normal distribution are heights or blood pressure measurements\n\n",
      "metadata": {
        "trusted": true
      },
      "outputs": [],
      "execution_count": null
    },
    {
      "cell_type": "code",
      "source": "Q5. In the short term, how can you expect a probability distribution to behave? What do you think will happen as the number of trials grows ?\nAns: Variance will decrease with number of trials\n\n",
      "metadata": {
        "trusted": true
      },
      "outputs": [],
      "execution_count": null
    },
    {
      "cell_type": "code",
      "source": "Q6. What kind of object can be shuffled by using random.shuffle ?\nAns: lists (list), strings (str) and tuples (tuple) objects can be shuffled by using random.shuffle.\n\n",
      "metadata": {
        "trusted": true
      },
      "outputs": [],
      "execution_count": null
    },
    {
      "cell_type": "code",
      "source": "Q7. Describe the math package's general categories of functions ?\nAns: The Math package's general categories of functions are:\n\nTrigonometric functions\nQuadratic functions\nExponential functions\nHyperbolic functions\nPeriodic functions\nArithmetic functions\nLogarithimic functions\nConversions to Integer\n",
      "metadata": {
        "trusted": true
      },
      "outputs": [],
      "execution_count": null
    },
    {
      "cell_type": "code",
      "source": "Q8. What is the relationship between exponentiation and logarithms ?\nAns: Exponentiation and logarithms are inverse of each other.\n\n",
      "metadata": {
        "trusted": true
      },
      "outputs": [],
      "execution_count": null
    },
    {
      "cell_type": "code",
      "source": "Q9. What are the three logarithmic functions that Python supports ?\nAns: The Three Logarithmic Functions that Python supports are:\n\nlog2(x) - logarithmic value of x to base 2\nlog10(x) - logarithmic value of x to base 10\nlog1p(a) - This function is used to compute logarithm(1+a) .",
      "metadata": {
        "trusted": true
      },
      "outputs": [],
      "execution_count": null
    }
  ]
}