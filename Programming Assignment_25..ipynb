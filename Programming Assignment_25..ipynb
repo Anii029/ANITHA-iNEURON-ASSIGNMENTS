{
  "metadata": {
    "kernelspec": {
      "name": "python",
      "display_name": "Python (Pyodide)",
      "language": "python"
    },
    "language_info": {
      "name": ""
    }
  },
  "nbformat_minor": 4,
  "nbformat": 4,
  "cells": [
    {
      "cell_type": "code",
      "source": "1.Create a function that takes three integer arguments (a, b, c) and returns the amount of integers which are of equal value.\nExamples:\nequal(3, 4, 3) ➞ 2\nequal(1, 1, 1) ➞ 3\nequal(3, 4, 1) ➞ 0\n\nNotes:\nYour function must return 0, 2 or 3.\n\n",
      "metadata": {
        "trusted": true
      },
      "outputs": [],
      "execution_count": null
    },
    {
      "cell_type": "code",
      "source": "def equal(a,b,c):\n    if a==b==c:\n        print(f'{a,b,c} ➞ {3}')\n    elif a==b or b==c:\n        print(f'{a,b,c} ➞ {2}')\n    else:\n        print(f'{a,b,c} ➞ {0}')\n\nequal(3, 4, 3)\nequal(1, 1, 1)\nequal(3, 4, 1)",
      "metadata": {
        "trusted": true
      },
      "outputs": [],
      "execution_count": null
    },
    {
      "cell_type": "code",
      "source": "2.Write a function that converts a dictionary into a list of keys-values tuples.\nExamples:\ndict_to_list({ \"D\": 1, \"B\": 2, \"C\": 3 }) ➞ [(\"B\", 2), (\"C\", 3), (\"D\", 1)] dict_to_list({ \"likes\": 2, \"dislikes\": 3, \"followers\": 10 }) ➞ [(\"dislikes\", 3), (\"followers\", 10), (\"likes\", 2)]\n\nNotes:\nReturn the elements in the list in alphabetical order.\n\n",
      "metadata": {
        "trusted": true
      },
      "outputs": [],
      "execution_count": null
    },
    {
      "cell_type": "code",
      "source": "def dict_to_list(in_dict):\n    out_list = []\n    for keys,values in in_dict.items():\n        out_list.append((keys,values))\n    print(f'{in_dict} ➞ {out_list}')\n                   \ndict_to_list({\"D\": 1,\"B\": 2,\"C\": 3})\ndict_to_list({\"likes\": 2,\"dislikes\": 3,\"followers\": 10})\n",
      "metadata": {
        "trusted": true
      },
      "outputs": [],
      "execution_count": null
    },
    {
      "cell_type": "code",
      "source": "3.Write a function that creates a dictionary with each (key, value) pair being the (lower case, upper case) versions of a letter, respectively.\nExamples:\nmapping([\"p\", \"s\"]) ➞ { \"p\": \"P\", \"s\": \"S\" }\nmapping([\"a\", \"b\", \"c\"]) ➞ { \"a\": \"A\", \"b\": \"B\", \"c\": \"C\" }\nmapping([\"a\", \"v\", \"y\", \"z\"]) ➞ { \"a\": \"A\", \"v\": \"V\", \"y\": \"Y\", \"z\": \"Z\" }\n\nNotes:\nAll of the letters in the input list will always be lowercase.\n\n",
      "metadata": {
        "trusted": true
      },
      "outputs": [],
      "execution_count": null
    },
    {
      "cell_type": "code",
      "source": "def mapping(in_list):\n    out_dict = {}\n    for ele in in_list:\n        out_dict[ele] = ele.upper()\n    print(f'{in_list} ➞ {out_dict}')\n    \nmapping([\"p\", \"s\"])\nmapping([\"a\", \"b\", \"c\"])\nmapping([\"a\", \"v\", \"y\", \"z\"])\n",
      "metadata": {
        "trusted": true
      },
      "outputs": [],
      "execution_count": null
    },
    {
      "cell_type": "code",
      "source": "4.Write a function, that replaces all vowels in a string with a specified vowel.\nExamples:\nvow_replace(\"apples and bananas\", \"u\") ➞ \"upplus und bununus\"\nvow_replace(\"cheese casserole\", \"o\") ➞ \"chooso cossorolo\"\nvow_replace(\"stuffed jalapeno poppers\", \"e\") ➞ \"steffed jelepene peppers\"\n\nNotes:\nAll words will be lowercase. Y is not considered a vowel.\n\n",
      "metadata": {
        "trusted": true
      },
      "outputs": [],
      "execution_count": null
    },
    {
      "cell_type": "code",
      "source": "def vow_replace(in_string,vow_char):\n    vowels = ['a','e','i','o','u']\n    out_string = ''\n    for ele in in_string:\n        if ele in vowels:\n            out_string += vow_char\n        else:\n            out_string += ele\n    print(f'{in_string} ➞ {out_string}')\n        \nvow_replace(\"apples and bananas\", \"u\")\nvow_replace(\"cheese casserole\", \"o\")\nvow_replace(\"stuffed jalapeno poppers\", \"e\")",
      "metadata": {
        "trusted": true
      },
      "outputs": [],
      "execution_count": null
    },
    {
      "cell_type": "code",
      "source": "5.Create a function that takes a string as input and capitalizes a letter if its ASCII code is even and returns its lower case version if its ASCII code is odd.\nExamples:\nascii_capitalize(\"to be or not to be!\") ➞ \"To Be oR NoT To Be!\"\nascii_capitalize(\"THE LITTLE MERMAID\") ➞ \"THe LiTTLe meRmaiD\"\nascii_capitalize(\"Oh what a beautiful morning.\") ➞ \"oH wHaT a BeauTiFuL moRNiNg.\"\n\n",
      "metadata": {
        "trusted": true
      },
      "outputs": [],
      "execution_count": null
    },
    {
      "cell_type": "code",
      "source": "def ascii_capitalize(in_string):\n    out_string = ''\n    for ele in in_string.lower():\n        if (ord(ele)%2 == 0):\n            out_string += ele.upper()\n        else:\n            out_string += ele\n    print(f'{in_string} ➞ {out_string}')\n        \nascii_capitalize(\"to be or not to be!\")\nascii_capitalize(\"THE LITTLE MERMAID\")\nascii_capitalize(\"Oh what a beautiful morning.\")\n",
      "metadata": {
        "trusted": true
      },
      "outputs": [],
      "execution_count": null
    },
    {
      "cell_type": "code",
      "source": "",
      "metadata": {
        "trusted": true
      },
      "outputs": [],
      "execution_count": null
    }
  ]
}