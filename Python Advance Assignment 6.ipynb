{
  "metadata": {
    "kernelspec": {
      "name": "python",
      "display_name": "Python (Pyodide)",
      "language": "python"
    },
    "language_info": {
      "name": ""
    }
  },
  "nbformat_minor": 4,
  "nbformat": 4,
  "cells": [
    {
      "cell_type": "code",
      "source": "Q1. Describe three applications for exception processing.\nAns: Exception Processing is important to find exceptions that causes the runtime error. As runtime errors Halt the program execution when exception occurs.\n\nException Processing is used in Various Applications of which few examples are:\n\nChecking Appropriate use of input in an application\nChecking for Arithmetic exceptions in mathematical executions\nChecking File I/O exceptions during File handling\n",
      "metadata": {
        "trusted": true
      },
      "outputs": [],
      "execution_count": null
    },
    {
      "cell_type": "code",
      "source": "Q2. What happens if you don't do something extra to treat an exception?\nAns: If Exceptions are not handled flow of program will be broken during the run time which might lead to a abnormal termination of the program. Inshort inability of program to handle exceptions will result in crashing of program.\n\n",
      "metadata": {
        "trusted": true
      },
      "outputs": [],
      "execution_count": null
    },
    {
      "cell_type": "code",
      "source": "Q3. What are your options for recovering from an exception in your script?\nAns: Python provides try and except statements for recovering from an exception in your script.\n\n",
      "metadata": {
        "trusted": true
      },
      "outputs": [],
      "execution_count": null
    },
    {
      "cell_type": "code",
      "source": "Q4. Describe two methods for triggering exceptions in your script ?\nAns: raise and assert are two methods that can be used to trigger manual exceptions in your script.\n\nraise method triggers an exception if condition provided to it turns out to be True.\nassert will let the program to continue execution if condition provided to it turns out to be True else exception will be raised\n",
      "metadata": {
        "trusted": true
      },
      "outputs": [],
      "execution_count": null
    },
    {
      "cell_type": "code",
      "source": "# Example of raise\nx = 10\nraise Exception(f'X Value Should not exceed 5 The Provided Value of X is {x}')\n---------------------------------------------------------------------------\nException                                 Traceback (most recent call last)\n<ipython-input-1-3bda0e4dbc13> in <module>()\n      1 # Example of raise\n      2 x = 10\n----> 3 raise Exception(f'X Value Should not exceed 5 The Provided Value of X is {x}')\n\nException: X Value Should not exceed 5 The Provided Value of X is 10\n# Example of assert\nassert(2==4), \"2 is not equal to 4\"\n---------------------------------------------------------------------------\nAssertionError                            Traceback (most recent call last)\n<ipython-input-2-b3cb1796e5b9> in <module>()\n      1 # Example of assert\n----> 2 assert(2==4), \"2 is not equal to 4\"\n\nAssertionError: 2 is not equal to 4\n",
      "metadata": {
        "trusted": true
      },
      "outputs": [],
      "execution_count": null
    },
    {
      "cell_type": "code",
      "source": "Q5. Identify two methods for specifying actions to be executed at termination time, regardless of whether or not an exception exists.\nAns: Python Provides else and finally blocks for specifying actions to be executed at termination time, regardless of whether an exceptions exists or not.",
      "metadata": {
        "trusted": true
      },
      "outputs": [],
      "execution_count": null
    },
    {
      "cell_type": "code",
      "source": "",
      "metadata": {
        "trusted": true
      },
      "outputs": [],
      "execution_count": null
    },
    {
      "cell_type": "code",
      "source": "",
      "metadata": {
        "trusted": true
      },
      "outputs": [],
      "execution_count": null
    },
    {
      "cell_type": "code",
      "source": "",
      "metadata": {
        "trusted": true
      },
      "outputs": [],
      "execution_count": null
    },
    {
      "cell_type": "code",
      "source": "",
      "metadata": {
        "trusted": true
      },
      "outputs": [],
      "execution_count": null
    },
    {
      "cell_type": "code",
      "source": "",
      "metadata": {
        "trusted": true
      },
      "outputs": [],
      "execution_count": null
    }
  ]
}