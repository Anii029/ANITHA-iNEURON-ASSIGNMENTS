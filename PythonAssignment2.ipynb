{
  "metadata": {
    "language_info": {
      "codemirror_mode": {
        "name": "python",
        "version": 3
      },
      "file_extension": ".py",
      "mimetype": "text/x-python",
      "name": "python",
      "nbconvert_exporter": "python",
      "pygments_lexer": "ipython3",
      "version": "3.8"
    },
    "kernelspec": {
      "name": "python",
      "display_name": "Python (Pyodide)",
      "language": "python"
    }
  },
  "nbformat_minor": 4,
  "nbformat": 4,
  "cells": [
    {
      "cell_type": "code",
      "source": "1. The two values of the Boolean datatype are True and False. it should be specified to use capital T and F with the remaining letters in the lower case.\n",
      "metadata": {},
      "execution_count": null,
      "outputs": []
    },
    {
      "cell_type": "code",
      "source": "a=True\nb=False\nprint(type(a),a)\nprint(type(b),b)",
      "metadata": {
        "trusted": true
      },
      "execution_count": 1,
      "outputs": [
        {
          "name": "stdout",
          "text": "<class 'bool'> True\n<class 'bool'> False\n",
          "output_type": "stream"
        }
      ]
    },
    {
      "cell_type": "code",
      "source": "2. The 3 different types of Boolean operators in python are or ,and & not.\n",
      "metadata": {},
      "execution_count": null,
      "outputs": []
    },
    {
      "cell_type": "code",
      "source": "a=50\nb=60\nprint(a>35 or b>50)\nprint(a>100 and b>50)\nprint(not(a>10))",
      "metadata": {
        "trusted": true
      },
      "execution_count": 5,
      "outputs": [
        {
          "name": "stdout",
          "text": "True\nFalse\nFalse\n",
          "output_type": "stream"
        }
      ]
    },
    {
      "cell_type": "code",
      "source": "3.Make a list of each Boolean operators truth tables (i.e. every possible combination of Boolean\nvalues for the operator and what it evaluate ).",
      "metadata": {},
      "execution_count": null,
      "outputs": []
    },
    {
      "cell_type": "code",
      "source": "the truth tables for the boolean tables are as follows\n1. and operator :\n   True and True is True\n   True and False is False\n   False and True is False\n   False and False is False\n2.or operator :\n   True and True is True\n   True and False is True\n   False and True is True\n   False and False is False\n3. not operator :\n     True! is False\n     False! is True",
      "metadata": {},
      "execution_count": null,
      "outputs": []
    },
    {
      "cell_type": "code",
      "source": "4.What are the values of the following expressions?\n(5 > 4) and (3 == 5)\nnot (5 > 4)\n(5 > 4) or (3 == 5)\nnot ((5 > 4) or (3 == 5))\n(True and True) and (True == False)\n(not False) or (not True)",
      "metadata": {},
      "execution_count": null,
      "outputs": []
    },
    {
      "cell_type": "code",
      "source": "print((5 > 4) and (3 == 5))\nprint(not (5 > 4))\nprint((5 > 4) or (3 == 5))\nprint(not ((5 > 4) or (3 == 5)))\nprint((True and True) and (True == False))\nprint((not False) or (not True))\n",
      "metadata": {
        "trusted": true
      },
      "execution_count": 6,
      "outputs": [
        {
          "name": "stdout",
          "text": "False\nFalse\nTrue\nFalse\nFalse\nTrue\n",
          "output_type": "stream"
        }
      ]
    },
    {
      "cell_type": "code",
      "source": "5. What are the six comparison operators?\nans: the 6 comparision opertors in python are ==,!=,<,>,<=,>=\n",
      "metadata": {},
      "execution_count": null,
      "outputs": []
    },
    {
      "cell_type": "code",
      "source": "6. How do you tell the difference between the equal to and assignment operators?Describe a\ncondition and when you would use one.\n\nans: == is an operator that compares two values and evaluates to a Boolean while = is an assignment opertor that stores a value in a variabe.\n",
      "metadata": {},
      "execution_count": null,
      "outputs": []
    },
    {
      "cell_type": "code",
      "source": "x=5\nif x==5:\n    print(x==5)",
      "metadata": {
        "trusted": true
      },
      "execution_count": 12,
      "outputs": [
        {
          "name": "stdout",
          "text": "True\n",
          "output_type": "stream"
        }
      ]
    },
    {
      "cell_type": "code",
      "source": "7. Identify the three blocks in this code:\n",
      "metadata": {},
      "execution_count": null,
      "outputs": []
    },
    {
      "cell_type": "code",
      "source": "spam = 0\nif spam == 10: \n    print('eggs')      #BLOCK 1\nif spam >5:\n    print('bacon')    #BLOCK 2\nelse:\n    print('ham')\n    print('spam')     #BLOCK 3\n    print('spam')",
      "metadata": {
        "trusted": true
      },
      "execution_count": 15,
      "outputs": [
        {
          "name": "stdout",
          "text": "ham\nspam\nspam\n",
          "output_type": "stream"
        }
      ]
    },
    {
      "cell_type": "code",
      "source": "8. Write code that prints Hello if 1 is stored in spam, prints Howdy if 2 is stored in spam, and prints\nGreetings! if anything else is stored in spam.",
      "metadata": {},
      "execution_count": null,
      "outputs": []
    },
    {
      "cell_type": "code",
      "source": "def spamCode(spam):\n   if spam ==1:\n      print('Hello')\n   elif spam==2:\n      print('Howdy')\n   else:\n      print('Greetings!')\n    \nspamCode(1)\nspamCode(2)\nspamCode(3)",
      "metadata": {
        "trusted": true
      },
      "execution_count": 20,
      "outputs": [
        {
          "name": "stdout",
          "text": "Hello\nHowdy\nGreetings!\n",
          "output_type": "stream"
        }
      ]
    },
    {
      "cell_type": "code",
      "source": "9.If your programme is stuck in an endless loop, what keys you’ll press?",
      "metadata": {},
      "execution_count": null,
      "outputs": []
    },
    {
      "cell_type": "code",
      "source": "ans: Press Ctrl+c to stop a program stuck in an infinite loop",
      "metadata": {},
      "execution_count": null,
      "outputs": []
    },
    {
      "cell_type": "code",
      "source": "10. How can you tell the difference between break and continue?",
      "metadata": {},
      "execution_count": null,
      "outputs": []
    },
    {
      "cell_type": "code",
      "source": "the Break statement will move the execution outside the loop if break condition is satisfied.\nwherea as the continue statement will move the execution to the start of the loop.",
      "metadata": {},
      "execution_count": null,
      "outputs": []
    },
    {
      "cell_type": "code",
      "source": "11. In a for loop, what is the difference between range(10), range(0, 10), and range(0, 10, 1)?",
      "metadata": {},
      "execution_count": null,
      "outputs": []
    },
    {
      "cell_type": "code",
      "source": "The Difference are as follows:\n    1. the range(10) call range from 0 to 9 (but not include 10)\n    2. The range(0,10) explicitly tells the loop to start at 0.\n    3. the range (0,10,1) explicitly tells the loop to increase the variabe by 1 on each iteration.\n    ",
      "metadata": {},
      "execution_count": null,
      "outputs": []
    },
    {
      "cell_type": "code",
      "source": "12. Write a short program that prints the numbers 1 to 10 using a for loop. Then write an equivalent\nprogram that prints the numbers 1 to 10 using a while loop.",
      "metadata": {},
      "execution_count": null,
      "outputs": []
    },
    {
      "cell_type": "code",
      "source": "#for loop\nprint (\"for loop\")\nfor i in range(0,11):\n    print(i)",
      "metadata": {
        "trusted": true
      },
      "execution_count": 21,
      "outputs": [
        {
          "name": "stdout",
          "text": "for loop\n0\n1\n2\n3\n4\n5\n6\n7\n8\n9\n10\n",
          "output_type": "stream"
        }
      ]
    },
    {
      "cell_type": "code",
      "source": "#while loop\nprint(\"while loop\")\na=1\nwhile a<=10:\n    print(a)\n    a+=1",
      "metadata": {
        "trusted": true
      },
      "execution_count": 22,
      "outputs": [
        {
          "name": "stdout",
          "text": "while loop\n1\n2\n3\n4\n5\n6\n7\n8\n9\n10\n",
          "output_type": "stream"
        }
      ]
    },
    {
      "cell_type": "code",
      "source": "13. If you had a function named bacon() inside a module named spam, how would you call it after\nimporting spam?",
      "metadata": {},
      "execution_count": null,
      "outputs": []
    },
    {
      "cell_type": "code",
      "source": "this function can be called with spam.bacon()",
      "metadata": {},
      "execution_count": null,
      "outputs": []
    }
  ]
}