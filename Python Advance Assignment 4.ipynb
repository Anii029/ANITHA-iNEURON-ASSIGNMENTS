{
  "metadata": {
    "kernelspec": {
      "name": "python",
      "display_name": "Python (Pyodide)",
      "language": "python"
    },
    "language_info": {
      "name": ""
    }
  },
  "nbformat_minor": 4,
  "nbformat": 4,
  "cells": [
    {
      "cell_type": "code",
      "source": "Q1. Which two operator overloading methods can you use in your classes to support iteration?\nAns: __iter__ and __next__ are the operator overloading methods in python that support iteration and are collectively called iterator protocol.\n\n__iter__ returns the iterator object and is called at the start of loop in our respective class.\n__next__ is called at each loop increment, it returns the incremented value. Also Stopiteration is raised when there is no value to return.\n",
      "metadata": {
        "trusted": true
      },
      "outputs": [],
      "execution_count": null
    },
    {
      "cell_type": "code",
      "source": "class Counter:\n    def __init__(self,low,high):\n        self.current = low\n        self.high = high\n    def __iter__(self):\n        return self\n    def __next__(self):\n        if self.current > self.high:\n            raise StopIteration\n        else:\n            self.current += 1\n            return self.current - 1\nfor ele in Counter(5,15):\n    print(ele, end=\" \")\n5 6 7 8 9 10 11 12 13 14 15 \n",
      "metadata": {
        "trusted": true
      },
      "outputs": [],
      "execution_count": null
    },
    {
      "cell_type": "code",
      "source": "Q2. In what contexts do the two operator overloading methods manage printing?\nAns: __str__ and __repr__ are two operator overloading methods that manage printing.\n\nIn Short, the difference between both these operators is the goal of __repr__ is to be unambiguous and __str__ is to be readable.\nWhenever we are printing any object reference internally __str__ method will be called by default.\nThe main purpose of __str__ is for readability. it prints the informal string representation of an object, one that is useful for printing the object. it may not be possible to convert result string to original object.\n__repr__ is used to print official string representation of an object, so it includes all information and development.\n",
      "metadata": {
        "trusted": true
      },
      "outputs": [],
      "execution_count": null
    },
    {
      "cell_type": "code",
      "source": "class Student:\n    def __init__(self,name,roll_no):\n        self.name = name\n        self.roll_no = roll_no\n        \ns1 = Student(\"Mano\",1)\nprint(str(s1))\n\nclass Student:\n    def __init__(self,name,roll_no):\n        self.name = name\n        self.roll_no = roll_no\n    def __str__(self):\n        return f'Student Name: {self.name} and Roll No: {self.roll_no}'\n    \ns1 = Student(\"Mano\",1)\nprint(str(s1))\n\nimport datetime\ntoday = datetime.datetime.now()\n\ns = str(today) # converting datetime object to presentable str\nprint(s)\ntry: d = eval(s) # converting str back to datetime object\nexcept: print(\"Unable to convert back to original object\")\n    \nu = repr(today) # converting datetime object to str\nprint(u)\ne = eval(u) # converting str back to datetime object\nprint(e)\n<__main__.Student object at 0x000001FDD5B05518>\nStudent Name: Mano and Roll No: 1\n2021-11-20 18:13:47.885746\nUnable to convert back to original object\ndatetime.datetime(2021, 11, 20, 18, 13, 47, 885746)\n2021-11-20 18:13:47.885746\n",
      "metadata": {
        "trusted": true
      },
      "outputs": [],
      "execution_count": null
    },
    {
      "cell_type": "code",
      "source": "Q3. In a class, how do you intercept slice operations?\nAns: In a class use of slice() in __getitem__ method is used for intercept slice operation. This slice method is provided with start integer number, stop integer number and step integer number.\n\nExample: __getitem__(slice(start,stop,step))\n\n",
      "metadata": {
        "trusted": true
      },
      "outputs": [],
      "execution_count": null
    },
    {
      "cell_type": "code",
      "source": "Q4. In a class, how do you capture in-place addition?\nAns: a+b is normal addition. Whereas a+=b is inplace addition operation. In this in-place addition a itself will store the value of addition. In a class __iadd__ method is used for this in-place operation\n\n",
      "metadata": {
        "trusted": true
      },
      "outputs": [],
      "execution_count": null
    },
    {
      "cell_type": "code",
      "source": "class Book:\n    def __init__(self,pages):\n        self.pages = pages\n    def __iadd__(self,other):\n        self.pages += other.pages\n        return self.pages\n        \nb1 = Book(100)\nb2 = Book(200)\nb1+=b2\nprint(b1)\n300\n",
      "metadata": {
        "trusted": true
      },
      "outputs": [],
      "execution_count": null
    },
    {
      "cell_type": "code",
      "source": "Q5. When is it appropriate to use operator overloading?\nAns: Operator overloading is used when we want to use an operator other than its normal operation to have different meaning according to the context required in user defined function.\n\n",
      "metadata": {
        "trusted": true
      },
      "outputs": [],
      "execution_count": null
    },
    {
      "cell_type": "code",
      "source": "class Book:\n    def __init__(self,pages):\n        self.pages = pages\n    def __add__(self,other):\n        return self.pages+other.pages\nb1 = Book(100)\nb2 = Book(200)\nprint(f'Total Number of Pages -> {b1+b2}')\nTotal Number of Pages -> 300",
      "metadata": {
        "trusted": true
      },
      "outputs": [],
      "execution_count": null
    },
    {
      "cell_type": "code",
      "source": "",
      "metadata": {
        "trusted": true
      },
      "outputs": [],
      "execution_count": null
    },
    {
      "cell_type": "code",
      "source": "",
      "metadata": {
        "trusted": true
      },
      "outputs": [],
      "execution_count": null
    },
    {
      "cell_type": "code",
      "source": "",
      "metadata": {
        "trusted": true
      },
      "outputs": [],
      "execution_count": null
    },
    {
      "cell_type": "code",
      "source": "",
      "metadata": {
        "trusted": true
      },
      "outputs": [],
      "execution_count": null
    },
    {
      "cell_type": "code",
      "source": "",
      "metadata": {
        "trusted": true
      },
      "outputs": [],
      "execution_count": null
    }
  ]
}