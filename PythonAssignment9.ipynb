{
  "metadata": {
    "language_info": {
      "codemirror_mode": {
        "name": "python",
        "version": 3
      },
      "file_extension": ".py",
      "mimetype": "text/x-python",
      "name": "python",
      "nbconvert_exporter": "python",
      "pygments_lexer": "ipython3",
      "version": "3.8"
    },
    "kernelspec": {
      "name": "python",
      "display_name": "Python (Pyodide)",
      "language": "python"
    }
  },
  "nbformat_minor": 4,
  "nbformat": 4,
  "cells": [
    {
      "cell_type": "code",
      "source": "1. To what does a relative path refer?\nans: The relative path is the path to some file with respect to your current working directory(PWD). for ex: if Absolute path to a file\n     called stuff.txt is:\n        c:/users/admin/docs/stuff.txt\n        if my PWD is c:/users/admin/ then the relative path to stuff.txt would be docs/stuff.txt",
      "metadata": {},
      "execution_count": null,
      "outputs": []
    },
    {
      "cell_type": "code",
      "source": "2. What does an absolute path start with your operating system?\nans: In linux based systems the absolute path starts with /. where as in windows based systems absolute path starts with C:",
      "metadata": {},
      "execution_count": null,
      "outputs": []
    },
    {
      "cell_type": "code",
      "source": "3. What do the functions os.getcwd() and os.chdir() do?\nans: os.getcwd() method tells us the location of  current working directory(CWD). where as os.chdir() method in python used to change the current\n     working directory to specified path. these functions are similar to linux commands pwd and cd.",
      "metadata": {},
      "execution_count": null,
      "outputs": []
    },
    {
      "cell_type": "code",
      "source": "4. What are the . and .. folders?\nans:  . Represents the current  directory where  .. Represents the parent directory\n      for ex: if the path is my absolute path:\n        c:\\\\users\\\\anii\\\\documents\\\\Ineuronassignments\\\\python basics\n    where as ..Reprensents the path\n        c:\\\\users\\\\anii\\\\documents\\\\Ineuronassignments",
      "metadata": {},
      "execution_count": null,
      "outputs": []
    },
    {
      "cell_type": "code",
      "source": "5. In C:\\bacon\\eggs\\spam.txt, which part is the dir name, and which part is the base name?\nans: the dir name is  C:\\\\bacon\\eggs\n      the base name is spam.text",
      "metadata": {},
      "execution_count": null,
      "outputs": []
    },
    {
      "cell_type": "code",
      "source": "6. What are the three “mode” arguments that can be passed to the open() function?\nans: A file can be accessed in python using open() function. open function takes two arguments filename and mode of operation.\n     if mode is not provided the default mode of opening is read mode. So,the syntax being : open(filename,mode).\n    'r'- read mode : this is the default mode for open(). the file is opened and a pointer is positioned at the begining of the file's content\n    'w'- write mode: using this mode will overwrite any existing content in a file.if the given file does not exist, a new one will be created.\n    'r+'- read/write mode: use this mode if you need to read and write to a file .\n    'a'- append  mode: with this mode the user can append the data without overwritting any already existing data in the file.\n    'a+'- append and read mode: in this mode you can read and append the data  without ovrwritting the original file.\n    'x'-exclusive creating mode: this mode is for the sole purpose of creating new files.use this mode if you know the file to be written does not \n         beforehand.",
      "metadata": {},
      "execution_count": null,
      "outputs": []
    },
    {
      "cell_type": "code",
      "source": "7. What happens if an existing file is opened in write mode?\nans: using this mode will overwrite any existing content in a featedle. if the given file does not  exist, a new one will be created.",
      "metadata": {},
      "execution_count": null,
      "outputs": []
    },
    {
      "cell_type": "code",
      "source": "8. How do you tell the difference between read() and readlines()?\nans: 1.the main differneces is that read() will read the whole file at once and then printout the first  characters  that take up as many bytes\n     as you specify in the parantesis.\n    whereas  the readline() that will read and print out only the first characters that take up as many bytes as you specify in the paranthesis.you may\n    want to use readline() when you are reading files too big for your RAM.\n     2. the read() would treat each character in the file separately, meaning that the iteration would happen for every character. whereas the readline()\n        only reads a single line of the file.this means that if the first line of the file were 3 lines long,the readline() function would only \n        parse(iterate/operate) on the first line of the file.\n        ",
      "metadata": {},
      "execution_count": null,
      "outputs": []
    },
    {
      "cell_type": "code",
      "source": "9. What data structure does a shelf value resemble?\nans: it contains key and values ,it represents dictionary.",
      "metadata": {},
      "execution_count": null,
      "outputs": []
    }
  ]
}