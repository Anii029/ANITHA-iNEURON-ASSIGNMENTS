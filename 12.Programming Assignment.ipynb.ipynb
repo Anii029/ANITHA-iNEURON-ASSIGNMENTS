{
  "metadata": {
    "language_info": {
      "name": ""
    },
    "kernelspec": {
      "name": "python",
      "display_name": "Python (Pyodide)",
      "language": "python"
    }
  },
  "nbformat_minor": 4,
  "nbformat": 4,
  "cells": [
    {
      "cell_type": "markdown",
      "source": "## Assignment 12 Solutions",
      "metadata": {}
    },
    {
      "cell_type": "markdown",
      "source": "##### 1.Write a Python program to Extract Unique values dictionary values?",
      "metadata": {}
    },
    {
      "cell_type": "code",
      "source": "in_dict = {1:'Rishikesh',2:'Badrinath',3:'Gangotri',4:'Yamunotri',5:'Kedarnath',6:'Tirupati',7:'Kedarnath'}\nprint(in_dict.values())\nprint(f'Unique Values: {list(set(in_dict.values()))}')",
      "metadata": {},
      "execution_count": null,
      "outputs": []
    },
    {
      "cell_type": "markdown",
      "source": "dict_values(['Rishikesh', 'Badrinath', 'Gangotri', 'Yamunotri', 'Kedarnath', 'Tirupati', 'Kedarnath'])\nUnique Values: ['Badrinath', 'Gangotri', 'Kedarnath', 'Tirupati', 'Rishikesh', 'Yamunotri']",
      "metadata": {}
    },
    {
      "cell_type": "markdown",
      "source": "##### 2.Write a Python program to find the sum of all items in a dictionary?",
      "metadata": {}
    },
    {
      "cell_type": "code",
      "source": "in_dict = {'Apple':10,'Mango':20,'Banana':30,'Guava':40,'PineApple':200}\nprint('Sum of All items: ',sum(in_dict.values()))",
      "metadata": {},
      "execution_count": null,
      "outputs": []
    },
    {
      "cell_type": "markdown",
      "source": "Sum of All items:  300",
      "metadata": {}
    },
    {
      "cell_type": "markdown",
      "source": "##### 3.Write a Python program to Merging two Dictionaries?",
      "metadata": {}
    },
    {
      "cell_type": "code",
      "source": "course_details = {\n    'cousre_name':'Ineuron'\n}\ninstructors = {\n    'course_instructors':['Sudhanshu Kumar','Krish Naik']\n}\ncourse_details.update(instructors)\nprint(course_details)\n",
      "metadata": {},
      "execution_count": null,
      "outputs": []
    },
    {
      "cell_type": "markdown",
      "source": "{'cousre_name': 'Ineuron', 'course_instructors': ['Sudhanshu Kumar', 'Krish Naik']}",
      "metadata": {}
    },
    {
      "cell_type": "markdown",
      "source": "##### 4.Write a Python program to convert key-values list to flat dictionary?",
      "metadata": {}
    },
    {
      "cell_type": "code",
      "source": "in_list = [('A',10),('B',20),('C',30),('D',40),('E',50),('F',60),('G',70),('H',80),('I',90),('J',100)]\n\n# Method #1\ndict(in_list)\n\n# Method #2\nout_dict = {}\nfor ele in in_list:\n    out_dict[ele[0]] = ele[1]\nprint(out_dict)",
      "metadata": {},
      "execution_count": null,
      "outputs": []
    },
    {
      "cell_type": "markdown",
      "source": "{'A': 10, 'B': 20, 'C': 30, 'D': 40, 'E': 50, 'F': 60, 'G': 70, 'H': 80, 'I': 90, 'J': 100}",
      "metadata": {}
    },
    {
      "cell_type": "markdown",
      "source": "##### 5.Write a Python program to insertion at the beginning in OrderedDict?",
      "metadata": {}
    },
    {
      "cell_type": "code",
      "source": "from collections import OrderedDict\ndict_one = OrderedDict({'Apple':'Iphone','Microsoft':'Windows','Google':'chrome'})\nprint('dict_one',dict_one)\ndict_two = {'Tesla':'SpaceX'}\ndict_one.update(dict_two)\nprint('dict_one',dict_one)\ndict_one.move_to_end('Tesla',last=False)\nprint('dict_one',dict_one)",
      "metadata": {},
      "execution_count": null,
      "outputs": []
    },
    {
      "cell_type": "markdown",
      "source": "dict_one OrderedDict([('Apple', 'Iphone'), ('Microsoft', 'Windows'), ('Google', 'chrome')])\ndict_one OrderedDict([('Apple', 'Iphone'), ('Microsoft', 'Windows'), ('Google', 'chrome'), ('Tesla', 'SpaceX')])\ndict_one OrderedDict([('Tesla', 'SpaceX'), ('Apple', 'Iphone'), ('Microsoft', 'Windows'), ('Google', 'chrome')])",
      "metadata": {}
    },
    {
      "cell_type": "markdown",
      "source": "##### 6.Write a Python program to check order of character in string using OrderedDict()?",
      "metadata": {}
    },
    {
      "cell_type": "code",
      "source": "from collections import OrderedDict\n\ninitial_list = {'a': 1000, 'f': 200, 'd': 300, 'c': 400, 'b': 500, 'e': 600}\nprint(initial_list)\n\nfinal_list = OrderedDict(dict(sorted(initial_list.items())))\nprint(final_list)",
      "metadata": {},
      "execution_count": null,
      "outputs": []
    },
    {
      "cell_type": "markdown",
      "source": "{'a': 1000, 'f': 200, 'd': 300, 'c': 400, 'b': 500, 'e': 600}\nOrderedDict([('a', 1000), ('b', 500), ('c', 400), ('d', 300), ('e', 600), ('f', 200)])",
      "metadata": {}
    },
    {
      "cell_type": "markdown",
      "source": "##### 7.Write a Python program to sort Python Dictionaries by Key or Value?",
      "metadata": {}
    },
    {
      "cell_type": "code",
      "source": "d_items = {'Mango':100,'PineApple':22,'Banana':60,'Grape':13}\n\ndef sort_dict(in_dict,sort_type):\n    if sort_type == 'key':\n        print(dict(sorted(in_dict.items(), key=lambda x:x[0], reverse=False)))\n    else:\n        print(dict(sorted(in_dict.items(), key=lambda x:x[1], reverse=False)))\n        \nsort_dict(d_items,'key')        \nsort_dict(d_items,'value')",
      "metadata": {},
      "execution_count": null,
      "outputs": []
    },
    {
      "cell_type": "markdown",
      "source": "{'Banana': 60, 'Grape': 13, 'Mango': 100, 'PineApple': 22}\n{'Grape': 13, 'PineApple': 22, 'Banana': 60, 'Mango': 100}",
      "metadata": {}
    }
  ]
}