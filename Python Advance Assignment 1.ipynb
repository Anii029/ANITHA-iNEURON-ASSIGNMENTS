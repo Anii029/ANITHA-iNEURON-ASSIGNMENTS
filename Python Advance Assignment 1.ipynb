{
  "metadata": {
    "kernelspec": {
      "name": "python",
      "display_name": "Python (Pyodide)",
      "language": "python"
    },
    "language_info": {
      "name": ""
    }
  },
  "nbformat_minor": 4,
  "nbformat": 4,
  "cells": [
    {
      "cell_type": "code",
      "source": "Q1. What is the purpose of Python's OOP?\nAns: Object-oriented programming is a programming paradigm that provides a means of structuring programs so that properties and behaviors are bundled into individual objects\n\nIn Python, object-oriented Programming (OOPs) uses objects and classes in programming.\nIt aims to implement real-world entities like inheritance, polymorphisms, encapsulation, etc. in the programming.\nThe main concept of OOPs is to bind the data and the functions that work on that together as a single unit so that no other part of the code can access this data.\nIt comes up with the following advantages:\nIt helps to divide our over all program into different small segments and thus making it solving easy with the use of objects\nHelps in easy maintenance and modification of existing program\nMultiple instances of an object can be made.\n",
      "metadata": {
        "trusted": true
      },
      "outputs": [],
      "execution_count": null
    },
    {
      "cell_type": "code",
      "source": "Q2. Where does an inheritance search look for an attribute?\nAns: Python searches for an attribute in an upward tree of attributes. \nit first searches for the attribute in its instance and then looks in the class it is generated from, to all super classes listed in its class header",
      "metadata": {
        "trusted": true
      },
      "outputs": [],
      "execution_count": null
    },
    {
      "cell_type": "code",
      "source": "Q3. How do you distinguish between a class object and an instance object?\nAns: The differences between a class object and an instance object are:\n\nClass is a template for creating objects whereas object is an instance of class\nSeperate memory is allocated for each object whenever an object is created. but for a class this doesnot happens.\nA Class is created once. Many objects are created using a class.\nAs Classes have no allocated memory. they can't be manipulated. but objects can be manipulated.",
      "metadata": {
        "trusted": true
      },
      "outputs": [],
      "execution_count": null
    },
    {
      "cell_type": "code",
      "source": "Q4. What makes the first argument in a class’s method function special?\nAns: Python Classes usually have three types of methods which are:\n\nInstance Methods (object level methods)\nClass Methods (class level methods)\nStatic Methods (general utility methods)\nself is the first argument for instance methods. which refers to the object itself\ncls is the first argument for class methods which refers to the class itself",
      "metadata": {
        "trusted": true
      },
      "outputs": [],
      "execution_count": null
    },
    {
      "cell_type": "code",
      "source": "Q5. What is the purpose of the init method?\nAns: __init__ is a reseved method in python classes. \nIt serves the role of a constructor in object oriented terminology. \nThis method is called when an object is created from a class and it allows the class to initialize the attributes of the class\n\n",
      "metadata": {
        "trusted": true
      },
      "outputs": [],
      "execution_count": null
    },
    {
      "cell_type": "code",
      "source": "Q6. What is the process for creating a class instance?\nAns: To create a class instance, we need to call the class by its name and pass the arguments to the class, which its init method accepts.\n\nExample: my_name = my_class(\"Anitha\",\"Nallapati\") Here my_name is an instance of class my_class with attributes \"Anitha\" and \"Nallapati\".",
      "metadata": {
        "trusted": true
      },
      "outputs": [],
      "execution_count": null
    },
    {
      "cell_type": "code",
      "source": "Q7. What is the process for creating a class?\nAns: class keyword is used to created a class in python. The syntax to create a class in python is class <classname>:\n\nExample: class Car: ➞ this creates a class called Car\n\n",
      "metadata": {
        "trusted": true
      },
      "outputs": [],
      "execution_count": null
    },
    {
      "cell_type": "code",
      "source": "Q8. How would you define the superclasses of a class?\nAns Superclass/Parent class is given as a arugment to the child class\n\nExample: class Employee(Person): Here child class Employee inherits attributes and methofs from Superclass/Parent Person",
      "metadata": {
        "trusted": true
      },
      "outputs": [],
      "execution_count": null
    },
    {
      "cell_type": "code",
      "source": "",
      "metadata": {
        "trusted": true
      },
      "outputs": [],
      "execution_count": null
    },
    {
      "cell_type": "code",
      "source": "",
      "metadata": {
        "trusted": true
      },
      "outputs": [],
      "execution_count": null
    },
    {
      "cell_type": "code",
      "source": "",
      "metadata": {
        "trusted": true
      },
      "outputs": [],
      "execution_count": null
    },
    {
      "cell_type": "code",
      "source": "",
      "metadata": {
        "trusted": true
      },
      "outputs": [],
      "execution_count": null
    },
    {
      "cell_type": "code",
      "source": "",
      "metadata": {
        "trusted": true
      },
      "outputs": [],
      "execution_count": null
    },
    {
      "cell_type": "code",
      "source": "",
      "metadata": {
        "trusted": true
      },
      "outputs": [],
      "execution_count": null
    }
  ]
}