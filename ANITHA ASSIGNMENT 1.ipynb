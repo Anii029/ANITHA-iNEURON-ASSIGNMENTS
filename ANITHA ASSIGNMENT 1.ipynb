{
  "metadata": {
    "language_info": {
      "codemirror_mode": {
        "name": "python",
        "version": 3
      },
      "file_extension": ".py",
      "mimetype": "text/x-python",
      "name": "python",
      "nbconvert_exporter": "python",
      "pygments_lexer": "ipython3",
      "version": "3.8"
    },
    "kernelspec": {
      "name": "python",
      "display_name": "Python (Pyodide)",
      "language": "python"
    }
  },
  "nbformat_minor": 4,
  "nbformat": 4,
  "cells": [
    {
      "cell_type": "code",
      "source": "1.  *,-,/,+ are Mathematical operators.\n    'hello' is a string value.\n    -87.8,6 are  Integer values.\n    ",
      "metadata": {},
      "execution_count": null,
      "outputs": []
    },
    {
      "cell_type": "code",
      "source": "2. DIFFERENCE BETWEEN STRING AND VARIABLE:\n    STRING: A string is a type of information,you would store in a variable.it is usually in words,enclosed with quotations.\n    VARIABLE: A variable is a store of info ,is used to represent any value.\nex: X= 'Apple',here X is  a Variable ,Apple is a string.",
      "metadata": {},
      "execution_count": null,
      "outputs": []
    },
    {
      "cell_type": "code",
      "source": "3.THREE DIFFERENT DATATYPES:\n    The datatypes defined in python are \n    1.numbers ,can be subgrouped into 3 types which are Integer,Complex number,Float.\n    2.Sequence data types,can be subgrouped into String,list, tuple.\n    3. boolean \n    4. set\n    5. Dict.\n    ",
      "metadata": {},
      "execution_count": null,
      "outputs": []
    },
    {
      "cell_type": "code",
      "source": "4. An expression is a combination of operators and operands that is interpreted to produce some other value. It can be used to compute \n& to assign values to variables & to help control the execution flow of a program.\n ",
      "metadata": {},
      "execution_count": null,
      "outputs": []
    },
    {
      "cell_type": "code",
      "source": "5. DIFFERENCE BETWEEN EXPRESSION AND STATEMENT:\n    EXPRESSION : an expression is any word or group of words or symbols that is value. an expression is a value that executes and ends up being a value.\n    STATEMENT: a statement is a group of expressions,it designed to carry out a task or an action,the statements are two sided \n    that is they either do tasks or dont do them.",
      "metadata": {},
      "execution_count": null,
      "outputs": []
    },
    {
      "cell_type": "code",
      "source": "6.",
      "metadata": {},
      "execution_count": null,
      "outputs": []
    },
    {
      "cell_type": "code",
      "source": " bacon=22\n bacon+1",
      "metadata": {
        "trusted": true
      },
      "execution_count": 8,
      "outputs": [
        {
          "execution_count": 4,
          "output_type": "execute_result",
          "data": {
            "text/plain": "23"
          },
          "metadata": {}
        }
      ]
    },
    {
      "cell_type": "code",
      "source": "7.",
      "metadata": {},
      "execution_count": null,
      "outputs": []
    },
    {
      "cell_type": "code",
      "source": "'spam'+'spamspam'",
      "metadata": {
        "trusted": true
      },
      "execution_count": 9,
      "outputs": [
        {
          "execution_count": 5,
          "output_type": "execute_result",
          "data": {
            "text/plain": "'spamspamspam'"
          },
          "metadata": {}
        }
      ]
    },
    {
      "cell_type": "code",
      "source": "'spam'*3",
      "metadata": {
        "trusted": true
      },
      "execution_count": 10,
      "outputs": [
        {
          "execution_count": 6,
          "output_type": "execute_result",
          "data": {
            "text/plain": "'spamspamspam'"
          },
          "metadata": {}
        }
      ]
    },
    {
      "cell_type": "code",
      "source": "8. 100 is npt a variable.Because  a variable names cannot begin with a number\n",
      "metadata": {},
      "execution_count": null,
      "outputs": []
    },
    {
      "cell_type": "code",
      "source": "9. The int (),float() and str() functions will evaluate to the integer,floating point number and string versions of the values passed to them.",
      "metadata": {},
      "execution_count": null,
      "outputs": []
    },
    {
      "cell_type": "code",
      "source": "10. 'i have eaten'+99+'burritos'\nabove statement arises error as it can only concatenates sting to string not string to int.\nit can be fix by the following",
      "metadata": {},
      "execution_count": null,
      "outputs": []
    },
    {
      "cell_type": "code",
      "source": "'I have eaten'+ '99' + 'burritos'",
      "metadata": {
        "trusted": true
      },
      "execution_count": 13,
      "outputs": [
        {
          "execution_count": 9,
          "output_type": "execute_result",
          "data": {
            "text/plain": "'I have eaten99burritos'"
          },
          "metadata": {}
        }
      ]
    },
    {
      "cell_type": "code",
      "source": "",
      "metadata": {},
      "execution_count": null,
      "outputs": []
    }
  ]
}