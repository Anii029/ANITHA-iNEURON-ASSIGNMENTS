{
  "metadata": {
    "kernelspec": {
      "name": "python",
      "display_name": "Python (Pyodide)",
      "language": "python"
    },
    "language_info": {
      "name": ""
    }
  },
  "nbformat_minor": 4,
  "nbformat": 4,
  "cells": [
    {
      "cell_type": "code",
      "source": "Q1. Does assigning a value to a string's indexed character violate Python's string immutability ?\nAns: String’s indexed character cannot to be assigned a New value , as Strings are immutable.\nExample:\nname = \"Reinforcement\"\nprint(id(name)) #73472\nname[0] = \"V\" # Raises TypeError\n\n",
      "metadata": {
        "trusted": true
      },
      "outputs": [],
      "execution_count": null
    },
    {
      "cell_type": "code",
      "source": "Q2. Does using the += operator to concatenate strings violate Python's string immutability? Why or why not ?\nAns: += operator is used to concatenate strings, it does not violate Python’s string immutability Property. Because doing so new creates a new association with data and variable. E.g. str_1=\"a\" and str_1+=\"b. effect of this statements to create string ab and reassign it to variable str_1, any string data is not actually modified.\n\nstr_1 = 'a'\nprint(id(str_1))\nstr_1 += 'b'\nprint(id(str_1)) # Does not Modify existing string, Creates a New String Object\n2664305477256\n2664345250032\n",
      "metadata": {
        "trusted": true
      },
      "outputs": [],
      "execution_count": null
    },
    {
      "cell_type": "code",
      "source": "Q3. In Python, how many different ways are there to index a character?\nAns: A Character in string can be indexed using string name followed by index number of character in square bracket. Positive Indexing i.e. first index is 0 an so on, or Negative Indexing i.e. last letter is -1 and so on can be used to index a character\n\nin_string = \"iNeuron Full Stack Data Science\"\nprint(in_string[9],in_string[10],in_string[2]) # Positive Indexing\nprint(in_string[-1],in_string[-5],in_string[-2]) # Negative Indexing\nu l e\ne i c\n",
      "metadata": {
        "trusted": true
      },
      "outputs": [],
      "execution_count": null
    },
    {
      "cell_type": "code",
      "source": "Q4. What is the relationship between indexing and slicing?\nAns: We can access elements of sequence datatypes by using slicing and indexing. Indexing is used to obtaining individual element while slicing for sequence of elements.\n\nin_string = \"iNeuron Full Stack Data Science\"\nprint(in_string[1],in_string[3],in_string[5]) # Indexing\nprint(in_string[1:15]) # Slicing\nN u o\nNeuron Full St\n",
      "metadata": {
        "trusted": true
      },
      "outputs": [],
      "execution_count": null
    },
    {
      "cell_type": "code",
      "source": "Q5. What is an indexed character's exact data type? What is the data form of a slicing-generated substring?\nAns: Indexed characters and sliced substrings have datatype String.\n\nin_string = \"iNeuron Full Stack Data Science\"\nprint(type(in_string[3])) # Indexing -> str\nprint(type(in_string[1:10])) # Indexing -> str\n<class 'str'>\n<class 'str'>\n",
      "metadata": {
        "trusted": true
      },
      "outputs": [],
      "execution_count": null
    },
    {
      "cell_type": "code",
      "source": "Q6. What is the relationship between string and character \"types\" in Python?\nAns: Object that contains sequence of character datatypes are called String.\n\n",
      "metadata": {
        "trusted": true
      },
      "outputs": [],
      "execution_count": null
    },
    {
      "cell_type": "code",
      "source": "Q7. Identify at least two operators & one method that allow you to combine one or more smaller strings to create a larger string ?\nAns: +, += and * allow to combine one or more smaller strings to create a larger string. <string>.join(<sep>) method joins element of iterable type like list and tuple to get a combined string.\n\nin_string = 'iNeuron '\nin_string += 'Full Stack Data Science'\nprint(in_string + ' FSDS')\nprint('FSDS '*3)\nprint(\" \".join(['I','N','E','U','R','O','N'])) # List Iterable\nprint(\" \".join(('I','N','E','U','R','O','N')).lower()) # Tuple Iterable\niNeuron Full Stack Data Science FSDS\nFSDS FSDS FSDS \nI N E U R O N\ni n e u r o n\n",
      "metadata": {
        "trusted": true
      },
      "outputs": [],
      "execution_count": null
    },
    {
      "cell_type": "code",
      "source": "Q8. What is the benefit of first checking the target string with in or not in before using the index method to find a substring ?\nAns: Checking the target string with in or not Operators before using the index method to find a substring just helps confirming availability of substring and thus avoid raising of ValueError.\nExample:\nin_string = \"ineuron\"\nin_string.index('x') # Raises ValueError\nin_string.index('u') # 3\n\n",
      "metadata": {
        "trusted": true
      },
      "outputs": [],
      "execution_count": null
    },
    {
      "cell_type": "code",
      "source": "Q9. Which operators and built-in string methods produce simple Boolean (true/false) results?\nAns: The String Operators and built-in methods to Produce Simple Boolean (True/False) Results are:\n\nin\nnot\n<string>.isalpha()\n<string>.isalnum()\n<string>.isdecimal()\n<string>.isdigit()\n<string>.islower()\n<string>.isnumeric()\n<string>.isprintable()\n<string>.isspace()\n<string>.istitle()",
      "metadata": {
        "trusted": true
      },
      "outputs": [],
      "execution_count": null
    }
  ]
}