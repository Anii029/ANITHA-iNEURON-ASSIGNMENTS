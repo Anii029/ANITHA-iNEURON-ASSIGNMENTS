{
  "metadata": {
    "language_info": {
      "codemirror_mode": {
        "name": "python",
        "version": 3
      },
      "file_extension": ".py",
      "mimetype": "text/x-python",
      "name": "python",
      "nbconvert_exporter": "python",
      "pygments_lexer": "ipython3",
      "version": "3.8"
    },
    "kernelspec": {
      "name": "python",
      "display_name": "Python (Pyodide)",
      "language": "python"
    }
  },
  "nbformat_minor": 4,
  "nbformat": 4,
  "cells": [
    {
      "cell_type": "code",
      "source": "1. Create an assert statement that throws an AssertionError if the variable spam is a negative\ninteger.\nans: ",
      "metadata": {},
      "execution_count": null,
      "outputs": []
    },
    {
      "cell_type": "code",
      "source": "spam = -22\nassert spam >= 0,' variable spam should not be  a -ve integer'",
      "metadata": {
        "trusted": true
      },
      "execution_count": 3,
      "outputs": [
        {
          "ename": "<class 'AssertionError'>",
          "evalue": " variable spam should not be  a -ve integer",
          "traceback": [
            "\u001b[0;31m---------------------------------------------------------------------------\u001b[0m",
            "\u001b[0;31mAssertionError\u001b[0m                            Traceback (most recent call last)",
            "Cell \u001b[0;32mIn[3], line 2\u001b[0m\n\u001b[1;32m      1\u001b[0m spam \u001b[38;5;241m=\u001b[39m \u001b[38;5;241m-\u001b[39m\u001b[38;5;241m22\u001b[39m\n\u001b[0;32m----> 2\u001b[0m \u001b[38;5;28;01massert\u001b[39;00m spam \u001b[38;5;241m>\u001b[39m\u001b[38;5;241m=\u001b[39m \u001b[38;5;241m0\u001b[39m,\u001b[38;5;124m'\u001b[39m\u001b[38;5;124m variable spam should not be  a -ve integer\u001b[39m\u001b[38;5;124m'\u001b[39m\n",
            "\u001b[0;31mAssertionError\u001b[0m:  variable spam should not be  a -ve integer"
          ],
          "output_type": "error"
        }
      ]
    },
    {
      "cell_type": "code",
      "source": "2. Write an assert statement that triggers an AssertionError if the variables eggs and bacon contain\nstrings that are the same as each other, even if their cases are different (that is, 'hello' and 'hello' are\nconsidered the same, and 'goodbye' and 'GOODbye'are also considered the same).",
      "metadata": {},
      "execution_count": null,
      "outputs": []
    },
    {
      "cell_type": "code",
      "source": "def raise_assert(egg,bacon):\n    egg=egg.upper()\n    bacon=bacon.upper()\n    assert not(egg== bacon),'Eggs/Bacon should not be same ,which are same now'",
      "metadata": {
        "trusted": true
      },
      "execution_count": 4,
      "outputs": []
    },
    {
      "cell_type": "code",
      "source": "raise_assert('hello','HELLO')",
      "metadata": {
        "trusted": true
      },
      "execution_count": 5,
      "outputs": [
        {
          "ename": "<class 'AssertionError'>",
          "evalue": "Eggs/Bacon should not be same ,which are same now",
          "traceback": [
            "\u001b[0;31m---------------------------------------------------------------------------\u001b[0m",
            "\u001b[0;31mAssertionError\u001b[0m                            Traceback (most recent call last)",
            "Cell \u001b[0;32mIn[5], line 1\u001b[0m\n\u001b[0;32m----> 1\u001b[0m \u001b[43mraise_assert\u001b[49m\u001b[43m(\u001b[49m\u001b[38;5;124;43m'\u001b[39;49m\u001b[38;5;124;43mhello\u001b[39;49m\u001b[38;5;124;43m'\u001b[39;49m\u001b[43m,\u001b[49m\u001b[38;5;124;43m'\u001b[39;49m\u001b[38;5;124;43mHELLO\u001b[39;49m\u001b[38;5;124;43m'\u001b[39;49m\u001b[43m)\u001b[49m\n",
            "Cell \u001b[0;32mIn[4], line 4\u001b[0m, in \u001b[0;36mraise_assert\u001b[0;34m(egg, bacon)\u001b[0m\n\u001b[1;32m      2\u001b[0m egg\u001b[38;5;241m=\u001b[39megg\u001b[38;5;241m.\u001b[39mupper()\n\u001b[1;32m      3\u001b[0m bacon\u001b[38;5;241m=\u001b[39mbacon\u001b[38;5;241m.\u001b[39mupper()\n\u001b[0;32m----> 4\u001b[0m \u001b[38;5;28;01massert\u001b[39;00m \u001b[38;5;129;01mnot\u001b[39;00m(egg\u001b[38;5;241m==\u001b[39m bacon),\u001b[38;5;124m'\u001b[39m\u001b[38;5;124mEggs/Bacon should not be same ,which are same now\u001b[39m\u001b[38;5;124m'\u001b[39m\n",
            "\u001b[0;31mAssertionError\u001b[0m: Eggs/Bacon should not be same ,which are same now"
          ],
          "output_type": "error"
        }
      ]
    },
    {
      "cell_type": "code",
      "source": "raise_assert('goodbye','GOODbye')",
      "metadata": {
        "trusted": true
      },
      "execution_count": 6,
      "outputs": [
        {
          "ename": "<class 'AssertionError'>",
          "evalue": "Eggs/Bacon should not be same ,which are same now",
          "traceback": [
            "\u001b[0;31m---------------------------------------------------------------------------\u001b[0m",
            "\u001b[0;31mAssertionError\u001b[0m                            Traceback (most recent call last)",
            "Cell \u001b[0;32mIn[6], line 1\u001b[0m\n\u001b[0;32m----> 1\u001b[0m \u001b[43mraise_assert\u001b[49m\u001b[43m(\u001b[49m\u001b[38;5;124;43m'\u001b[39;49m\u001b[38;5;124;43mgoodbye\u001b[39;49m\u001b[38;5;124;43m'\u001b[39;49m\u001b[43m,\u001b[49m\u001b[38;5;124;43m'\u001b[39;49m\u001b[38;5;124;43mGOODbye\u001b[39;49m\u001b[38;5;124;43m'\u001b[39;49m\u001b[43m)\u001b[49m\n",
            "Cell \u001b[0;32mIn[4], line 4\u001b[0m, in \u001b[0;36mraise_assert\u001b[0;34m(egg, bacon)\u001b[0m\n\u001b[1;32m      2\u001b[0m egg\u001b[38;5;241m=\u001b[39megg\u001b[38;5;241m.\u001b[39mupper()\n\u001b[1;32m      3\u001b[0m bacon\u001b[38;5;241m=\u001b[39mbacon\u001b[38;5;241m.\u001b[39mupper()\n\u001b[0;32m----> 4\u001b[0m \u001b[38;5;28;01massert\u001b[39;00m \u001b[38;5;129;01mnot\u001b[39;00m(egg\u001b[38;5;241m==\u001b[39m bacon),\u001b[38;5;124m'\u001b[39m\u001b[38;5;124mEggs/Bacon should not be same ,which are same now\u001b[39m\u001b[38;5;124m'\u001b[39m\n",
            "\u001b[0;31mAssertionError\u001b[0m: Eggs/Bacon should not be same ,which are same now"
          ],
          "output_type": "error"
        }
      ]
    },
    {
      "cell_type": "code",
      "source": "3. Create an assert statement that throws an AssertionError every time.\nans",
      "metadata": {},
      "execution_count": null,
      "outputs": []
    },
    {
      "cell_type": "code",
      "source": "def assert_always():\n    assert False,'Always Shows Assertion Error'\nassert_always()",
      "metadata": {
        "trusted": true
      },
      "execution_count": 7,
      "outputs": [
        {
          "ename": "<class 'AssertionError'>",
          "evalue": "Always Shows Assertion Error",
          "traceback": [
            "\u001b[0;31m---------------------------------------------------------------------------\u001b[0m",
            "\u001b[0;31mAssertionError\u001b[0m                            Traceback (most recent call last)",
            "Cell \u001b[0;32mIn[7], line 3\u001b[0m\n\u001b[1;32m      1\u001b[0m \u001b[38;5;28;01mdef\u001b[39;00m \u001b[38;5;21massert_always\u001b[39m():\n\u001b[1;32m      2\u001b[0m     \u001b[38;5;28;01massert\u001b[39;00m \u001b[38;5;28;01mFalse\u001b[39;00m,\u001b[38;5;124m'\u001b[39m\u001b[38;5;124mAlways Shows Assertion Error\u001b[39m\u001b[38;5;124m'\u001b[39m\n\u001b[0;32m----> 3\u001b[0m \u001b[43massert_always\u001b[49m\u001b[43m(\u001b[49m\u001b[43m)\u001b[49m\n",
            "Cell \u001b[0;32mIn[7], line 2\u001b[0m, in \u001b[0;36massert_always\u001b[0;34m()\u001b[0m\n\u001b[1;32m      1\u001b[0m \u001b[38;5;28;01mdef\u001b[39;00m \u001b[38;5;21massert_always\u001b[39m():\n\u001b[0;32m----> 2\u001b[0m     \u001b[38;5;28;01massert\u001b[39;00m \u001b[38;5;28;01mFalse\u001b[39;00m,\u001b[38;5;124m'\u001b[39m\u001b[38;5;124mAlways Shows Assertion Error\u001b[39m\u001b[38;5;124m'\u001b[39m\n",
            "\u001b[0;31mAssertionError\u001b[0m: Always Shows Assertion Error"
          ],
          "output_type": "error"
        }
      ]
    },
    {
      "cell_type": "code",
      "source": "4. What are the two lines that must be present in your software in order to call logging.debug()?\nans:",
      "metadata": {},
      "execution_count": null,
      "outputs": []
    },
    {
      "cell_type": "code",
      "source": "import logging\nlogging.basicConfig(filename='application_log.txt',level=logging.DEBUG)",
      "metadata": {
        "trusted": true
      },
      "execution_count": 8,
      "outputs": []
    },
    {
      "cell_type": "code",
      "source": "5. What are the two lines that your program must have in order to have logging.debug() send a\nlogging message to a file named programLog.txt?\n",
      "metadata": {},
      "execution_count": null,
      "outputs": []
    },
    {
      "cell_type": "code",
      "source": "import logging\nlogging.basicConfig(filename='application_log.txt',level=logging.DEBUG)\nlogging.debug('data inserted successfully')\nlogging.debug('connection closed successfully')",
      "metadata": {
        "trusted": true
      },
      "execution_count": 9,
      "outputs": []
    },
    {
      "cell_type": "code",
      "source": "file=open(\"./application_log.txt\",\"r\")\nfor record in file.readlines():\n    print(record)",
      "metadata": {
        "trusted": true
      },
      "execution_count": 10,
      "outputs": []
    },
    {
      "cell_type": "code",
      "source": "6. What are the five levels of logging?\nans: the five steps of logging provided by pythons logging module are\n     CRITICAL(50),ERROR(40),WARNING(30),INFO(20),DEBUG(10),NOTSET(0)",
      "metadata": {},
      "execution_count": null,
      "outputs": []
    },
    {
      "cell_type": "code",
      "source": "7. What line of code would you add to your software to disable all logging messages?\n",
      "metadata": {},
      "execution_count": null,
      "outputs": []
    },
    {
      "cell_type": "code",
      "source": "logging.disable=True",
      "metadata": {
        "trusted": true
      },
      "execution_count": 11,
      "outputs": []
    },
    {
      "cell_type": "code",
      "source": "8.Why is using logging messages better than using print() to display the same message?\nans: Post development of your code ,you can disable logging messages without removing the logging function,where as you need to manually \n     remove print() statements,which is tedious activity.and also print is used when you want to display any particular messages or help whereas\n    logging is used to record all events like error,info,debug messages, timestamps.",
      "metadata": {},
      "execution_count": null,
      "outputs": []
    },
    {
      "cell_type": "code",
      "source": "9. What are the differences between the Step Over, Step In, and Step Out buttons in the debugger?\nans: the differences between Step Over,Step In ,Step Out buttons in debugger are:\n    1. Step In - it will cause the debugger to execute the next line of a code and then pause again.\n    2. Step Over - it qill execute the next line of code,similar to the step in button. However if the next line of code is a function call,the step over \n       button will step over the code in the function. the function's code will be executed at full speed,and the debugger will pause as soon as \n       the function  calls returns\n    3. step- out - it will cause the debugger to execute lines of code at full speed until it returns from the current function.\n    \n       ",
      "metadata": {},
      "execution_count": null,
      "outputs": []
    },
    {
      "cell_type": "code",
      "source": "10.After you click Continue, when will the debugger stop ?\nans: this will cause the program to continue running normally,without pausing for debugging until it terminates or reaches a breakpoint.\n",
      "metadata": {},
      "execution_count": null,
      "outputs": []
    },
    {
      "cell_type": "code",
      "source": "11. What is the concept of a breakpoint?\nans: Breakpoint is a setting on a line of code that causes the debugger to pause when the program execution reaches the line.",
      "metadata": {},
      "execution_count": null,
      "outputs": []
    }
  ]
}