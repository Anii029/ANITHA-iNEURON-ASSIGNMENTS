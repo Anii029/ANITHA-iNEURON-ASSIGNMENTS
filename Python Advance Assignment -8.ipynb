{
  "metadata": {
    "kernelspec": {
      "name": "python",
      "display_name": "Python (Pyodide)",
      "language": "python"
    },
    "language_info": {
      "name": ""
    }
  },
  "nbformat_minor": 4,
  "nbformat": 4,
  "cells": [
    {
      "cell_type": "code",
      "source": "Q1. What are the two latest user-defined exception constraints in Python 3.X?\nAns: raise and assert are the two latest user-defined exception constraints in Python 3.X\n\n",
      "metadata": {
        "trusted": true
      },
      "outputs": [],
      "execution_count": null
    },
    {
      "cell_type": "code",
      "source": "Q2. How are class-based exceptions that have been raised matched to handlers?\nAns: In python, Users can define custom exceptions by creating a new class. This exception class has to be derived, either directly or indirectly from built-in Exception class. This new exception class like other exceptions can be raised using the raise statement with an optional error message.\n\nclass ToYoungException(Exception):\n    def __init__(self,msg):\n        self.msg = msg\nage = 12\nif age <= 18: raise ToYoungException('To Young For Voting')\n---------------------------------------------------------------------------\nToYoungException                          Traceback (most recent call last)\n<ipython-input-1-b97f009151c8> in <module>()\n      3         self.msg = msg\n      4 age = 12\n----> 5 if age <= 18: raise ToYoungException('To Young For Voting')\n\nToYoungException: To Young For Voting\n",
      "metadata": {
        "trusted": true
      },
      "outputs": [],
      "execution_count": null
    },
    {
      "cell_type": "code",
      "source": "Q3. Describe two methods for attaching context information to exception artefacts ?\nAns: The process() method of LoggerAdapter is where the contextual information is added to the logging output. its passes the message and keyword arguments of the logging call, and it passes back modified versions of these to use in the call to the underlying logger.\n\nOther method that can be used is exception(), Logs a messgae with level ERROR on this logger. The arguments are interpreted as for debug(). Exception info is added to the logging message.\n\n",
      "metadata": {
        "trusted": true
      },
      "outputs": [],
      "execution_count": null
    },
    {
      "cell_type": "code",
      "source": "Q4. Describe two methods for specifying the text of an exception object's error message ?\nAns: raise and assert are two methods for specifying the text of an exception object's error message.raise statement is used to trigger explicit exception, if certain condition is not as per requirement of programmer. it helps in triggering exception as per need of programmer and logic.\n\nThere are few assertions that programmer always want to be True to avoid code failure. This type of requirment is fullfilled by assert statement. This statement takes a Boolean Condition output of which if True, further program executes. if output of assert statement is False it raises an Assertion Error.\n\n",
      "metadata": {
        "trusted": true
      },
      "outputs": [],
      "execution_count": null
    },
    {
      "cell_type": "code",
      "source": "Q5. Why do you no longer use string-based exceptions?\nAns: String-based Exceptions doesn't inherit from Exceptions. so plain exceptions catch all exceptions and not only system.",
      "metadata": {
        "trusted": true
      },
      "outputs": [],
      "execution_count": null
    },
    {
      "cell_type": "code",
      "source": "",
      "metadata": {
        "trusted": true
      },
      "outputs": [],
      "execution_count": null
    }
  ]
}