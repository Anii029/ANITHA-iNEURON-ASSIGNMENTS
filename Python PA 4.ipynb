{
  "metadata": {
    "language_info": {
      "codemirror_mode": {
        "name": "python",
        "version": 3
      },
      "file_extension": ".py",
      "mimetype": "text/x-python",
      "name": "python",
      "nbconvert_exporter": "python",
      "pygments_lexer": "ipython3",
      "version": "3.8"
    },
    "kernelspec": {
      "name": "python",
      "display_name": "Python (Pyodide)",
      "language": "python"
    }
  },
  "nbformat_minor": 4,
  "nbformat": 4,
  "cells": [
    {
      "cell_type": "code",
      "source": "1. Write a Python Program to Find the Factorial of a Number?",
      "metadata": {},
      "execution_count": null,
      "outputs": []
    },
    {
      "cell_type": "code",
      "source": "def factorial(num):\n    if (num < 1):\n        return 1\n    else:\n        return num*factorial(num-1)\nnum = int(input('enter a number:'))\nvalue = factorial(num)\nprint(f'The Factorial of {num} is {value}')",
      "metadata": {},
      "execution_count": null,
      "outputs": []
    },
    {
      "cell_type": "code",
      "source": "2. Write a Python Program to Display the multiplication Table?",
      "metadata": {},
      "execution_count": null,
      "outputs": []
    },
    {
      "cell_type": "code",
      "source": "def generateTable(base,entries):\n    for x in range(1,entries+1):\n        print(f'{base} X {x} ={base*x}')\n        \nnum = int(input('enter a number:'))\nvalues = int(input('enter no of entries:'))\ngenerateTable(num,values)",
      "metadata": {},
      "execution_count": null,
      "outputs": []
    },
    {
      "cell_type": "code",
      "source": "3. Write a Python Program to Print the Fibonacci sequence?",
      "metadata": {},
      "execution_count": null,
      "outputs": []
    },
    {
      "cell_type": "code",
      "source": "scount = int(input('enter  the no of fibonacci sequences you want ?'))\ninitial_list = [0,1]\nif scount < 0:\n    print('Fibonacci Numbers are not available for Negative Numbers')\nelif scount <=2 and scount >=0:\n    print(initiallist)\nelse:\n    for ins in range(scount):\n        if ins >=2:\n            initial_list.append(initial_list[ins-1]+initial_list[ins-2])\n    print(f'the first {scount} fibonacci series are :',initial_list)",
      "metadata": {},
      "execution_count": null,
      "outputs": []
    },
    {
      "cell_type": "code",
      "source": "4. Write a Python Program to Check Armstrong Number?",
      "metadata": {},
      "execution_count": null,
      "outputs": []
    },
    {
      "cell_type": "code",
      "source": "def checkArmstrongNumber():\n    in_num = input('enter a number')\n    sum = 0\n    for char in range(len(in_num)):\n        sum = sum+ pow(int(in_num[char]),3)\n    if sum == int(in_num)\n        print(f'{in_num} is a Armstrong Number')\n    else:\n        print(f'{in_num} is not a Armstrong Number')\n        \nfor x in range(2):\n    checkArmstrongNumber()",
      "metadata": {},
      "execution_count": null,
      "outputs": []
    },
    {
      "cell_type": "code",
      "source": "5. Write a Python Program to Find Armstrong Number in an Interval?",
      "metadata": {},
      "execution_count": null,
      "outputs": []
    },
    {
      "cell_type": "code",
      "source": "def checkArmstrongNumber(in_num,storage):\n    sum = 0\n    for char in range(len(in_num)):\n        sum = sum+ pow(int(in_num[char]),3)\n    if sum == int(in_num):\n        storage.append(in_num))\n        \nstart_interval = int(input('enter  the start of the interval:'))\nend_interval = int(input('enter the end of the interval:'))\nlist_of_armstrong =[]\n \nif start_interval > end_interval:\n    print(\"Start Interval Cannot be Greater than End Interval\")\nelse:\n    for number in range(start_interval,end_interval+1):\n        checkArmstrongNumber(str(number),list_of_armstrong)\n    print(f'the Armstrong numbers between {start_interval} and {end_interval}')",
      "metadata": {},
      "execution_count": null,
      "outputs": []
    },
    {
      "cell_type": "code",
      "source": "6. Write a Python Program to Find the Sum of Natural Numbers?",
      "metadata": {},
      "execution_count": null,
      "outputs": []
    },
    {
      "cell_type": "code",
      "source": "def sumofNaturalNumbers(num):\n    sum = num*((num+1)/2)\n    print(f'sum of {num} natural numbers is {sum}')\n    \nnum = int(input('enter  a number:'))\nsumofNaturalNumbers(num)",
      "metadata": {},
      "execution_count": null,
      "outputs": []
    },
    {
      "cell_type": "code",
      "source": "",
      "metadata": {},
      "execution_count": null,
      "outputs": []
    },
    {
      "cell_type": "code",
      "source": "",
      "metadata": {},
      "execution_count": null,
      "outputs": []
    },
    {
      "cell_type": "code",
      "source": "",
      "metadata": {},
      "execution_count": null,
      "outputs": []
    },
    {
      "cell_type": "code",
      "source": "",
      "metadata": {},
      "execution_count": null,
      "outputs": []
    }
  ]
}