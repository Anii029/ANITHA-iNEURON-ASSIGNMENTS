{
  "metadata": {
    "language_info": {
      "codemirror_mode": {
        "name": "python",
        "version": 3
      },
      "file_extension": ".py",
      "mimetype": "text/x-python",
      "name": "python",
      "nbconvert_exporter": "python",
      "pygments_lexer": "ipython3",
      "version": "3.8"
    },
    "kernelspec": {
      "name": "python",
      "display_name": "Python (Pyodide)",
      "language": "python"
    }
  },
  "nbformat_minor": 4,
  "nbformat": 4,
  "cells": [
    {
      "cell_type": "code",
      "source": "1. Write a Python Program to Check if a Number is Positive, Negative or Zero?",
      "metadata": {},
      "execution_count": null,
      "outputs": []
    },
    {
      "cell_type": "code",
      "source": "def checkNumber(num):\n    if num >0:\n        print('{} is a postive number'.format(num))\n    elif num <0:\n        print('{} is a negative number'.format(num))\n    else:\n        print(\"Number is Zero\")\n        \nnum= int(input(\"enter a number:\"))\ncheckNumber(num)",
      "metadata": {},
      "execution_count": null,
      "outputs": []
    },
    {
      "cell_type": "code",
      "source": "2. Write a Python Program to Check if a Number is Odd or Even?",
      "metadata": {},
      "execution_count": null,
      "outputs": []
    },
    {
      "cell_type": "code",
      "source": "def checkNumber(num):\n    if num%2 == 0:\n        print('{} is a even number'.format(num))\n    else:\n        print('{} is  a odd number'.format(num))\nnum=int(input('enter a number:'))\ncheckNumber(num)\n        ",
      "metadata": {},
      "execution_count": null,
      "outputs": []
    },
    {
      "cell_type": "code",
      "source": "3. Write a Python Program to Check Leap Year?",
      "metadata": {},
      "execution_count": null,
      "outputs": []
    },
    {
      "cell_type": "code",
      "source": "def checkYear(year)\n    if (year%4 == 0 and year%100 !=0 or year%400 ==0):\n        print(f'{year} is a leap year')\n    else:\n        print(f'{year} is not a leap year')\n        \nyear=int(input('enter year :'))\ncheckYear(year)",
      "metadata": {},
      "execution_count": null,
      "outputs": []
    },
    {
      "cell_type": "code",
      "source": "4. Write a Python Program to Check Prime Number?",
      "metadata": {},
      "execution_count": null,
      "outputs": []
    },
    {
      "cell_type": "code",
      "source": "def isPrime(num):\n    flag=false\n    for i in range(2,num):\n        if num%1 ==0:\n            flag= True\n            break\n    if(not flag):\n        print(f'{num} is a prime number')\n    else:\n        print(f'{num} is not a prime number')\n\nnumber = int(input('enter a  number:'))\nisPrime(number)",
      "metadata": {},
      "execution_count": null,
      "outputs": []
    },
    {
      "cell_type": "code",
      "source": "5. Write a Python Program to Print all Prime Numbers in an Interval of 1-10000?",
      "metadata": {},
      "execution_count": null,
      "outputs": []
    },
    {
      "cell_type": "code",
      "source": "primeNumbersList =[]\n\ndef generatePrimeNumbers():\n    for x in range(1,10000):\n        flag=False\n        for y in range(2,x):\n            if (x%y ==0):\n                flag = True\n                break\n        if (not flag):\n            primeNumbersList.append(x)\n            \ngeneratePrimeNumbers()\nprint(primeNumbersList)",
      "metadata": {},
      "execution_count": null,
      "outputs": []
    },
    {
      "cell_type": "code",
      "source": "",
      "metadata": {},
      "execution_count": null,
      "outputs": []
    },
    {
      "cell_type": "code",
      "source": "",
      "metadata": {},
      "execution_count": null,
      "outputs": []
    },
    {
      "cell_type": "code",
      "source": "",
      "metadata": {},
      "execution_count": null,
      "outputs": []
    }
  ]
}