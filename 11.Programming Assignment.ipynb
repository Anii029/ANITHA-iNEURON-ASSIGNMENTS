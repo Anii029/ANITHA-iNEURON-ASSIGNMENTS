{
  "metadata": {
    "language_info": {
      "name": ""
    },
    "kernelspec": {
      "name": "python",
      "display_name": "Python (Pyodide)",
      "language": "python"
    }
  },
  "nbformat_minor": 4,
  "nbformat": 4,
  "cells": [
    {
      "cell_type": "markdown",
      "source": "## Assignment 11 Solutions",
      "metadata": {}
    },
    {
      "cell_type": "markdown",
      "source": "##### 1. Write a Python program to find words which are greater than given length k ?",
      "metadata": {}
    },
    {
      "cell_type": "code",
      "source": "def checkLengthOfString():\n    in_string = input(\"Enter the string: \")\n    in_length = int(input('Enter the length of the string: '))\n    out_string = []\n    for string in in_string.split(\" \"):\n        if len(string) > in_length:\n            out_string.append(string)\n    print(','.join(out_string))\n\ncheckLengthOfString()",
      "metadata": {},
      "execution_count": null,
      "outputs": []
    },
    {
      "cell_type": "markdown",
      "source": "Enter the string: INeuron Full Stack Data Science Course is Awesome\nEnter the length of the string: 4\nINeuron,Stack,Science,Course,Awesome",
      "metadata": {}
    },
    {
      "cell_type": "markdown",
      "source": "##### 2. Write a Python program for removing i-th character from a string ?",
      "metadata": {}
    },
    {
      "cell_type": "code",
      "source": "def removeCharacter():\n    in_string = input(\"Enter the String: \")\n    in_char_num = int(input(\"Enter the ith Character: \"))\n    out_string = ''\n    for ele in range(len(in_string)):\n        if ele != in_char_num:\n            out_string = out_string + in_string[ele]\n    print(out_string)\n    \nremoveCharacter()",
      "metadata": {},
      "execution_count": null,
      "outputs": []
    },
    {
      "cell_type": "markdown",
      "source": "Enter the String: ineuron\nEnter the ith Character: 2\ninuron",
      "metadata": {}
    },
    {
      "cell_type": "markdown",
      "source": "##### 3. Write a Python program to split and join a string ?",
      "metadata": {}
    },
    {
      "cell_type": "code",
      "source": "def splitJoinString():\n    in_string = input('Enter the string: ')\n    print(f\"Split String: {in_string.split(' ')}\")\n    print(f\"Join String: {' '.join(in_string.split(' '))}\")\n\nsplitJoinString()",
      "metadata": {},
      "execution_count": null,
      "outputs": []
    },
    {
      "cell_type": "markdown",
      "source": "Enter the string: Ineuron Full Stack Data Science Course\nSplit String: ['Ineuron', 'Full', 'Stack', 'Data', 'Science', 'Course']\nJoin String: Ineuron Full Stack Data Science Course",
      "metadata": {}
    },
    {
      "cell_type": "markdown",
      "source": "##### 4. Write a Python to check if a given string is binary string or not ?",
      "metadata": {}
    },
    {
      "cell_type": "code",
      "source": "#### def checkBinary():\n    in_string = input('Enter the string: ')\n    stun = 0\n    for ele in in_string:\n        if ele in ['0','1']:\n            stun = 1\n            continue\n        else:\n            stun = 0\n            break\n    statement = 'is a binary string' if stun == 1 else 'is not a binart string' \n    print(f'{in_string} {statement}')\n\ncheckBinary()\ncheckBinary()",
      "metadata": {},
      "execution_count": null,
      "outputs": []
    },
    {
      "cell_type": "markdown",
      "source": "Enter the string: 1234\n1234 is not a binart string\nEnter the string: 1010101\n1010101 is a binary string",
      "metadata": {}
    },
    {
      "cell_type": "markdown",
      "source": "##### 5. Write a Python program to find uncommon words from two Strings ?",
      "metadata": {}
    },
    {
      "cell_type": "code",
      "source": "def unCommonWords():\n    in_string_1 = set(input(\"Enter the String 1: \").split(' '))\n    in_string_2 = set(input(\"Enter the String 2: \").split(' '))\n    out_string = (in_string_1.union(in_string_2)).difference(in_string_1.intersection(in_string_2))\n    print(out_string)\n\nunCommonWords()",
      "metadata": {},
      "execution_count": null,
      "outputs": []
    },
    {
      "cell_type": "markdown",
      "source": "Enter the String 1: Supervised Learning\nEnter the String 2: Unsupervised Learning\n{'Unsupervised', 'Supervised'}",
      "metadata": {}
    },
    {
      "cell_type": "markdown",
      "source": "##### 6. Write a Python to find all duplicate characters in string ?",
      "metadata": {}
    },
    {
      "cell_type": "code",
      "source": "def duplicateChars():\n    in_string = input('Enter the string: ')\n    non_duplicate_list = []\n    duplicate_list = []\n    for ele in in_string:\n        if ele not in non_duplicate_list:\n            non_duplicate_list.append(ele)\n        else:\n            duplicate_list.append(ele)\n    print(f'Duplicate characters are: {list(set(duplicate_list))}')\n        \nduplicateChars()",
      "metadata": {},
      "execution_count": null,
      "outputs": []
    },
    {
      "cell_type": "markdown",
      "source": "Enter the string: full stack data science course\nDuplicate characters are: ['s', 't', 'c', 'l', 'a', 'e', ' ', 'u']",
      "metadata": {}
    },
    {
      "cell_type": "markdown",
      "source": "#####  7. Write a Python Program to check if a string contains any special character?",
      "metadata": {}
    },
    {
      "cell_type": "code",
      "source": "def checkSpecialChar():\n    spl_chars = '[@_!#$%^&*()<>?/\\|}{~:]'\n    in_num = input('Enter the string: ')\n    count = 0\n    char_list = []\n    for ele in in_num:\n        if ele in spl_chars:\n            char_list.append(ele)\n            count = count+1\n    print(f'There are {count} Speical Characters in {in_num} which are {char_list}')\n            \n        \ncheckSpecialChar()\ncheckSpecialChar()",
      "metadata": {},
      "execution_count": null,
      "outputs": []
    },
    {
      "cell_type": "markdown",
      "source": "Enter the string: DS @ Ineuron by Sudhanshu & krish\nThere are 2 Speical Characters in DS @ Ineuron by Sudhanshu & krish which are ['@', '&']\nEnter the string: Full Metal Alchemist : Brotherhood\nThere are 1 Speical Characters in Full Metal Alchemist : Brotherhood which are [':']",
      "metadata": {}
    }
  ]
}