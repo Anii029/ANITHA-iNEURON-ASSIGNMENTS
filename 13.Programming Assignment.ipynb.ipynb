{
  "metadata": {
    "language_info": {
      "name": ""
    },
    "kernelspec": {
      "name": "python",
      "display_name": "Python (Pyodide)",
      "language": "python"
    }
  },
  "nbformat_minor": 4,
  "nbformat": 4,
  "cells": [
    {
      "cell_type": "markdown",
      "source": "## Assignment 13 Answers",
      "metadata": {}
    },
    {
      "cell_type": "markdown",
      "source": "##### 1.Write a program that calculates and prints the value according to the given formula:",
      "metadata": {}
    },
    {
      "cell_type": "markdown",
      "source": "#### Q = Square root of [(2 * C * D)/H]\nFollowing are the fixed values of C and H:\n\nC is 50. H is 30.\n\nD is the variable whose values should be input to your program in a comma-separated sequence.\n\nExample: Let us assume the following comma separated input sequence is given to the program:100,150,180\n\nThe output of the program should be: 18,22,24",
      "metadata": {}
    },
    {
      "cell_type": "code",
      "source": "from math import sqrt\ndef calculateProgram():\n    in_num = eval(input(\"Enter the Input: \"))\n    out_num = []\n    C = 50 # Declaring and initializing constant C\n    H = 30 # Declaring and initializing constant H\n    for ele in in_num:\n        Q = str(int(sqrt((2*C*ele)/H)))\n        out_num.append(Q)\n    print(\"Output: {}\".format(','.join(out_num)))\n    \ncalculateProgram()",
      "metadata": {},
      "execution_count": null,
      "outputs": []
    },
    {
      "cell_type": "markdown",
      "source": "Enter the Input: 100,150,180\nOutput: 18,22,24",
      "metadata": {}
    },
    {
      "cell_type": "markdown",
      "source": "##### 2.Write a program which takes 2 digits, X,Y as input and generates a 2-dimensional array. The element value in the i-th row and j-th column of the array should be i*j.",
      "metadata": {}
    },
    {
      "cell_type": "markdown",
      "source": "#### Note: i=0,1.., X-1; j=0,1,¡Y-1.\nExample: Suppose the following inputs are given to the program: 3,5\nThen, the output of the program should be:[[0, 0, 0, 0, 0], [0, 1, 2, 3, 4], [0, 2, 4, 6, 8]]",
      "metadata": {}
    },
    {
      "cell_type": "code",
      "source": "import array as arr\ndef generateArray():\n    in_x = int(input('Enter the No of Rows:'))\n    in_y = int(input('Enter the No of Columns:')) \n    out_array = []\n    for ele in range(in_x):\n        out_array.insert(in_x,[])\n        for sub_ele in range(in_y):\n            out_array[ele].append(ele*sub_ele)\n    print(out_array)\n    \ngenerateArray()",
      "metadata": {},
      "execution_count": null,
      "outputs": []
    },
    {
      "cell_type": "markdown",
      "source": "Enter the No of Rows:3\nEnter the No of Columns:5\n[[0, 0, 0, 0, 0], [0, 1, 2, 3, 4], [0, 2, 4, 6, 8]]",
      "metadata": {}
    },
    {
      "cell_type": "markdown",
      "source": "##### 3.Write a program that accepts a comma separated sequence of words as input and prints the words in a comma-separated sequence after sorting them alphabetically ?",
      "metadata": {}
    },
    {
      "cell_type": "markdown",
      "source": "Suppose the following input is supplied to the program: without,hello,bag,world\nThen, the output should be: bag,hello,without,world",
      "metadata": {}
    },
    {
      "cell_type": "code",
      "source": "def sortString():\n    in_string = input(\"Enter the Input String: \")\n    out_string = ','.join(sorted(in_string.split(',')))\n    print(f'Output: {out_string}')\n    \nsortString()",
      "metadata": {},
      "execution_count": null,
      "outputs": []
    },
    {
      "cell_type": "markdown",
      "source": "Enter the Input String: without,hello,bag,world\nOutput: bag,hello,without,world",
      "metadata": {}
    },
    {
      "cell_type": "markdown",
      "source": "##### 4.Write a program that accepts a sequence of whitespace separated words as input and prints the words after removing all duplicate words and sorting them alphanumerically.",
      "metadata": {}
    },
    {
      "cell_type": "markdown",
      "source": "Suppose the following input is supplied to the program: hello world and practice makes perfect and hello world again\nThen, the output should be: again and hello makes perfect practice world",
      "metadata": {}
    },
    {
      "cell_type": "code",
      "source": "def sortAlphaNumerically():\n    in_string = input(\"Enter the Input String: \")\n    out_string = ' '.join(sorted(sorted(list(set(in_string.split(\" \"))))))\n    print(f'Output: {out_string}')\n    \nsortAlphaNumerically()",
      "metadata": {},
      "execution_count": null,
      "outputs": []
    },
    {
      "cell_type": "markdown",
      "source": "Enter the Input String: hello world and practice makes perfect and hello world again\nOutput: again and hello makes perfect practice world",
      "metadata": {}
    },
    {
      "cell_type": "markdown",
      "source": "##### 5.Write a program that accepts a sentence and calculate the number of letters and digits.",
      "metadata": {}
    },
    {
      "cell_type": "markdown",
      "source": "Suppose the following input is supplied to the program: hello world! 123\nThen, the output should be:\nLETTERS 10\nDIGITS 3",
      "metadata": {}
    },
    {
      "cell_type": "code",
      "source": "def countLetterAndDigits():\n    in_string = input(\"Enter the Input String: \")\n    lettersList = 'ABCDEFGHIJKLMNOPQRSTUVWXYZabcdefghijklmnopqrstuvwxyz'\n    digitsList = '0123456789'\n    letters = 0\n    digits = 0\n    for ele in in_string:\n        if ele in lettersList:\n            letters += 1\n        if ele in digitsList:\n            digits += 1\n    print(f'LETTERS {letters} \\nDIGITS {digits}')\n        \ncountLetterAndDigits()",
      "metadata": {},
      "execution_count": null,
      "outputs": []
    },
    {
      "cell_type": "markdown",
      "source": "Enter the Input String: hello world! 123\nLETTERS 10 \nDIGITS 3",
      "metadata": {}
    },
    {
      "cell_type": "markdown",
      "source": "##### 6.A website requires the users to input username and password to register. Write a program to check the validity of password input by users.",
      "metadata": {}
    },
    {
      "cell_type": "markdown",
      "source": "Following are the criteria for checking the password:\n\nAt least 1 letter between [a-z]\nAt least 1 number between [0-9]\nAt least 1 letter between [A-Z]\nAt least 1 character from [$#@]\nMinimum length of transaction password: 6\nMaximum length of transaction password: 12\nYour program should accept a sequence of comma separated passwords and will check them according to the above criteria. Passwords that match the criteria are to be printed, each separated by a comma.\n\nExample:\nIf the following passwords are given as input to the program: ABd1234@1,a F1#,2w3E*,2We3345\nThen, the output of the program should be:ABd1234@1",
      "metadata": {}
    },
    {
      "cell_type": "code",
      "source": "def checkPassword():\n    in_string = input(\"Enter the Input String: \")\n    small_list = \"abcdefghijklmnopqrstuvwxyz\"\n    cap_list = \"ABCDEFGHIJKLMNOPQRSTUVWXYZ\"\n    num_list = \"0123456789\"\n    special_list = \"$#@\"\n    for ele in in_string.split(\",\"):\n        if len(ele) <= 12 and len(ele) >=6 :\n            if any(i.isupper() for i in ele):\n                if any(i.islower() for i in ele):\n                    if any(i for i in ele if i in special_list):\n                        print(ele)\n                               \ncheckPassword() ",
      "metadata": {},
      "execution_count": null,
      "outputs": []
    },
    {
      "cell_type": "markdown",
      "source": "Enter the Input String: ABd1234@1,a F1#,2w3E*,2We3345\nABd1234@1",
      "metadata": {}
    }
  ]
}