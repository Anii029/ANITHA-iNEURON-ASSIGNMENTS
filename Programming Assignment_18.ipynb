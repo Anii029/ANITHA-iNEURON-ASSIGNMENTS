{
  "metadata": {
    "kernelspec": {
      "name": "python",
      "display_name": "Python (Pyodide)",
      "language": "python"
    },
    "language_info": {
      "name": ""
    }
  },
  "nbformat_minor": 4,
  "nbformat": 4,
  "cells": [
    {
      "cell_type": "code",
      "source": "1.Create a function that takes a list of non-negative integers and strings and return a new list without the strings ?\nExamples:\nfilter_list([1, 2, \"a\", \"b\"]) ➞ [1, 2]\nfilter_list([1, \"a\", \"b\", 0, 15]) ➞ [1, 0, 15]\nfilter_list([1, 2, \"aasf\", \"1\", \"123\", 123]) ➞ [1, 2, 123]\n\n",
      "metadata": {
        "trusted": true
      },
      "outputs": [],
      "execution_count": null
    },
    {
      "cell_type": "code",
      "source": "def filter_list(list):\n    out_string = []\n    for ele in list:\n        if type(ele) == int and ele >= 0:\n            out_string.append(ele)\n    return out_string\n            \nprint(f'➞ {filter_list([1, 2, \"a\", \"b\"])}')\nprint(f'➞ {filter_list([1, \"a\", \"b\", 0, 15])}')\nprint(f'➞ {filter_list([1, 2, \"aasf\", \"1\", \"123\", 123])}')\n",
      "metadata": {
        "trusted": true
      },
      "outputs": [],
      "execution_count": null
    },
    {
      "cell_type": "code",
      "source": "2. The \"Reverser\" takes a string as input and returns that string in reverse order, with the opposite case ?\nExamples:\nreverse(\"Hello World\") ➞ \"DLROw OLLEh\"\nreverse(\"ReVeRsE\") ➞ \"eSrEvEr\"\nreverse(\"Radar\") ➞ \"RADAr\"\n\n",
      "metadata": {
        "trusted": true
      },
      "outputs": [],
      "execution_count": null
    },
    {
      "cell_type": "code",
      "source": "def reverse(in_string):\n    print(f'{in_string} ➞ {in_string[::-1].swapcase()}')\n    \nreverse('Hello World')\nreverse(\"ReVeRsE\")\nreverse(\"Radar\")\n",
      "metadata": {
        "trusted": true
      },
      "outputs": [],
      "execution_count": null
    },
    {
      "cell_type": "code",
      "source": "3.You can assign variables from lists like this:\nlst = [1, 2, 3, 4, 5, 6] first = lst[0] middle = lst[1:-1] last = lst[-1] print(first) ➞ outputs 1 print(middle) ➞ outputs [2, 3, 4, 5] print(last) ➞ outputs 6\nWith Python 3, you can assign variables from lists in a much more succinct way. Create variables first, middle and last from the given list using destructuring assignment\n(check the Resources tab for some examples), where:\nfirst ➞ 1 middle ➞ [2, 3, 4, 5] last ➞ 6\nYour task is to unpack the list writeyourcodehere into three variables, being first, middle, and last, with middle being everything in between the first and last element. Then print all three variables.",
      "metadata": {
        "trusted": true
      },
      "outputs": [],
      "execution_count": null
    },
    {
      "cell_type": "code",
      "source": "first, *middle, last = [1,2,3,4,5,6]\nprint(f'first ➞ {first}')\nprint(f'middle ➞ {middle}')\nprint(f'last ➞ {last}')\n",
      "metadata": {
        "trusted": true
      },
      "outputs": [],
      "execution_count": null
    },
    {
      "cell_type": "code",
      "source": "4.Write a function that calculates the factorial of a number recursively.\nExamples:\nfactorial(5) ➞ 120\nfactorial(3) ➞ 6\nfactorial(1) ➞ 1\nfactorial(0) ➞ 1\n\n",
      "metadata": {
        "trusted": true
      },
      "outputs": [],
      "execution_count": null
    },
    {
      "cell_type": "code",
      "source": "def factorial(n):\n    if n==0:\n        return 1\n    return n * factorial(n-1)\n\nprint(f'factorial(5) ➞ {factorial(5)}')\nprint(f'factorial(3) ➞ {factorial(3)}')\nprint(f'factorial(1) ➞ {factorial(1)}')\nprint(f'factorial(0) ➞ {factorial(0)}')\n",
      "metadata": {
        "trusted": true
      },
      "outputs": [],
      "execution_count": null
    },
    {
      "cell_type": "code",
      "source": "5.Write a function that moves all elements of one type to the end of the list.\nExamples:\nmove_to_end([1, 3, 2, 4, 4, 1], 1) ➞ [3, 2, 4, 4, 1, 1]\n# Move all the 1s to the end of the array.\nmove_to_end([7, 8, 9, 1, 2, 3, 4], 9) ➞ [7, 8, 1, 2, 3, 4, 9]\nmove_to_end([\"a\", \"a\", \"a\", \"b\"], \"a\") ➞ [\"b\", \"a\", \"a\", \"a\"]\n\n",
      "metadata": {
        "trusted": true
      },
      "outputs": [],
      "execution_count": null
    },
    {
      "cell_type": "code",
      "source": "def move_to_end(list,num):\n    first_end = []\n    second_end = []\n    for ele in list:\n        if ele == num:\n            second_end.append(ele)\n        else:\n            first_end.append(ele)\n    first_end.extend(second_end)\n    return first_end\n    \nprint(f'move_to_end([1, 3, 2, 4, 4, 1], 1) ➞ {move_to_end([1, 3, 2, 4, 4, 1], 1)}')\nprint(f'move_to_end([7, 8, 9, 1, 2, 3, 4], 9) ➞ {move_to_end([7, 8, 9, 1, 2, 3, 4], 9)}')\nprint(f'move_to_end([\"a\", \"a\", \"a\", \"b\"], \"a\") ➞ {move_to_end([\"a\", \"a\", \"a\", \"b\"], \"a\")}')\n",
      "metadata": {
        "trusted": true
      },
      "outputs": [],
      "execution_count": null
    },
    {
      "cell_type": "code",
      "source": "",
      "metadata": {
        "trusted": true
      },
      "outputs": [],
      "execution_count": null
    },
    {
      "cell_type": "code",
      "source": "",
      "metadata": {
        "trusted": true
      },
      "outputs": [],
      "execution_count": null
    },
    {
      "cell_type": "code",
      "source": "",
      "metadata": {
        "trusted": true
      },
      "outputs": [],
      "execution_count": null
    }
  ]
}