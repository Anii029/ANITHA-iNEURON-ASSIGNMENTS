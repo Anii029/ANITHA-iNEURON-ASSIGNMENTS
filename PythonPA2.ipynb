{
  "metadata": {
    "language_info": {
      "codemirror_mode": {
        "name": "python",
        "version": 3
      },
      "file_extension": ".py",
      "mimetype": "text/x-python",
      "name": "python",
      "nbconvert_exporter": "python",
      "pygments_lexer": "ipython3",
      "version": "3.8"
    },
    "kernelspec": {
      "name": "python",
      "display_name": "Python (Pyodide)",
      "language": "python"
    }
  },
  "nbformat_minor": 4,
  "nbformat": 4,
  "cells": [
    {
      "cell_type": "code",
      "source": "1. Write a Python program to convert kilometers to miles?",
      "metadata": {},
      "execution_count": null,
      "outputs": []
    },
    {
      "cell_type": "code",
      "source": "def kmtomiles():\n    kilometers=float(input(\"enter no of kilometers\"))\n    print(\"{} km is equal to {} miles\".format(kilometers,kilometers*0.621))\nkmtomiles()",
      "metadata": {},
      "execution_count": null,
      "outputs": []
    },
    {
      "cell_type": "code",
      "source": "2. Write a Python program to convert Celsius to Fahrenheit?",
      "metadata": {},
      "execution_count": null,
      "outputs": []
    },
    {
      "cell_type": "code",
      "source": "def celtofarh():\n    celsius=int(input(\"enter temperature in celsius:\"))\n    Farenheit=(celsius*(9/5))+32\n    print(\"{} celsius is equal to {} Farenheit\".format(celsius,Farenheit))\n    \nceltofarh()",
      "metadata": {},
      "execution_count": null,
      "outputs": []
    },
    {
      "cell_type": "code",
      "source": "3. Write a Python program to display calendar?",
      "metadata": {},
      "execution_count": null,
      "outputs": []
    },
    {
      "cell_type": "code",
      "source": "import calender\n\ndef showCalender():\n    year=int(input(\"enter calender year:\"))\n    print(calender.calender(year))\n    \nshowCalender()",
      "metadata": {},
      "execution_count": null,
      "outputs": []
    },
    {
      "cell_type": "code",
      "source": "4. Write a Python program to solve quadratic equation?",
      "metadata": {},
      "execution_count": null,
      "outputs": []
    },
    {
      "cell_type": "code",
      "source": "import cmath\nimport math\n\ndef quadarticEquationRoots(a,b,c):\n    \n    discriminant =b*b-4*a*c\n    \n    if discriminant == 0:\n        r1 =-b/2*a\n        r2 =-b/2*a\n        print(\"roots are real\",r1,r2)\n        \n    elif discriminant >0:\n        r1=(-b-math.sqrt(discriminant))/(2*a)\n        r2=(-b+math.sqrt(discriminant))/(2*a)\n        print(\"roots are real and different\",r1,r2)\n    else:\n        r1=(-b-cmath.sqrt(discriminant))/(2*a)\n        r2=(-b+cmath.sqrt(discriminant))/(2*a)\n        print(\"roots are Imaginary\",r1,r2)\n        \na=int(input('enter a value:'))\nb=int(input('enter b value'))\nc=int(input('enter c value'))\n\nquadraticEquationRoots(a,b,c)",
      "metadata": {},
      "execution_count": null,
      "outputs": []
    },
    {
      "cell_type": "code",
      "source": "5. Write a Python program to swap two variables without temp variable?",
      "metadata": {},
      "execution_count": null,
      "outputs": []
    },
    {
      "cell_type": "code",
      "source": "num1 = int(input('enter first number:'))\nnum2 = int(input('enter second number'))\n\ndef swapNumbers(num1,num2):\n    print('Before swapping',num1,num2)\n    num1=num1+num2\n    num2=num1-num2\n    num1=num1-num2\n    print('before swapping',num1,num2)\n    \nswapNumbers(num1,num2)\n    ",
      "metadata": {},
      "execution_count": null,
      "outputs": []
    },
    {
      "cell_type": "code",
      "source": "",
      "metadata": {},
      "execution_count": null,
      "outputs": []
    },
    {
      "cell_type": "code",
      "source": "",
      "metadata": {},
      "execution_count": null,
      "outputs": []
    },
    {
      "cell_type": "code",
      "source": "",
      "metadata": {},
      "execution_count": null,
      "outputs": []
    },
    {
      "cell_type": "code",
      "source": "",
      "metadata": {},
      "execution_count": null,
      "outputs": []
    },
    {
      "cell_type": "code",
      "source": "",
      "metadata": {},
      "execution_count": null,
      "outputs": []
    }
  ]
}