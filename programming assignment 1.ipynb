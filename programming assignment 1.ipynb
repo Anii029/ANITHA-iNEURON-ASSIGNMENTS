{
  "metadata": {
    "language_info": {
      "codemirror_mode": {
        "name": "python",
        "version": 3
      },
      "file_extension": ".py",
      "mimetype": "text/x-python",
      "name": "python",
      "nbconvert_exporter": "python",
      "pygments_lexer": "ipython3",
      "version": "3.8"
    },
    "kernelspec": {
      "name": "python",
      "display_name": "Python (Pyodide)",
      "language": "python"
    }
  },
  "nbformat_minor": 4,
  "nbformat": 4,
  "cells": [
    {
      "cell_type": "code",
      "source": "1. Write a Python program to print 'Hello Python'?",
      "metadata": {},
      "execution_count": null,
      "outputs": []
    },
    {
      "cell_type": "code",
      "source": "print (\"Hello Python\")",
      "metadata": {
        "trusted": true
      },
      "execution_count": 2,
      "outputs": [
        {
          "name": "stdout",
          "text": "Hello Python\n",
          "output_type": "stream"
        }
      ]
    },
    {
      "cell_type": "code",
      "source": "2. Write a Python program to do arithmetical operations addition and division.?\n",
      "metadata": {},
      "execution_count": null,
      "outputs": []
    },
    {
      "cell_type": "code",
      "source": "import operator\n\nops = { \"+\": operator.add, \"-\": operator.sub, \"*\":operator.mul, \"/\":operator.truediv } \n\nprint('Select a Arithmetic Operation: \\\n        \\n1.Addition(+)\\\n        \\n2.Division(-)\\\n        \\n2.Multiplication(*)\\\n        \\n4.Division(/)\\\n        \\n3.Stop(0)\\n')\n   \n\nwhile True:\n    operator = input('Enter a arithmetic operation -> ')\n    if operator == '0':\n        print(\"Program Stopped successfully\")\n        break\n    elif operator not in ['+','-','*','/']:\n        print(\"Please enter a valid operator\")\n    else:\n        num_1 = int(input('\\nEnter 1st Number: '))\n        num_2 = int(input('Enter 2nd Number: '))\n        print('{}{}{}={}\\n'.format(num_1, operator, num_2, ops[operator](num_1,num_2)))",
      "metadata": {},
      "execution_count": null,
      "outputs": []
    },
    {
      "cell_type": "code",
      "source": "3. Write a Python program to find the area of a triangle?",
      "metadata": {},
      "execution_count": null,
      "outputs": []
    },
    {
      "cell_type": "code",
      "source": "height = int(input('Enter height of triangle: '))\nbase = int(input('Enter base of triangle: '))\n\ndef areaOfTriangle(height, base):\n    print('\\nArea of triangle ->', 0.5*height*base)\n\nareaOfTriangle(height,base)\n",
      "metadata": {
        "trusted": true
      },
      "execution_count": null,
      "outputs": []
    },
    {
      "cell_type": "code",
      "source": "4. Write a Python program to swap two variables?\n",
      "metadata": {},
      "execution_count": null,
      "outputs": []
    },
    {
      "cell_type": "code",
      "source": "num_1 = int(input(\"Enter First Number: \"))\nnum_2 = int(input(\"Enter Second Number: \"))\n\ndef swapNumbers(a,b):\n    temp = a\n    a = b\n    b = temp\n    return a,b\n\nprint('Before swapping -> ',num_1, num_2)\nnum_1, num_2 = swapNumbers(num_1, num_2)\nprint('After swapping -> ',num_1,num_2)\n",
      "metadata": {
        "trusted": true
      },
      "execution_count": null,
      "outputs": []
    },
    {
      "cell_type": "code",
      "source": "5. Write a Python program to generate a random number?",
      "metadata": {},
      "execution_count": null,
      "outputs": []
    },
    {
      "cell_type": "code",
      "source": "from random import randint\n\ndef generateRandomNumber(start=0, end=100000):\n    print('Random number -> ',randint(start,end))\n\n# Generating random numbers without arguments    \ngenerateRandomNumber()\n\n# Generating random numbers with arguments    \ngenerateRandomNumber(0,100)\n",
      "metadata": {
        "trusted": true
      },
      "execution_count": 1,
      "outputs": [
        {
          "name": "stdout",
          "text": "Random number ->  7505\nRandom number ->  83\n",
          "output_type": "stream"
        }
      ]
    },
    {
      "cell_type": "code",
      "source": "",
      "metadata": {},
      "execution_count": null,
      "outputs": []
    },
    {
      "cell_type": "code",
      "source": "",
      "metadata": {},
      "execution_count": null,
      "outputs": []
    }
  ]
}