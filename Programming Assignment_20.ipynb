{
  "metadata": {
    "kernelspec": {
      "name": "python",
      "display_name": "Python (Pyodide)",
      "language": "python"
    },
    "language_info": {
      "name": ""
    }
  },
  "nbformat_minor": 4,
  "nbformat": 4,
  "cells": [
    {
      "cell_type": "code",
      "source": "1.Create a function that takes a list of strings and integers, and filters out the list so that it returns a list of integers only.\nExamples:\nfilter_list([1, 2, 3, \"a\", \"b\", 4]) ➞ [1, 2, 3, 4]\nfilter_list([\"A\", 0, \"Edabit\", 1729, \"Python\", \"1729\"]) ➞ [0, 1729]\nfilter_list([\"Nothing\", \"here\"]) ➞ []\n\n",
      "metadata": {
        "trusted": true
      },
      "outputs": [],
      "execution_count": null
    },
    {
      "cell_type": "code",
      "source": "def filter_list(in_list):\n    out_list = []\n    for ele in in_list:\n        if type(ele) == int:\n            out_list.append(ele)\n    print(f'Output ➞ {out_list}')\n\nfilter_list([1, 2, 3, \"a\", \"b\", 4])\nfilter_list([\"A\", 0, \"Edabit\", 1729, \"Python\", \"1729\"])\nfilter_list([\"Nothing\", \"here\"])\n",
      "metadata": {
        "trusted": true
      },
      "outputs": [],
      "execution_count": null
    },
    {
      "cell_type": "code",
      "source": "2.Given a list of numbers, create a function which returns the list but with each element's index in the list added to itself. This means you add 0 to the number at index 0, add 1 to the number at index 1, etc...\nExamples:\nadd_indexes([0, 0, 0, 0, 0]) ➞ [0, 1, 2, 3, 4]\nadd_indexes([1, 2, 3, 4, 5]) ➞ [1, 3, 5, 7, 9]\nadd_indexes([5, 4, 3, 2, 1]) ➞ [5, 5, 5, 5, 5]\n\n",
      "metadata": {
        "trusted": true
      },
      "outputs": [],
      "execution_count": null
    },
    {
      "cell_type": "code",
      "source": "def add_indexes(in_list):\n    out_list = []\n    for ele in range(len(in_list)):\n        out_list.append(ele+in_list[ele])\n    print(f'{in_list} ➞ {out_list}')\n        \nadd_indexes([0, 0, 0, 0, 0])\nadd_indexes([1, 2, 3, 4, 5])\nadd_indexes([5, 4, 3, 2, 1])",
      "metadata": {
        "trusted": true
      },
      "outputs": [],
      "execution_count": null
    },
    {
      "cell_type": "code",
      "source": "3.Create a function that takes the height and radius of a cone as arguments and returns the volume of the cone rounded to the nearest hundredth. See the resources tab for the formula.\nExamples:\ncone_volume(3, 2) ➞ 12.57\ncone_volume(15, 6) ➞ 565.49\ncone_volume(18, 0) ➞ 0",
      "metadata": {
        "trusted": true
      },
      "outputs": [],
      "execution_count": null
    },
    {
      "cell_type": "code",
      "source": "import math\n\ndef cube_volume(height, radius):\n    output = ((math.pi)*pow(radius,2))*(height/3)\n    print(f'Output ➞ {output:.2f}')\n\ncube_volume(3,2) \ncube_volume(15,6)    \ncube_volume(18,0)",
      "metadata": {
        "trusted": true
      },
      "outputs": [],
      "execution_count": null
    },
    {
      "cell_type": "code",
      "source": "4.This Triangular Number Sequence is generated from a pattern of dots that form a triangle.\nThe first 5 numbers of the sequence, or dots, are: 1, 3, 6, 10, 15\nThis means that the first triangle has just one dot, the second one has three dots, the third one has 6 dots and so on. Write a function that gives the number of dots with its corresponding triangle number of the sequence.\n\nExamples:\ntriangle(1) ➞ 1\ntriangle(6) ➞ 21\ntriangle(215) ➞ 23220\n\n",
      "metadata": {
        "trusted": true
      },
      "outputs": [],
      "execution_count": null
    },
    {
      "cell_type": "code",
      "source": "def triangle(in_num):\n    print(f'Output ➞ {int((in_num)*((in_num+1)/2))}')\n\ntriangle(1)\ntriangle(6)\ntriangle(215)",
      "metadata": {
        "trusted": true
      },
      "outputs": [],
      "execution_count": null
    },
    {
      "cell_type": "code",
      "source": "5.Create a function that takes a list of numbers between 1 and 10 (excluding one number) and returns the missing number.\nExamples:\nmissing_num([1, 2, 3, 4, 6, 7, 8, 9, 10]) ➞ 5\nmissing_num([7, 2, 3, 6, 5, 9, 1, 4, 8]) ➞ 10\nmissing_num([10, 5, 1, 2, 4, 6, 8, 3, 9]) ➞ 7\n\n",
      "metadata": {
        "trusted": true
      },
      "outputs": [],
      "execution_count": null
    },
    {
      "cell_type": "code",
      "source": "def missing_num(in_list):\n    for i in range(1,11):\n        if i not in in_list:\n            print(f'{in_list} ➞ {i}')\n\nmissing_num([1, 2, 3, 4, 6, 7, 8, 9, 10])\nmissing_num([7, 2, 3, 6, 5, 9, 1, 4, 8])\nmissing_num([10, 5, 1, 2, 4, 6, 8, 3, 9])\n",
      "metadata": {
        "trusted": true
      },
      "outputs": [],
      "execution_count": null
    },
    {
      "cell_type": "code",
      "source": "",
      "metadata": {
        "trusted": true
      },
      "outputs": [],
      "execution_count": null
    },
    {
      "cell_type": "code",
      "source": "",
      "metadata": {
        "trusted": true
      },
      "outputs": [],
      "execution_count": null
    },
    {
      "cell_type": "code",
      "source": "",
      "metadata": {
        "trusted": true
      },
      "outputs": [],
      "execution_count": null
    },
    {
      "cell_type": "code",
      "source": "",
      "metadata": {
        "trusted": true
      },
      "outputs": [],
      "execution_count": null
    },
    {
      "cell_type": "code",
      "source": "",
      "metadata": {
        "trusted": true
      },
      "outputs": [],
      "execution_count": null
    },
    {
      "cell_type": "code",
      "source": "",
      "metadata": {
        "trusted": true
      },
      "outputs": [],
      "execution_count": null
    },
    {
      "cell_type": "code",
      "source": "",
      "metadata": {
        "trusted": true
      },
      "outputs": [],
      "execution_count": null
    }
  ]
}