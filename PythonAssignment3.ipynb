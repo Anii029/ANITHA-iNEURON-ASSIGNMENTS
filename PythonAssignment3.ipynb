{
  "metadata": {
    "language_info": {
      "codemirror_mode": {
        "name": "python",
        "version": 3
      },
      "file_extension": ".py",
      "mimetype": "text/x-python",
      "name": "python",
      "nbconvert_exporter": "python",
      "pygments_lexer": "ipython3",
      "version": "3.8"
    },
    "kernelspec": {
      "name": "python",
      "display_name": "Python (Pyodide)",
      "language": "python"
    }
  },
  "nbformat_minor": 4,
  "nbformat": 4,
  "cells": [
    {
      "cell_type": "code",
      "source": "1. Why are functions advantageous to have in your programs?\nans: Functions  reduce the need for duplicate code.this makes programs shorter,easier to read ,and easier to update.\n     the main advantage of functions is code Reusability.\n    \n",
      "metadata": {},
      "execution_count": null,
      "outputs": []
    },
    {
      "cell_type": "code",
      "source": "2. When does the code in a function run: when it is specified or when its called?\nans: the code in a function executes when the function is called,not when the function is specified.\n\n    ",
      "metadata": {},
      "execution_count": null,
      "outputs": []
    },
    {
      "cell_type": "code",
      "source": "3. What statement creates a function?\nans: the def statement defines a function\n     syntax :\n        def\n        function_name(parameter)\n       ---funtion body--\n       --funtion body--\n        return value",
      "metadata": {},
      "execution_count": null,
      "outputs": []
    },
    {
      "cell_type": "code",
      "source": "4. What is the difference between a function and a function call?\nans: A funtion is  procedure to achieve a particular result.while function call is using this function to achive that task.Using a funtion \n      to do particular task any point in program is called as function call.\n    ",
      "metadata": {},
      "execution_count": null,
      "outputs": []
    },
    {
      "cell_type": "code",
      "source": "5. How many global scopes are there in a Python program? How many local scopes?\nans: there is one global scope,and a local scope is created whenever a funtion is called.\n",
      "metadata": {},
      "execution_count": null,
      "outputs": []
    },
    {
      "cell_type": "code",
      "source": "6. What happens to variables in a local scope when the function call returns?\nans: when a funtion returns,the local scope is destroyed,and all the variables in it are forgotten.\n",
      "metadata": {},
      "execution_count": null,
      "outputs": []
    },
    {
      "cell_type": "code",
      "source": "7. What is the concept of a return value? Is it possible to have a return value in an expression?\nans: A return value is the value that a function call evaluates to,like any value,a return value can be used as part of an expression.",
      "metadata": {},
      "execution_count": null,
      "outputs": []
    },
    {
      "cell_type": "code",
      "source": "8. If a function does not have a return statement, what is the return value of a call to that function?\nans: if there is no return statement for a function,its return value is None.\n",
      "metadata": {},
      "execution_count": null,
      "outputs": []
    },
    {
      "cell_type": "code",
      "source": "9. How do you make a function variable refer to the global variable?\nans:  A Global statement will force a variable in a function to refer to the global variabe. if you want to refer to a global variable\nin a funtion,you can use the global keyword to declare which variables are global.\n",
      "metadata": {},
      "execution_count": null,
      "outputs": []
    },
    {
      "cell_type": "code",
      "source": "10. What is the data type of None?\nans: the datatype of None is Nonetype.",
      "metadata": {},
      "execution_count": null,
      "outputs": []
    },
    {
      "cell_type": "code",
      "source": "11. What does the sentence import areallyourpetsnamederic do?\nans: that import statement imports a module named areallyourpetsnamederic.\n",
      "metadata": {},
      "execution_count": null,
      "outputs": []
    },
    {
      "cell_type": "code",
      "source": "12. If you had a bacon() feature in a spam module, what would you call it after importing spam?\nans: this function can be called with spam.bacon().\n",
      "metadata": {},
      "execution_count": null,
      "outputs": []
    },
    {
      "cell_type": "code",
      "source": "13. What can you do to save a programme from crashing if it encounters an error?\nans: place the line of code that might cause an error in a try clause and use except block to handle the error.\n",
      "metadata": {},
      "execution_count": null,
      "outputs": []
    },
    {
      "cell_type": "code",
      "source": "14. What is the purpose of the try clause? What is the purpose of the except clause?\nans:  the code that could potentially goes in the try clause. the code that executes if an error happens goes in the except clause.",
      "metadata": {},
      "execution_count": null,
      "outputs": []
    }
  ]
}