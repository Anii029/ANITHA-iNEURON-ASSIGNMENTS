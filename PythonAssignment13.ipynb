{
  "metadata": {
    "language_info": {
      "name": ""
    },
    "kernelspec": {
      "name": "python",
      "display_name": "Python (Pyodide)",
      "language": "python"
    }
  },
  "nbformat_minor": 4,
  "nbformat": 4,
  "cells": [
    {
      "cell_type": "code",
      "source": "1. What advantages do Excel spreadsheets have over CSV spreadsheets?\nans: 1.excel file formats are better for storing and analysing complex data.\n     2.an excel not only stores data but can also do operations on the data using macros,formulas etc.\n     3.CSV files are plain text files,does not contain formatting,formulas,macros etc.it is also known as flat-files.",
      "metadata": {},
      "execution_count": null,
      "outputs": []
    },
    {
      "cell_type": "code",
      "source": "2.What do you pass to csv.reader() and csv.writer() to create reader and writer objects?",
      "metadata": {},
      "execution_count": null,
      "outputs": []
    },
    {
      "cell_type": "code",
      "source": "import  csv \nwith open('text.csv','r')as file:\n  csv_file=csv.reader(file,delimeter=',')\n  for ele in csv_file:\n      print(ele)\n  ",
      "metadata": {
        "trusted": true
      },
      "execution_count": null,
      "outputs": []
    },
    {
      "cell_type": "code",
      "source": "3. What modes do File objects for reader and writer objects need to be opened in?\nans: for csv.readr(iterable_file_object),the file objects needed to be opened in read mode mode='r' whereas for csv.writer(iterable_file_object)\nthe file objects needed to be opened in write mode mode='w'",
      "metadata": {},
      "execution_count": null,
      "outputs": []
    },
    {
      "cell_type": "code",
      "source": "4. What method takes a list argument and writes it to a CSV file?\nans: csv.writer class provides two methods for writing to CSV.They are writerow()\nand writerows(). writerow() method writes a single row at a time.whereas writerows() method is used to write multiple rows at a time.\n",
      "metadata": {},
      "execution_count": null,
      "outputs": []
    },
    {
      "cell_type": "code",
      "source": "5. What do the keyword arguments delimiter and line terminator do?\nans: lets take the example of a csv file:\n First Name,Last Name,Age\n siri,kalayan,23\n rakshan,kumar,18\n here',' is Delimeter.We can use any character as per our needs if required.\n similarly Line Terminator comes at end of line by default it is newline and can be changed according to requirement.\n ",
      "metadata": {},
      "execution_count": null,
      "outputs": []
    },
    {
      "cell_type": "code",
      "source": "6. What function takes a string of JSON data and returns a Python data structure?\nans:  loads() method takes a string of JSON data and returns a Python data structure.\n",
      "metadata": {},
      "execution_count": null,
      "outputs": []
    },
    {
      "cell_type": "code",
      "source": "7. What function takes a Python data structure and returns a string of JSON data?\nans: dumps() method takes  a python data structure and returns a string of JSON data.",
      "metadata": {},
      "execution_count": null,
      "outputs": []
    }
  ]
}