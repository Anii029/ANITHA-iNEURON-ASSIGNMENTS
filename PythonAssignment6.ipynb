{
  "metadata": {
    "language_info": {
      "codemirror_mode": {
        "name": "python",
        "version": 3
      },
      "file_extension": ".py",
      "mimetype": "text/x-python",
      "name": "python",
      "nbconvert_exporter": "python",
      "pygments_lexer": "ipython3",
      "version": "3.8"
    },
    "kernelspec": {
      "name": "python",
      "display_name": "Python (Pyodide)",
      "language": "python"
    }
  },
  "nbformat_minor": 4,
  "nbformat": 4,
  "cells": [
    {
      "cell_type": "code",
      "source": "1. What are escape characters, and how do you use them?\nans: Escape characters represent characters in string values that would otherwise be difficult or impossible to type into code\n     we can use the backslash character to escape a single character or symbol.\n     ex: \\t,\\n",
      "metadata": {},
      "execution_count": null,
      "outputs": []
    },
    {
      "cell_type": "code",
      "source": "2. What do the escape characters n and t stand for?\nans: \\n is a newline,\\t is a tab.",
      "metadata": {},
      "execution_count": null,
      "outputs": []
    },
    {
      "cell_type": "code",
      "source": "3. What is the way to include backslash characters in a string?\nans: the \\\\ escape character will represent the backslash character in a string.",
      "metadata": {},
      "execution_count": null,
      "outputs": []
    },
    {
      "cell_type": "code",
      "source": "4. The string \"Howl's Moving Castle\" is a correct value. Why isn't the single quote character in the\nword Howl's not escaped a problem?\nans: the string \"Howl's Moving Castle\" escaped the problem because it is wrapped inside double quotes.if its wrapped inside single quotes\n     then we have to use escape character \\' to show single quote in the final output.\n     ",
      "metadata": {},
      "execution_count": null,
      "outputs": []
    },
    {
      "cell_type": "code",
      "source": "'How\\'s Moving Castle'",
      "metadata": {
        "trusted": true
      },
      "execution_count": 1,
      "outputs": [
        {
          "execution_count": 1,
          "output_type": "execute_result",
          "data": {
            "text/plain": "\"How's Moving Castle\""
          },
          "metadata": {}
        }
      ]
    },
    {
      "cell_type": "code",
      "source": "5. How do you write a string of newlines if you don't want to use the n character?\nans: Multiline string allow you to use newlines in string without the\\n escape character.\n",
      "metadata": {},
      "execution_count": null,
      "outputs": []
    },
    {
      "cell_type": "code",
      "source": "a='''Howl's Moving Castle'''\nprint(a)",
      "metadata": {
        "trusted": true
      },
      "execution_count": 2,
      "outputs": [
        {
          "name": "stdout",
          "text": "Howl's Moving Castle\n",
          "output_type": "stream"
        }
      ]
    },
    {
      "cell_type": "code",
      "source": "6. What are the values of the given expressions?\n'Hello, world!'[1]\n'Hello, world!'[0:5]\n'Hello, world!'[:5]\n'Hello, world!'[3:]",
      "metadata": {},
      "execution_count": null,
      "outputs": []
    },
    {
      "cell_type": "code",
      "source": "'Hello, world!'[1]",
      "metadata": {
        "trusted": true
      },
      "execution_count": 3,
      "outputs": [
        {
          "execution_count": 3,
          "output_type": "execute_result",
          "data": {
            "text/plain": "'e'"
          },
          "metadata": {}
        }
      ]
    },
    {
      "cell_type": "code",
      "source": "'Hello, world!'[0:5]",
      "metadata": {
        "trusted": true
      },
      "execution_count": 5,
      "outputs": [
        {
          "execution_count": 5,
          "output_type": "execute_result",
          "data": {
            "text/plain": "'Hello'"
          },
          "metadata": {}
        }
      ]
    },
    {
      "cell_type": "code",
      "source": "'Hello, world!'[:5]",
      "metadata": {
        "trusted": true
      },
      "execution_count": 6,
      "outputs": [
        {
          "execution_count": 6,
          "output_type": "execute_result",
          "data": {
            "text/plain": "'Hello'"
          },
          "metadata": {}
        }
      ]
    },
    {
      "cell_type": "code",
      "source": "'Hello, world!'[3:]",
      "metadata": {
        "trusted": true
      },
      "execution_count": 7,
      "outputs": [
        {
          "execution_count": 7,
          "output_type": "execute_result",
          "data": {
            "text/plain": "'lo, world!'"
          },
          "metadata": {}
        }
      ]
    },
    {
      "cell_type": "code",
      "source": "7. What are the values of the following expressions?\n'Hello'.upper()\n'Hello'.upper().isupper()\n'Hello'.upper().lower()",
      "metadata": {},
      "execution_count": null,
      "outputs": []
    },
    {
      "cell_type": "code",
      "source": "'Hello'.upper()",
      "metadata": {
        "trusted": true
      },
      "execution_count": 8,
      "outputs": [
        {
          "execution_count": 8,
          "output_type": "execute_result",
          "data": {
            "text/plain": "'HELLO'"
          },
          "metadata": {}
        }
      ]
    },
    {
      "cell_type": "code",
      "source": "'Hello'.upper().isupper()",
      "metadata": {
        "trusted": true
      },
      "execution_count": 9,
      "outputs": [
        {
          "execution_count": 9,
          "output_type": "execute_result",
          "data": {
            "text/plain": "True"
          },
          "metadata": {}
        }
      ]
    },
    {
      "cell_type": "code",
      "source": "'Hello'.upper().lower()",
      "metadata": {
        "trusted": true
      },
      "execution_count": 10,
      "outputs": [
        {
          "execution_count": 10,
          "output_type": "execute_result",
          "data": {
            "text/plain": "'hello'"
          },
          "metadata": {}
        }
      ]
    },
    {
      "cell_type": "code",
      "source": "8. What are the values of the following expressions?\n'Remember, remember, the fifth of July'.split()\n'-'.join('There can only one'.split())",
      "metadata": {},
      "execution_count": null,
      "outputs": []
    },
    {
      "cell_type": "code",
      "source": "'Remember, remember, the fifth of July'.split()\n",
      "metadata": {
        "trusted": true
      },
      "execution_count": 12,
      "outputs": [
        {
          "execution_count": 12,
          "output_type": "execute_result",
          "data": {
            "text/plain": "['Remember,', 'remember,', 'the', 'fifth', 'of', 'July']"
          },
          "metadata": {}
        }
      ]
    },
    {
      "cell_type": "code",
      "source": "'-'.join('There can only one'.split())",
      "metadata": {
        "trusted": true
      },
      "execution_count": 13,
      "outputs": [
        {
          "execution_count": 13,
          "output_type": "execute_result",
          "data": {
            "text/plain": "'There-can-only-one'"
          },
          "metadata": {}
        }
      ]
    },
    {
      "cell_type": "code",
      "source": "9. What are the methods for right-justifying, left-justifying, and centering a string?\nans: rjust(),ljust(),center()  are string methods respectively.",
      "metadata": {},
      "execution_count": null,
      "outputs": []
    },
    {
      "cell_type": "code",
      "source": "10. What is the best way to remove whitespace characters from the start or end?\nans: the lstrip() and rstrip() methods remove whitespace characters from the left and right ends of a string respectively.",
      "metadata": {},
      "execution_count": null,
      "outputs": []
    }
  ]
}