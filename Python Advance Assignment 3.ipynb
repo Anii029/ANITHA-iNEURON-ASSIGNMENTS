{
  "metadata": {
    "kernelspec": {
      "name": "python",
      "display_name": "Python (Pyodide)",
      "language": "python"
    },
    "language_info": {
      "name": ""
    }
  },
  "nbformat_minor": 4,
  "nbformat": 4,
  "cells": [
    {
      "cell_type": "code",
      "source": "1. What is the concept of an abstract superclass?\nAns: An abstract class/superclass can be considered as a blueprint for other classes. It allows you to create a set of methods that must be created within any child classes built from the abstract class. A class which contains one or more abstract methods is called an abstract class.\n\nWhereas an abstract method is a method that has a declaration but does not have an implementation\n\n",
      "metadata": {
        "trusted": true
      },
      "outputs": [],
      "execution_count": null
    },
    {
      "cell_type": "code",
      "source": "from abc import ABC, abstractmethod\nclass Polygon(ABC): # Abstract Class\n    @abstractmethod\n    def noofsides(self): # Abstract Method\n        pass\nclass Triangle(Polygon):\n    def noofsides(self):  # overriding abstract method in child class Triangle\n        print(\"I have 3 sides\")\nclass Pentagon(Polygon):\n    def noofsides(self): # overriding abstract method in child class Pentagon\n        print(\"I have 5 sides\")\n",
      "metadata": {
        "trusted": true
      },
      "outputs": [],
      "execution_count": null
    },
    {
      "cell_type": "code",
      "source": "2. What happens when a class statement's top level contains a basic assignment statement?\nAns: When a Class statement's top level contains a basic assignment statement, its usually treated as a class attribute or class level variable.\n\nwhere as assignment statements inside methods are treated as instance attributes or local attributes.\n\nWhen an instance of a class is created a single copy of class attributes is maintained and shared to all instances of class. where as each instance object maintains its own copy of instance variables.\n\n",
      "metadata": {
        "trusted": true
      },
      "outputs": [],
      "execution_count": null
    },
    {
      "cell_type": "code",
      "source": "class Person:\n    species = 'Homesapiens' # class attribute\n    def __init__(self,name,gender):\n        self.name = name # instance attributes\n        self.gender = gender\n",
      "metadata": {
        "trusted": true
      },
      "outputs": [],
      "execution_count": null
    },
    {
      "cell_type": "code",
      "source": "3. Why does a class need to manually call a superclass's init method?\nAns: if a child class has __init__ method, then it will not inherit the __init__ method of the parent class. in other words the __init__ method of the child class overrides the __init__ method of the parent class. so we have to manually call a parent superclass's __init__ using super() method\n\n",
      "metadata": {
        "trusted": true
      },
      "outputs": [],
      "execution_count": null
    },
    {
      "cell_type": "code",
      "source": "class Person:\n    def __init__(self,name,age):\n        self.name = name\n        self.age = age       \nclass Employee(Person):\n    def __init__(self,name,age,salary):\n        super().__init__(name,age)\n        self.salary = salary\nemp_1 = Employee('Vivek',28,20000)\nprint(emp_1.__dict__)\n{'name': 'Vivek', 'age': 28, 'salary': 20000}\n",
      "metadata": {
        "trusted": true
      },
      "outputs": [],
      "execution_count": null
    },
    {
      "cell_type": "code",
      "source": "4. How can you augment, instead of completely replacing, an inherited method?\nAns: super() method can be used to augment, instead of completely replacing, an inherited method.\n\n",
      "metadata": {
        "trusted": true
      },
      "outputs": [],
      "execution_count": null
    },
    {
      "cell_type": "code",
      "source": "class Person:\n    def __init__(self,name,gender):\n        self.name = name\n        self.gender = gender\nclass Employee(Person):\n    def __init__(self,name,gender,salary):\n        super().__init__(name,gender) \n        self.salary = salary\nemp_1 = Employee('Vivek','Male',10000)\nprint(emp_1.__dict__)       \n{'name': 'Vivek', 'gender': 'Male', 'salary': 10000}\n",
      "metadata": {
        "trusted": true
      },
      "outputs": [],
      "execution_count": null
    },
    {
      "cell_type": "code",
      "source": "5. How is the local scope of a class different from that of a function?\nAns: A Variable which is defined inside a function is local to that function. it is accesible from the point at which it is defined until the end of the function, and exists for as long as the function is existing.\n\nSimilary a variable inside of a class also has a local variable scope. Variables which are defined in the class body (but outside all methods) are called as class level variables or class attributes. they can be referenced by there bare names within the same scope, but they can also be accessed from outside this scope if we use the attribute access operator (.). on a class or an instance of the class.\n\n",
      "metadata": {
        "trusted": true
      },
      "outputs": [],
      "execution_count": null
    },
    {
      "cell_type": "code",
      "source": "def hello(name):\n    name = name\n    print(f'you\\'re name is {name}')\nhello('Anitha Nallapati')\ntry:\n    name\nexcept NameError:\n    print('Name varible is not available outside hello function scope')\n\nclass Person:\n    species = \"HomeSapines\"\n    def __init__(self):\n        pass\nprint(Person.species) # Accessing species using class name\nMale = Person()\nprint(Male.species) # Accessing species using instance of class\nyou're name is Anitha Nallapati\nName varible is not available outside hello function scope\nHomeSapines\nHomeSapines",
      "metadata": {
        "trusted": true
      },
      "outputs": [],
      "execution_count": null
    },
    {
      "cell_type": "code",
      "source": "",
      "metadata": {
        "trusted": true
      },
      "outputs": [],
      "execution_count": null
    },
    {
      "cell_type": "code",
      "source": "",
      "metadata": {
        "trusted": true
      },
      "outputs": [],
      "execution_count": null
    },
    {
      "cell_type": "code",
      "source": "",
      "metadata": {
        "trusted": true
      },
      "outputs": [],
      "execution_count": null
    },
    {
      "cell_type": "code",
      "source": "",
      "metadata": {
        "trusted": true
      },
      "outputs": [],
      "execution_count": null
    },
    {
      "cell_type": "code",
      "source": "",
      "metadata": {
        "trusted": true
      },
      "outputs": [],
      "execution_count": null
    },
    {
      "cell_type": "code",
      "source": "",
      "metadata": {
        "trusted": true
      },
      "outputs": [],
      "execution_count": null
    }
  ]
}