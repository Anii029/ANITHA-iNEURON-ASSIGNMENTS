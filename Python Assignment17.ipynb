{
  "metadata": {
    "language_info": {
      "codemirror_mode": {
        "name": "python",
        "version": 3
      },
      "file_extension": ".py",
      "mimetype": "text/x-python",
      "name": "python",
      "nbconvert_exporter": "python",
      "pygments_lexer": "ipython3",
      "version": "3.8"
    },
    "kernelspec": {
      "name": "python",
      "display_name": "Python (Pyodide)",
      "language": "python"
    }
  },
  "nbformat_minor": 4,
  "nbformat": 4,
  "cells": [
    {
      "cell_type": "code",
      "source": "1. Assign the value 7 to the variable guess_me. Then, write the conditional tests (if, else, and elif) to\nprint the string 'too low' if guess_me is less than 7, 'too high'if greater than 7, and 'just right' if equal\nto 7.",
      "metadata": {},
      "execution_count": null,
      "outputs": []
    },
    {
      "cell_type": "code",
      "source": "def guess_me(guess_me):\n    if guess_me<7:\n        print('too low')\n    elif guess_me>7:\n        print('too High')\n    else:\n        print('just Right')\n        \nguess_me(guess_me=7)\nguess_me(guess_me=5)\nguess_me(guess_me=15)\n",
      "metadata": {
        "trusted": true
      },
      "execution_count": 1,
      "outputs": [
        {
          "name": "stdout",
          "text": "just Right\ntoo low\ntoo High\n",
          "output_type": "stream"
        }
      ]
    },
    {
      "cell_type": "code",
      "source": "2. Assign the value 7 to the variable guess_me and the value 1 to the variable start. Write a while\nloop that compares start with guess_me. Print too low if start is less than guess me. If start equals\nguess_me, print 'found it!' and exit the loop. If start is greater than guess_me, print 'oops' and exit\nthe loop. Increment start at the end of the loop.",
      "metadata": {},
      "execution_count": null,
      "outputs": []
    },
    {
      "cell_type": "code",
      "source": "guess_me=7\nstart=1\nwhile True:\n    if start <guess_me:\n        print('too low')\n    elif start==guess_me:\n        print('found it')\n        break\n    else:\n        print('oops')\n        break\n    start+=1",
      "metadata": {
        "trusted": true
      },
      "execution_count": 2,
      "outputs": [
        {
          "name": "stdout",
          "text": "too low\ntoo low\ntoo low\ntoo low\ntoo low\ntoo low\nfound it\n",
          "output_type": "stream"
        }
      ]
    },
    {
      "cell_type": "code",
      "source": "3. Print the following values of the list [3, 2, 1, 0] using a for loop.",
      "metadata": {},
      "execution_count": null,
      "outputs": []
    },
    {
      "cell_type": "code",
      "source": "in_list=[3,2,1,0]\nfor ele in in_list:\n    print(ele)",
      "metadata": {
        "trusted": true
      },
      "execution_count": 3,
      "outputs": [
        {
          "name": "stdout",
          "text": "3\n2\n1\n0\n",
          "output_type": "stream"
        }
      ]
    },
    {
      "cell_type": "code",
      "source": "4. Use a list comprehension to make a list of the even numbers in range(10)",
      "metadata": {},
      "execution_count": null,
      "outputs": []
    },
    {
      "cell_type": "code",
      "source": "print([x for x in range(10+1) if x%2==0])",
      "metadata": {
        "trusted": true
      },
      "execution_count": 4,
      "outputs": [
        {
          "name": "stdout",
          "text": "[0, 2, 4, 6, 8, 10]\n",
          "output_type": "stream"
        }
      ]
    },
    {
      "cell_type": "code",
      "source": "5. Use a dictionary comprehension to create the dictionary squares. Use range(10) to return the\nkeys, and use the square of each key as its value.",
      "metadata": {},
      "execution_count": null,
      "outputs": []
    },
    {
      "cell_type": "code",
      "source": "print({X:X**2 for X in range(10)})",
      "metadata": {
        "trusted": true
      },
      "execution_count": 5,
      "outputs": [
        {
          "name": "stdout",
          "text": "{0: 0, 1: 1, 2: 4, 3: 9, 4: 16, 5: 25, 6: 36, 7: 49, 8: 64, 9: 81}\n",
          "output_type": "stream"
        }
      ]
    },
    {
      "cell_type": "code",
      "source": "6. Construct the set odd from the odd numbers in the range using a set comprehension (10).",
      "metadata": {},
      "execution_count": null,
      "outputs": []
    },
    {
      "cell_type": "code",
      "source": "print({x for x in range(10) if x%2!=0})",
      "metadata": {
        "trusted": true
      },
      "execution_count": 6,
      "outputs": [
        {
          "name": "stdout",
          "text": "{1, 3, 5, 7, 9}\n",
          "output_type": "stream"
        }
      ]
    },
    {
      "cell_type": "code",
      "source": "7. Use a generator comprehension to return the string 'Got' and a number for the numbers in\nrange(10). Iterate through this by using a for loop.",
      "metadata": {},
      "execution_count": null,
      "outputs": []
    },
    {
      "cell_type": "code",
      "source": "gen_com=('Got'+str(x) for x in range(10))\nfor ele in gen_com:\n    print(ele, end=' ')",
      "metadata": {
        "trusted": true
      },
      "execution_count": 11,
      "outputs": [
        {
          "name": "stdout",
          "text": "Got0 Got1 Got2 Got3 Got4 Got5 Got6 Got7 Got8 Got9 ",
          "output_type": "stream"
        }
      ]
    },
    {
      "cell_type": "code",
      "source": "8. Define a function called good that returns the list ['Harry', 'Ron', 'Hermione'].",
      "metadata": {},
      "execution_count": null,
      "outputs": []
    },
    {
      "cell_type": "code",
      "source": "def good():\n    x=['Harry','Ron','Hermione']\n    return  x\nprint(good())",
      "metadata": {
        "trusted": true
      },
      "execution_count": 12,
      "outputs": [
        {
          "name": "stdout",
          "text": "['Harry', 'Ron', 'Hermione']\n",
          "output_type": "stream"
        }
      ]
    },
    {
      "cell_type": "code",
      "source": "9. Define a generator function called get_odds that returns the odd numbers from range(10). Use a\nfor loop to find and print the third value returned.",
      "metadata": {},
      "execution_count": null,
      "outputs": []
    },
    {
      "cell_type": "code",
      "source": "def get_odds():\n    output=[]\n    for ele in range(10):\n        if ele%2!=0:\n            output.append(ele)\n    yield output\nnext (get_odds())[2]",
      "metadata": {
        "trusted": true
      },
      "execution_count": 13,
      "outputs": [
        {
          "execution_count": 13,
          "output_type": "execute_result",
          "data": {
            "text/plain": "5"
          },
          "metadata": {}
        }
      ]
    },
    {
      "cell_type": "code",
      "source": "10. Define an exception called OopsException. Raise this exception to see what happens. Then write\nthe code to catch this exception and print 'Caught an oops'.",
      "metadata": {},
      "execution_count": null,
      "outputs": []
    },
    {
      "cell_type": "code",
      "source": "class OopsException(Exception):\n    pass\ndef test(input):\n    if input<0:\n        raise OopsException(a)\ntry:\n    test(-100)\nexcept Exception as e:\n    print('Caught in Oops',e)",
      "metadata": {
        "trusted": true
      },
      "execution_count": 14,
      "outputs": [
        {
          "name": "stdout",
          "text": "Caught in Oops name 'a' is not defined\n",
          "output_type": "stream"
        }
      ]
    },
    {
      "cell_type": "code",
      "source": "11. Use zip() to make a dictionary called movies that pairs these lists: titles = ['Creature of Habit',\n'Crewel Fate'] and plots = ['A nun turns into a monster', 'A haunted yarn shop'].",
      "metadata": {},
      "execution_count": null,
      "outputs": []
    },
    {
      "cell_type": "code",
      "source": "titles=['Creature of Habit','Crewel Fate']\nplots=['A nun turns into a monster','A haunted yarn shop']\noutput=dict(zip(titles,plots))\nprint(output)",
      "metadata": {
        "trusted": true
      },
      "execution_count": 15,
      "outputs": [
        {
          "name": "stdout",
          "text": "{'Creature of Habit': 'A nun turns into a monster', 'Crewel Fate': 'A haunted yarn shop'}\n",
          "output_type": "stream"
        }
      ]
    },
    {
      "cell_type": "code",
      "source": "",
      "metadata": {},
      "execution_count": null,
      "outputs": []
    },
    {
      "cell_type": "code",
      "source": "",
      "metadata": {},
      "execution_count": null,
      "outputs": []
    },
    {
      "cell_type": "code",
      "source": "",
      "metadata": {},
      "execution_count": null,
      "outputs": []
    },
    {
      "cell_type": "code",
      "source": "",
      "metadata": {},
      "execution_count": null,
      "outputs": []
    },
    {
      "cell_type": "code",
      "source": "",
      "metadata": {},
      "execution_count": null,
      "outputs": []
    },
    {
      "cell_type": "code",
      "source": "",
      "metadata": {},
      "execution_count": null,
      "outputs": []
    },
    {
      "cell_type": "code",
      "source": "",
      "metadata": {},
      "execution_count": null,
      "outputs": []
    },
    {
      "cell_type": "code",
      "source": "",
      "metadata": {},
      "execution_count": null,
      "outputs": []
    },
    {
      "cell_type": "code",
      "source": "",
      "metadata": {},
      "execution_count": null,
      "outputs": []
    },
    {
      "cell_type": "code",
      "source": "",
      "metadata": {},
      "execution_count": null,
      "outputs": []
    },
    {
      "cell_type": "code",
      "source": "",
      "metadata": {},
      "execution_count": null,
      "outputs": []
    },
    {
      "cell_type": "code",
      "source": "",
      "metadata": {},
      "execution_count": null,
      "outputs": []
    }
  ]
}