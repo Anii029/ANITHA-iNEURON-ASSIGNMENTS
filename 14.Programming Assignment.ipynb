{
  "metadata": {
    "language_info": {
      "name": ""
    },
    "kernelspec": {
      "name": "python",
      "display_name": "Python (Pyodide)",
      "language": "python"
    }
  },
  "nbformat_minor": 4,
  "nbformat": 4,
  "cells": [
    {
      "cell_type": "markdown",
      "source": "## Assignment 14 Solutions",
      "metadata": {}
    },
    {
      "cell_type": "markdown",
      "source": "##### 1.Define a class with a generator which can iterate the numbers, which are divisible by 7, between a given range 0 and n. ?",
      "metadata": {}
    },
    {
      "cell_type": "code",
      "source": "class div_generator:\n    def __init__(self,in_num):\n        self.in_num = in_num\n    def get_numbers(self):\n        for ele in range(0,self.in_num+1):\n            if ele%7 == 0:\n                yield ele\n                \noutput = div_generator(350)\nfor ele in output.get_numbers():\n    print(ele,end=' ')",
      "metadata": {},
      "execution_count": null,
      "outputs": []
    },
    {
      "cell_type": "markdown",
      "source": "0 7 14 21 28 35 42 49 56 63 70 77 84 91 98 105 112 119 126 133 140 147 154 161 168 175 182 189 196 203 210 217 224 231 238 245 252 259 266 273 280 287 294 301 308 315 322 329 336 343 350 ",
      "metadata": {}
    },
    {
      "cell_type": "markdown",
      "source": "##### 2.Write a program to compute the frequency of the words from the input. The output should output after sorting the key alphanumerically.",
      "metadata": {}
    },
    {
      "cell_type": "markdown",
      "source": "Suppose the following input is supplied to the program:\n\nNew to Python or choosing between Python 2 and Python 3? Read Python 2 or Python 3.\n\nThen, the output should be:\n\n2:2 3.:1 3?:1 New:1 Python:5 Read:1 and:1 between:1 choosing:1 or:2 to:1",
      "metadata": {}
    },
    {
      "cell_type": "code",
      "source": "def checkFrequency():\n    in_string = input(\"Enter the Input String: \")\n    frequency = {}\n    for ele in in_string.split(\" \"):\n        if(frequency.get(ele) == None):\n            frequency[ele] = 1\n        else:\n            frequency[ele] += 1 \n    for ele in sorted(frequency):\n        print(f'{ele}:{frequency[ele]}',end=\" \")\ncheckFrequency()",
      "metadata": {},
      "execution_count": null,
      "outputs": []
    },
    {
      "cell_type": "markdown",
      "source": "Enter the Input String: New to Python or choosing between Python 2 and Python 3? Read Python 2 or Python 3.\n2:2 3.:1 3?:1 New:1 Python:5 Read:1 and:1 between:1 choosing:1 or:2 to:1 ",
      "metadata": {}
    },
    {
      "cell_type": "markdown",
      "source": "##### 3.Define a class Person and its two child classes: Male and Female. All classes have a method \"getGender\" which can print \"Male\" for Male class and \"Female\" for Female class. ?",
      "metadata": {}
    },
    {
      "cell_type": "code",
      "source": "class Person():\n    def getGender():\n        pass\n    \nclass Male(Person):\n    def getGender():\n        print(\"Male\")\n        \nclass Female(Person):\n    def getGender():\n        print(\"Female\")\n\nMale.getGender()\nFemale.getGender()",
      "metadata": {},
      "execution_count": null,
      "outputs": []
    },
    {
      "cell_type": "markdown",
      "source": "Male\nFemale",
      "metadata": {}
    },
    {
      "cell_type": "markdown",
      "source": "##### 4.Please write a program to generate all sentences where subject is in [\"I\", \"You\"] and verb is in [\"Play\", \"Love\"] and the object is in [\"Hockey\",\"Football\"] ?",
      "metadata": {}
    },
    {
      "cell_type": "code",
      "source": "def generateSentences():\n    subject = ['I','You']\n    verb = ['Play','Love']\n    object = ['Hockey','Football']\n    for s in subject:\n        for v in verb:\n            for o in object:\n                print(f'{s} {v} {o}')\n                \ngenerateSentences()",
      "metadata": {},
      "execution_count": null,
      "outputs": []
    },
    {
      "cell_type": "markdown",
      "source": "I Play Hockey\n\nI Play Football\nI Love Hockey\n\nI Love Football\nYou Play Hockey\nYou Play Football\n\nYou Love Hockey\nYou Love Football",
      "metadata": {}
    },
    {
      "cell_type": "markdown",
      "source": "##### 5.Please write a program to compress and decompress the string \"hello world!hello world!hello world!hello world!\" ?",
      "metadata": {}
    },
    {
      "cell_type": "code",
      "source": "def compress(in_string):\n    output = in_string[0]\n    count = 1\n    for ele in range(len(in_string)-1):\n        if in_string[ele] == in_string[ele+1]:\n            count +=1\n        else:\n            if count > 1:\n                output += str(count)\n            output += in_string[ele+1]\n            count = 1\n    if count > 1:\n        output += str(count)            \n    print(output)\n\n\ndef decompress(in_string):\n    output = ''\n    for ele in range(len(in_string)):\n        if in_string[ele].isdigit():\n            output += output[-1]*(int(in_string[ele])-1)\n        else:\n            output += in_string[ele]\n    print(output)\n    \n        \ncompress(\"hello world!hello world!hello world!hello world!\")\ndecompress(\"hel2o world!hel2o world!hel2o world!hel2o world!\")\n\ncompress('ineuron full stack datascience')\ndecompress('ineuron ful2 stack datascience')",
      "metadata": {},
      "execution_count": null,
      "outputs": []
    },
    {
      "cell_type": "markdown",
      "source": "hel2o world!hel2o world!hel2o world!hel2o world!\nhello world!hello world!hello world!hello world!\n\nineuron ful2 stack datascience\nineuron full stack datascience",
      "metadata": {}
    },
    {
      "cell_type": "markdown",
      "source": "##### 6.Please write a binary search function which searches an item in a sorted list. The function should return the index of element to be searched in the list ?",
      "metadata": {}
    },
    {
      "cell_type": "code",
      "source": "sorted_list = [1,2,3,4,5,6,7,8,9,10]\ndef binary_search(in_list,in_num):\n    low = 0\n    high = len(in_list)-1\n    while low <= high:\n        mid = high+low//2\n        if in_list[mid] < in_num:\n            low = mid+1\n        elif in_list[mid] > in_num:\n            high = mid-1\n        else:\n            return mid\n    else:\n        return 'Input Element not in the list'\n    \nprint(binary_search(sorted_list,8))\nprint(binary_search(sorted_list,100))",
      "metadata": {},
      "execution_count": null,
      "outputs": []
    },
    {
      "cell_type": "markdown",
      "source": "7\nInput Element not in the list",
      "metadata": {}
    }
  ]
}